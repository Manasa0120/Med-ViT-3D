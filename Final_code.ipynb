{
  "cells": [
    {
      "cell_type": "markdown",
      "metadata": {
        "id": "2155d5e7"
      },
      "source": [
        "Now you can run the previous cell to import `torch` and `make_dot`."
      ]
    },
    {
      "cell_type": "markdown",
      "metadata": {
        "id": "eAI9r5x9Mjhw"
      },
      "source": [
        "Replicate original script"
      ]
    },
    {
      "cell_type": "code",
      "execution_count": 1,
      "metadata": {
        "id": "qe8mtlWoU9yI"
      },
      "outputs": [],
      "source": [
        "import tensorflow as tf\n",
        "## reduce GPU\n",
        "gpus = tf.config.experimental.list_physical_devices('GPU')\n",
        "for gpu in gpus:\n",
        "    tf.config.experimental.set_memory_growth(gpu, True)"
      ]
    },
    {
      "cell_type": "code",
      "execution_count": 2,
      "metadata": {
        "colab": {
          "base_uri": "https://localhost:8080/",
          "height": 1000
        },
        "id": "UFtychH7MlvN",
        "outputId": "49b9f6f9-e118-4442-b879-0fe8e5a4a09b"
      },
      "outputs": [
        {
          "output_type": "stream",
          "name": "stdout",
          "text": [
            "Collecting medmnist==3.0.1\n",
            "  Downloading medmnist-3.0.1-py3-none-any.whl.metadata (13 kB)\n",
            "Collecting torchattacks\n",
            "  Downloading torchattacks-3.5.1-py3-none-any.whl.metadata (927 bytes)\n",
            "Requirement already satisfied: numpy in /usr/local/lib/python3.11/dist-packages (from medmnist==3.0.1) (2.0.2)\n",
            "Requirement already satisfied: pandas in /usr/local/lib/python3.11/dist-packages (from medmnist==3.0.1) (2.2.2)\n",
            "Requirement already satisfied: scikit-learn in /usr/local/lib/python3.11/dist-packages (from medmnist==3.0.1) (1.6.1)\n",
            "Requirement already satisfied: scikit-image in /usr/local/lib/python3.11/dist-packages (from medmnist==3.0.1) (0.25.2)\n",
            "Requirement already satisfied: tqdm in /usr/local/lib/python3.11/dist-packages (from medmnist==3.0.1) (4.67.1)\n",
            "Requirement already satisfied: Pillow in /usr/local/lib/python3.11/dist-packages (from medmnist==3.0.1) (11.3.0)\n",
            "Collecting fire (from medmnist==3.0.1)\n",
            "  Downloading fire-0.7.1-py3-none-any.whl.metadata (5.8 kB)\n",
            "Requirement already satisfied: torch in /usr/local/lib/python3.11/dist-packages (from medmnist==3.0.1) (2.6.0+cu124)\n",
            "Requirement already satisfied: torchvision in /usr/local/lib/python3.11/dist-packages (from medmnist==3.0.1) (0.21.0+cu124)\n",
            "Requirement already satisfied: scipy>=0.14.0 in /usr/local/lib/python3.11/dist-packages (from torchattacks) (1.16.1)\n",
            "Collecting requests~=2.25.1 (from torchattacks)\n",
            "  Downloading requests-2.25.1-py2.py3-none-any.whl.metadata (4.2 kB)\n",
            "Collecting chardet<5,>=3.0.2 (from requests~=2.25.1->torchattacks)\n",
            "  Downloading chardet-4.0.0-py2.py3-none-any.whl.metadata (3.5 kB)\n",
            "Collecting idna<3,>=2.5 (from requests~=2.25.1->torchattacks)\n",
            "  Downloading idna-2.10-py2.py3-none-any.whl.metadata (9.1 kB)\n",
            "Collecting urllib3<1.27,>=1.21.1 (from requests~=2.25.1->torchattacks)\n",
            "  Downloading urllib3-1.26.20-py2.py3-none-any.whl.metadata (50 kB)\n",
            "\u001b[2K     \u001b[90m━━━━━━━━━━━━━━━━━━━━━━━━━━━━━━━━━━━━━━━━\u001b[0m \u001b[32m50.1/50.1 kB\u001b[0m \u001b[31m5.0 MB/s\u001b[0m eta \u001b[36m0:00:00\u001b[0m\n",
            "\u001b[?25hRequirement already satisfied: certifi>=2017.4.17 in /usr/local/lib/python3.11/dist-packages (from requests~=2.25.1->torchattacks) (2025.8.3)\n",
            "Requirement already satisfied: filelock in /usr/local/lib/python3.11/dist-packages (from torch->medmnist==3.0.1) (3.18.0)\n",
            "Requirement already satisfied: typing-extensions>=4.10.0 in /usr/local/lib/python3.11/dist-packages (from torch->medmnist==3.0.1) (4.14.1)\n",
            "Requirement already satisfied: networkx in /usr/local/lib/python3.11/dist-packages (from torch->medmnist==3.0.1) (3.5)\n",
            "Requirement already satisfied: jinja2 in /usr/local/lib/python3.11/dist-packages (from torch->medmnist==3.0.1) (3.1.6)\n",
            "Requirement already satisfied: fsspec in /usr/local/lib/python3.11/dist-packages (from torch->medmnist==3.0.1) (2025.3.0)\n",
            "Collecting nvidia-cuda-nvrtc-cu12==12.4.127 (from torch->medmnist==3.0.1)\n",
            "  Downloading nvidia_cuda_nvrtc_cu12-12.4.127-py3-none-manylinux2014_x86_64.whl.metadata (1.5 kB)\n",
            "Collecting nvidia-cuda-runtime-cu12==12.4.127 (from torch->medmnist==3.0.1)\n",
            "  Downloading nvidia_cuda_runtime_cu12-12.4.127-py3-none-manylinux2014_x86_64.whl.metadata (1.5 kB)\n",
            "Collecting nvidia-cuda-cupti-cu12==12.4.127 (from torch->medmnist==3.0.1)\n",
            "  Downloading nvidia_cuda_cupti_cu12-12.4.127-py3-none-manylinux2014_x86_64.whl.metadata (1.6 kB)\n",
            "Collecting nvidia-cudnn-cu12==9.1.0.70 (from torch->medmnist==3.0.1)\n",
            "  Downloading nvidia_cudnn_cu12-9.1.0.70-py3-none-manylinux2014_x86_64.whl.metadata (1.6 kB)\n",
            "Collecting nvidia-cublas-cu12==12.4.5.8 (from torch->medmnist==3.0.1)\n",
            "  Downloading nvidia_cublas_cu12-12.4.5.8-py3-none-manylinux2014_x86_64.whl.metadata (1.5 kB)\n",
            "Collecting nvidia-cufft-cu12==11.2.1.3 (from torch->medmnist==3.0.1)\n",
            "  Downloading nvidia_cufft_cu12-11.2.1.3-py3-none-manylinux2014_x86_64.whl.metadata (1.5 kB)\n",
            "Collecting nvidia-curand-cu12==10.3.5.147 (from torch->medmnist==3.0.1)\n",
            "  Downloading nvidia_curand_cu12-10.3.5.147-py3-none-manylinux2014_x86_64.whl.metadata (1.5 kB)\n",
            "Collecting nvidia-cusolver-cu12==11.6.1.9 (from torch->medmnist==3.0.1)\n",
            "  Downloading nvidia_cusolver_cu12-11.6.1.9-py3-none-manylinux2014_x86_64.whl.metadata (1.6 kB)\n",
            "Collecting nvidia-cusparse-cu12==12.3.1.170 (from torch->medmnist==3.0.1)\n",
            "  Downloading nvidia_cusparse_cu12-12.3.1.170-py3-none-manylinux2014_x86_64.whl.metadata (1.6 kB)\n",
            "Requirement already satisfied: nvidia-cusparselt-cu12==0.6.2 in /usr/local/lib/python3.11/dist-packages (from torch->medmnist==3.0.1) (0.6.2)\n",
            "Collecting nvidia-nccl-cu12==2.21.5 (from torch->medmnist==3.0.1)\n",
            "  Downloading nvidia_nccl_cu12-2.21.5-py3-none-manylinux2014_x86_64.whl.metadata (1.8 kB)\n",
            "Requirement already satisfied: nvidia-nvtx-cu12==12.4.127 in /usr/local/lib/python3.11/dist-packages (from torch->medmnist==3.0.1) (12.4.127)\n",
            "Collecting nvidia-nvjitlink-cu12==12.4.127 (from torch->medmnist==3.0.1)\n",
            "  Downloading nvidia_nvjitlink_cu12-12.4.127-py3-none-manylinux2014_x86_64.whl.metadata (1.5 kB)\n",
            "Requirement already satisfied: triton==3.2.0 in /usr/local/lib/python3.11/dist-packages (from torch->medmnist==3.0.1) (3.2.0)\n",
            "Requirement already satisfied: sympy==1.13.1 in /usr/local/lib/python3.11/dist-packages (from torch->medmnist==3.0.1) (1.13.1)\n",
            "Requirement already satisfied: mpmath<1.4,>=1.1.0 in /usr/local/lib/python3.11/dist-packages (from sympy==1.13.1->torch->medmnist==3.0.1) (1.3.0)\n",
            "Requirement already satisfied: termcolor in /usr/local/lib/python3.11/dist-packages (from fire->medmnist==3.0.1) (3.1.0)\n",
            "Requirement already satisfied: python-dateutil>=2.8.2 in /usr/local/lib/python3.11/dist-packages (from pandas->medmnist==3.0.1) (2.9.0.post0)\n",
            "Requirement already satisfied: pytz>=2020.1 in /usr/local/lib/python3.11/dist-packages (from pandas->medmnist==3.0.1) (2025.2)\n",
            "Requirement already satisfied: tzdata>=2022.7 in /usr/local/lib/python3.11/dist-packages (from pandas->medmnist==3.0.1) (2025.2)\n",
            "Requirement already satisfied: imageio!=2.35.0,>=2.33 in /usr/local/lib/python3.11/dist-packages (from scikit-image->medmnist==3.0.1) (2.37.0)\n",
            "Requirement already satisfied: tifffile>=2022.8.12 in /usr/local/lib/python3.11/dist-packages (from scikit-image->medmnist==3.0.1) (2025.6.11)\n",
            "Requirement already satisfied: packaging>=21 in /usr/local/lib/python3.11/dist-packages (from scikit-image->medmnist==3.0.1) (25.0)\n",
            "Requirement already satisfied: lazy-loader>=0.4 in /usr/local/lib/python3.11/dist-packages (from scikit-image->medmnist==3.0.1) (0.4)\n",
            "Requirement already satisfied: joblib>=1.2.0 in /usr/local/lib/python3.11/dist-packages (from scikit-learn->medmnist==3.0.1) (1.5.1)\n",
            "Requirement already satisfied: threadpoolctl>=3.1.0 in /usr/local/lib/python3.11/dist-packages (from scikit-learn->medmnist==3.0.1) (3.6.0)\n",
            "Requirement already satisfied: six>=1.5 in /usr/local/lib/python3.11/dist-packages (from python-dateutil>=2.8.2->pandas->medmnist==3.0.1) (1.17.0)\n",
            "Requirement already satisfied: MarkupSafe>=2.0 in /usr/local/lib/python3.11/dist-packages (from jinja2->torch->medmnist==3.0.1) (3.0.2)\n",
            "Downloading medmnist-3.0.1-py3-none-any.whl (25 kB)\n",
            "Downloading torchattacks-3.5.1-py3-none-any.whl (142 kB)\n",
            "\u001b[2K   \u001b[90m━━━━━━━━━━━━━━━━━━━━━━━━━━━━━━━━━━━━━━━━\u001b[0m \u001b[32m142.0/142.0 kB\u001b[0m \u001b[31m12.4 MB/s\u001b[0m eta \u001b[36m0:00:00\u001b[0m\n",
            "\u001b[?25hDownloading requests-2.25.1-py2.py3-none-any.whl (61 kB)\n",
            "\u001b[2K   \u001b[90m━━━━━━━━━━━━━━━━━━━━━━━━━━━━━━━━━━━━━━━━\u001b[0m \u001b[32m61.2/61.2 kB\u001b[0m \u001b[31m7.4 MB/s\u001b[0m eta \u001b[36m0:00:00\u001b[0m\n",
            "\u001b[?25hDownloading nvidia_cublas_cu12-12.4.5.8-py3-none-manylinux2014_x86_64.whl (363.4 MB)\n",
            "\u001b[2K   \u001b[90m━━━━━━━━━━━━━━━━━━━━━━━━━━━━━━━━━━━━━━━━\u001b[0m \u001b[32m363.4/363.4 MB\u001b[0m \u001b[31m1.5 MB/s\u001b[0m eta \u001b[36m0:00:00\u001b[0m\n",
            "\u001b[?25hDownloading nvidia_cuda_cupti_cu12-12.4.127-py3-none-manylinux2014_x86_64.whl (13.8 MB)\n",
            "\u001b[2K   \u001b[90m━━━━━━━━━━━━━━━━━━━━━━━━━━━━━━━━━━━━━━━━\u001b[0m \u001b[32m13.8/13.8 MB\u001b[0m \u001b[31m71.7 MB/s\u001b[0m eta \u001b[36m0:00:00\u001b[0m\n",
            "\u001b[?25hDownloading nvidia_cuda_nvrtc_cu12-12.4.127-py3-none-manylinux2014_x86_64.whl (24.6 MB)\n",
            "\u001b[2K   \u001b[90m━━━━━━━━━━━━━━━━━━━━━━━━━━━━━━━━━━━━━━━━\u001b[0m \u001b[32m24.6/24.6 MB\u001b[0m \u001b[31m66.8 MB/s\u001b[0m eta \u001b[36m0:00:00\u001b[0m\n",
            "\u001b[?25hDownloading nvidia_cuda_runtime_cu12-12.4.127-py3-none-manylinux2014_x86_64.whl (883 kB)\n",
            "\u001b[2K   \u001b[90m━━━━━━━━━━━━━━━━━━━━━━━━━━━━━━━━━━━━━━━━\u001b[0m \u001b[32m883.7/883.7 kB\u001b[0m \u001b[31m59.5 MB/s\u001b[0m eta \u001b[36m0:00:00\u001b[0m\n",
            "\u001b[?25hDownloading nvidia_cudnn_cu12-9.1.0.70-py3-none-manylinux2014_x86_64.whl (664.8 MB)\n",
            "\u001b[2K   \u001b[90m━━━━━━━━━━━━━━━━━━━━━━━━━━━━━━━━━━━━━━━━\u001b[0m \u001b[32m664.8/664.8 MB\u001b[0m \u001b[31m2.3 MB/s\u001b[0m eta \u001b[36m0:00:00\u001b[0m\n",
            "\u001b[?25hDownloading nvidia_cufft_cu12-11.2.1.3-py3-none-manylinux2014_x86_64.whl (211.5 MB)\n",
            "\u001b[2K   \u001b[90m━━━━━━━━━━━━━━━━━━━━━━━━━━━━━━━━━━━━━━━━\u001b[0m \u001b[32m211.5/211.5 MB\u001b[0m \u001b[31m5.6 MB/s\u001b[0m eta \u001b[36m0:00:00\u001b[0m\n",
            "\u001b[?25hDownloading nvidia_curand_cu12-10.3.5.147-py3-none-manylinux2014_x86_64.whl (56.3 MB)\n",
            "\u001b[2K   \u001b[90m━━━━━━━━━━━━━━━━━━━━━━━━━━━━━━━━━━━━━━━━\u001b[0m \u001b[32m56.3/56.3 MB\u001b[0m \u001b[31m13.0 MB/s\u001b[0m eta \u001b[36m0:00:00\u001b[0m\n",
            "\u001b[?25hDownloading nvidia_cusolver_cu12-11.6.1.9-py3-none-manylinux2014_x86_64.whl (127.9 MB)\n",
            "\u001b[2K   \u001b[90m━━━━━━━━━━━━━━━━━━━━━━━━━━━━━━━━━━━━━━━━\u001b[0m \u001b[32m127.9/127.9 MB\u001b[0m \u001b[31m8.3 MB/s\u001b[0m eta \u001b[36m0:00:00\u001b[0m\n",
            "\u001b[?25hDownloading nvidia_cusparse_cu12-12.3.1.170-py3-none-manylinux2014_x86_64.whl (207.5 MB)\n",
            "\u001b[2K   \u001b[90m━━━━━━━━━━━━━━━━━━━━━━━━━━━━━━━━━━━━━━━━\u001b[0m \u001b[32m207.5/207.5 MB\u001b[0m \u001b[31m5.7 MB/s\u001b[0m eta \u001b[36m0:00:00\u001b[0m\n",
            "\u001b[?25hDownloading nvidia_nccl_cu12-2.21.5-py3-none-manylinux2014_x86_64.whl (188.7 MB)\n",
            "\u001b[2K   \u001b[90m━━━━━━━━━━━━━━━━━━━━━━━━━━━━━━━━━━━━━━━━\u001b[0m \u001b[32m188.7/188.7 MB\u001b[0m \u001b[31m6.0 MB/s\u001b[0m eta \u001b[36m0:00:00\u001b[0m\n",
            "\u001b[?25hDownloading nvidia_nvjitlink_cu12-12.4.127-py3-none-manylinux2014_x86_64.whl (21.1 MB)\n",
            "\u001b[2K   \u001b[90m━━━━━━━━━━━━━━━━━━━━━━━━━━━━━━━━━━━━━━━━\u001b[0m \u001b[32m21.1/21.1 MB\u001b[0m \u001b[31m49.0 MB/s\u001b[0m eta \u001b[36m0:00:00\u001b[0m\n",
            "\u001b[?25hDownloading fire-0.7.1-py3-none-any.whl (115 kB)\n",
            "\u001b[2K   \u001b[90m━━━━━━━━━━━━━━━━━━━━━━━━━━━━━━━━━━━━━━━━\u001b[0m \u001b[32m115.9/115.9 kB\u001b[0m \u001b[31m13.9 MB/s\u001b[0m eta \u001b[36m0:00:00\u001b[0m\n",
            "\u001b[?25hDownloading chardet-4.0.0-py2.py3-none-any.whl (178 kB)\n",
            "\u001b[2K   \u001b[90m━━━━━━━━━━━━━━━━━━━━━━━━━━━━━━━━━━━━━━━━\u001b[0m \u001b[32m178.7/178.7 kB\u001b[0m \u001b[31m20.9 MB/s\u001b[0m eta \u001b[36m0:00:00\u001b[0m\n",
            "\u001b[?25hDownloading idna-2.10-py2.py3-none-any.whl (58 kB)\n",
            "\u001b[2K   \u001b[90m━━━━━━━━━━━━━━━━━━━━━━━━━━━━━━━━━━━━━━━━\u001b[0m \u001b[32m58.8/58.8 kB\u001b[0m \u001b[31m6.7 MB/s\u001b[0m eta \u001b[36m0:00:00\u001b[0m\n",
            "\u001b[?25hDownloading urllib3-1.26.20-py2.py3-none-any.whl (144 kB)\n",
            "\u001b[2K   \u001b[90m━━━━━━━━━━━━━━━━━━━━━━━━━━━━━━━━━━━━━━━━\u001b[0m \u001b[32m144.2/144.2 kB\u001b[0m \u001b[31m16.9 MB/s\u001b[0m eta \u001b[36m0:00:00\u001b[0m\n",
            "\u001b[?25hInstalling collected packages: urllib3, nvidia-nvjitlink-cu12, nvidia-nccl-cu12, nvidia-curand-cu12, nvidia-cufft-cu12, nvidia-cuda-runtime-cu12, nvidia-cuda-nvrtc-cu12, nvidia-cuda-cupti-cu12, nvidia-cublas-cu12, idna, fire, chardet, requests, nvidia-cusparse-cu12, nvidia-cudnn-cu12, nvidia-cusolver-cu12, torchattacks, medmnist\n",
            "  Attempting uninstall: urllib3\n",
            "    Found existing installation: urllib3 2.5.0\n",
            "    Uninstalling urllib3-2.5.0:\n",
            "      Successfully uninstalled urllib3-2.5.0\n",
            "  Attempting uninstall: nvidia-nvjitlink-cu12\n",
            "    Found existing installation: nvidia-nvjitlink-cu12 12.5.82\n",
            "    Uninstalling nvidia-nvjitlink-cu12-12.5.82:\n",
            "      Successfully uninstalled nvidia-nvjitlink-cu12-12.5.82\n",
            "  Attempting uninstall: nvidia-nccl-cu12\n",
            "    Found existing installation: nvidia-nccl-cu12 2.23.4\n",
            "    Uninstalling nvidia-nccl-cu12-2.23.4:\n",
            "      Successfully uninstalled nvidia-nccl-cu12-2.23.4\n",
            "  Attempting uninstall: nvidia-curand-cu12\n",
            "    Found existing installation: nvidia-curand-cu12 10.3.6.82\n",
            "    Uninstalling nvidia-curand-cu12-10.3.6.82:\n",
            "      Successfully uninstalled nvidia-curand-cu12-10.3.6.82\n",
            "  Attempting uninstall: nvidia-cufft-cu12\n",
            "    Found existing installation: nvidia-cufft-cu12 11.2.3.61\n",
            "    Uninstalling nvidia-cufft-cu12-11.2.3.61:\n",
            "      Successfully uninstalled nvidia-cufft-cu12-11.2.3.61\n",
            "  Attempting uninstall: nvidia-cuda-runtime-cu12\n",
            "    Found existing installation: nvidia-cuda-runtime-cu12 12.5.82\n",
            "    Uninstalling nvidia-cuda-runtime-cu12-12.5.82:\n",
            "      Successfully uninstalled nvidia-cuda-runtime-cu12-12.5.82\n",
            "  Attempting uninstall: nvidia-cuda-nvrtc-cu12\n",
            "    Found existing installation: nvidia-cuda-nvrtc-cu12 12.5.82\n",
            "    Uninstalling nvidia-cuda-nvrtc-cu12-12.5.82:\n",
            "      Successfully uninstalled nvidia-cuda-nvrtc-cu12-12.5.82\n",
            "  Attempting uninstall: nvidia-cuda-cupti-cu12\n",
            "    Found existing installation: nvidia-cuda-cupti-cu12 12.5.82\n",
            "    Uninstalling nvidia-cuda-cupti-cu12-12.5.82:\n",
            "      Successfully uninstalled nvidia-cuda-cupti-cu12-12.5.82\n",
            "  Attempting uninstall: nvidia-cublas-cu12\n",
            "    Found existing installation: nvidia-cublas-cu12 12.5.3.2\n",
            "    Uninstalling nvidia-cublas-cu12-12.5.3.2:\n",
            "      Successfully uninstalled nvidia-cublas-cu12-12.5.3.2\n",
            "  Attempting uninstall: idna\n",
            "    Found existing installation: idna 3.10\n",
            "    Uninstalling idna-3.10:\n",
            "      Successfully uninstalled idna-3.10\n",
            "  Attempting uninstall: chardet\n",
            "    Found existing installation: chardet 5.2.0\n",
            "    Uninstalling chardet-5.2.0:\n",
            "      Successfully uninstalled chardet-5.2.0\n",
            "  Attempting uninstall: requests\n",
            "    Found existing installation: requests 2.32.3\n",
            "    Uninstalling requests-2.32.3:\n",
            "      Successfully uninstalled requests-2.32.3\n",
            "  Attempting uninstall: nvidia-cusparse-cu12\n",
            "    Found existing installation: nvidia-cusparse-cu12 12.5.1.3\n",
            "    Uninstalling nvidia-cusparse-cu12-12.5.1.3:\n",
            "      Successfully uninstalled nvidia-cusparse-cu12-12.5.1.3\n",
            "  Attempting uninstall: nvidia-cudnn-cu12\n",
            "    Found existing installation: nvidia-cudnn-cu12 9.3.0.75\n",
            "    Uninstalling nvidia-cudnn-cu12-9.3.0.75:\n",
            "      Successfully uninstalled nvidia-cudnn-cu12-9.3.0.75\n",
            "  Attempting uninstall: nvidia-cusolver-cu12\n",
            "    Found existing installation: nvidia-cusolver-cu12 11.6.3.83\n",
            "    Uninstalling nvidia-cusolver-cu12-11.6.3.83:\n",
            "      Successfully uninstalled nvidia-cusolver-cu12-11.6.3.83\n",
            "\u001b[31mERROR: pip's dependency resolver does not currently take into account all the packages that are installed. This behaviour is the source of the following dependency conflicts.\n",
            "google-colab 1.0.0 requires requests==2.32.3, but you have requests 2.25.1 which is incompatible.\n",
            "tweepy 4.16.0 requires requests<3,>=2.27.0, but you have requests 2.25.1 which is incompatible.\n",
            "google-genai 1.29.0 requires requests<3.0.0,>=2.28.1, but you have requests 2.25.1 which is incompatible.\n",
            "sphinx 8.2.3 requires requests>=2.30.0, but you have requests 2.25.1 which is incompatible.\n",
            "yfinance 0.2.65 requires requests>=2.31, but you have requests 2.25.1 which is incompatible.\n",
            "bigframes 2.15.0 requires requests>=2.27.1, but you have requests 2.25.1 which is incompatible.\n",
            "libpysal 4.13.0 requires requests>=2.27, but you have requests 2.25.1 which is incompatible.\n",
            "datasets 4.0.0 requires requests>=2.32.2, but you have requests 2.25.1 which is incompatible.\n",
            "tiktoken 0.11.0 requires requests>=2.26.0, but you have requests 2.25.1 which is incompatible.\u001b[0m\u001b[31m\n",
            "\u001b[0mSuccessfully installed chardet-4.0.0 fire-0.7.1 idna-2.10 medmnist-3.0.1 nvidia-cublas-cu12-12.4.5.8 nvidia-cuda-cupti-cu12-12.4.127 nvidia-cuda-nvrtc-cu12-12.4.127 nvidia-cuda-runtime-cu12-12.4.127 nvidia-cudnn-cu12-9.1.0.70 nvidia-cufft-cu12-11.2.1.3 nvidia-curand-cu12-10.3.5.147 nvidia-cusolver-cu12-11.6.1.9 nvidia-cusparse-cu12-12.3.1.170 nvidia-nccl-cu12-2.21.5 nvidia-nvjitlink-cu12-12.4.127 requests-2.25.1 torchattacks-3.5.1 urllib3-1.26.20\n"
          ]
        },
        {
          "output_type": "display_data",
          "data": {
            "application/vnd.colab-display-data+json": {
              "pip_warning": {
                "packages": [
                  "chardet",
                  "idna",
                  "nvidia",
                  "requests",
                  "urllib3"
                ]
              },
              "id": "2f4b1b72c0c6408eacb16b826c3a674f"
            }
          },
          "metadata": {}
        }
      ],
      "source": [
        "!pip install medmnist==3.0.1 \\\n",
        "    torchattacks"
      ]
    },
    {
      "cell_type": "code",
      "execution_count": 1,
      "metadata": {
        "id": "_aD3CYXqM06G"
      },
      "outputs": [],
      "source": [
        "import os\n",
        "import sys\n",
        "import numpy as np\n",
        "import matplotlib.pyplot as plt\n",
        "%matplotlib inline\n",
        "\n",
        "import torch.nn as nn\n",
        "import torch.optim as optim\n",
        "import torch.utils.data as data\n",
        "\n",
        "import torchvision.utils\n",
        "from torchvision import models\n",
        "import torchvision.datasets as dsets\n",
        "from torchsummary import summary\n",
        "\n",
        "from tqdm import tqdm\n",
        "import medmnist\n",
        "from medmnist import INFO, Evaluator\n",
        "\n",
        "import torchattacks\n",
        "from torchattacks import PGD, FGSM\n",
        "from torch.utils.data import Subset, random_split, DataLoader\n",
        "from torchvision import transforms\n",
        "import torchvision\n",
        "import random\n",
        "import torch\n",
        "import pandas as pd\n",
        "from torchvision.transforms.transforms import Resize\n",
        "from sklearn.metrics import precision_score, recall_score, f1_score, confusion_matrix\n",
        "## loading history\n",
        "from sklearn.metrics import roc_auc_score, accuracy_score\n",
        "import pandas as pd\n",
        "import time\n"
      ]
    },
    {
      "cell_type": "code",
      "execution_count": 2,
      "metadata": {
        "colab": {
          "base_uri": "https://localhost:8080/"
        },
        "id": "2CsEux3TNGoi",
        "outputId": "ce4ce138-b09b-419f-9501-fd7eb5d18a53"
      },
      "outputs": [
        {
          "output_type": "stream",
          "name": "stdout",
          "text": [
            "PyTorch 2.6.0+cu124\n",
            "Torchvision 0.21.0+cu124\n",
            "Torchattacks 3.5.1\n",
            "Numpy 2.0.2\n",
            "Medmnist 3.0.1\n"
          ]
        }
      ],
      "source": [
        "print(\"PyTorch\", torch.__version__)\n",
        "print(\"Torchvision\", torchvision.__version__)\n",
        "print(\"Torchattacks\", torchattacks.__version__)\n",
        "print(\"Numpy\", np.__version__)\n",
        "print(\"Medmnist\", medmnist.__version__)"
      ]
    },
    {
      "cell_type": "code",
      "source": [
        "### lower down sample: 1000 sample\n",
        "\n",
        "def med3dfulldata(DataClass):\n",
        "  transform = lambda x: torch.from_numpy(x).squeeze(1).float()\n",
        "  train_dataset = DataClass(split='train', transform=transform, download=True)\n",
        "  val_dataset = DataClass(split='val', transform=transform, download=True)\n",
        "  test_dataset = DataClass(split='test', transform=transform, download=True)\n",
        "\n",
        "  # encapsulate data into dataloader form\n",
        "  train_loader = data.DataLoader(dataset=train_dataset, batch_size=BATCH_SIZE, shuffle=True)\n",
        "  train_loader_at_eval = data.DataLoader(dataset=train_dataset, batch_size=2*BATCH_SIZE, shuffle=False)\n",
        "  test_loader = data.DataLoader(dataset=test_dataset, batch_size=2*BATCH_SIZE, shuffle=False)\n",
        "  return train_loader, train_loader_at_eval, test_loader\n",
        "\n",
        "# --- Helper to create a single batch with all classes ---\n",
        "def get_one_batch_with_all_classes(dataset, num_classes, batch_size=32):\n",
        "    loader = DataLoader(dataset=dataset, batch_size=batch_size, shuffle=False)\n",
        "    all_inputs, all_targets = [], []\n",
        "    seen_classes = set()\n",
        "\n",
        "    for x, y in loader:\n",
        "        all_inputs.append(x)\n",
        "        all_targets.append(y)\n",
        "        seen_classes.update(y.squeeze().tolist())\n",
        "\n",
        "        if len(seen_classes) == num_classes:\n",
        "            all_inputs = torch.cat(all_inputs, dim=0)\n",
        "            all_targets = torch.cat(all_targets, dim=0)\n",
        "            return [(all_inputs, all_targets)]\n",
        "    raise ValueError(f\"Could not find all {num_classes} classes in the dataset.\")\n",
        "\n",
        "def data_input_loading(data_flag, BATCH_SIZE=15, lr=0.0005, NUM_EPOCHS=5, total_samples=1500, med3d = False):\n",
        "    download = True\n",
        "    info = INFO[data_flag]\n",
        "    task = info['task']\n",
        "    n_channels = info['n_channels']\n",
        "    n_classes = len(info['label'])\n",
        "    DataClass = getattr(medmnist, info['python_class'])\n",
        "\n",
        "    if med3d:\n",
        "      train_loader, train_loader_at_eval, test_loader = med3dfulldata(DataClass)\n",
        "    else:\n",
        "      # preprocessing\n",
        "      train_transform = transforms.Compose([\n",
        "          transforms.Resize(224),\n",
        "          transforms.Lambda(lambda image: image.convert('RGB')),\n",
        "          torchvision.transforms.AugMix(),\n",
        "          transforms.ToTensor(),\n",
        "          transforms.Normalize(mean=[.5], std=[.5])\n",
        "      ])\n",
        "      test_transform = transforms.Compose([\n",
        "          transforms.Resize(224),\n",
        "          transforms.Lambda(lambda image: image.convert('RGB')),\n",
        "          transforms.ToTensor(),\n",
        "          transforms.Normalize(mean=[.5], std=[.5])\n",
        "      ])\n",
        "\n",
        "      # Load full dataset first (train + test combined)\n",
        "      full_dataset = DataClass(split='train', transform=train_transform, download=download)\n",
        "      test_dataset_full = DataClass(split='test', transform=test_transform, download=download)\n",
        "      combined_dataset = torch.utils.data.ConcatDataset([full_dataset, test_dataset_full])\n",
        "\n",
        "      # Randomly select only total_samples items\n",
        "      if total_samples > len(combined_dataset):\n",
        "        total_samples = len(combined_dataset)\n",
        "      indices = random.sample(range(len(combined_dataset)), total_samples)\n",
        "      small_dataset = Subset(combined_dataset, indices)\n",
        "\n",
        "      # Split into train / val / test (e.g., 70/15/15 split)\n",
        "      train_size = int(0.7 * total_samples)\n",
        "      val_size = int(0.15 * total_samples)\n",
        "      test_size = total_samples - train_size - val_size\n",
        "      train_dataset, val_dataset, test_dataset = random_split(small_dataset, [train_size, val_size, test_size])\n",
        "\n",
        "      # Dataloaders\n",
        "      train_loader = DataLoader(train_dataset, batch_size=BATCH_SIZE, shuffle=True)\n",
        "      train_loader_at_eval = get_one_batch_with_all_classes(train_dataset, n_classes, batch_size=2*BATCH_SIZE)\n",
        "      test_loader = get_one_batch_with_all_classes(test_dataset, n_classes, batch_size=2*BATCH_SIZE)\n",
        "\n",
        "    return data_flag, NUM_EPOCHS, BATCH_SIZE, lr, task, train_loader, train_loader_at_eval, test_loader, n_classes\n"
      ],
      "metadata": {
        "id": "nV9CLSzIewnI"
      },
      "execution_count": 3,
      "outputs": []
    },
    {
      "cell_type": "code",
      "source": [
        "## loading model\n",
        "from MedVit3D import MedViT3D_small\n",
        "from MedViT import MedViT_small"
      ],
      "metadata": {
        "colab": {
          "base_uri": "https://localhost:8080/"
        },
        "id": "SPMzgtGCkL23",
        "outputId": "f686af9c-33ea-4bc2-d409-e7b7ec45ed46"
      },
      "execution_count": 4,
      "outputs": [
        {
          "output_type": "stream",
          "name": "stderr",
          "text": [
            "/usr/local/lib/python3.11/dist-packages/timm/models/registry.py:4: FutureWarning: Importing from timm.models.registry is deprecated, please import via timm.models\n",
            "  warnings.warn(f\"Importing from {__name__} is deprecated, please import via timm.models\", FutureWarning)\n",
            "/usr/local/lib/python3.11/dist-packages/timm/models/layers/__init__.py:48: FutureWarning: Importing from timm.models.layers is deprecated, please import via timm.layers\n",
            "  warnings.warn(f\"Importing from {__name__} is deprecated, please import via timm.layers\", FutureWarning)\n"
          ]
        }
      ]
    },
    {
      "cell_type": "code",
      "source": [
        "def getPrecision(y_true, y_score, task, threshold=0.5):\n",
        "    y_true = y_true.squeeze()\n",
        "    y_score = y_score.squeeze()\n",
        "\n",
        "    if task == \"multi-label, binary-class\":\n",
        "        y_pred = (y_score > threshold).astype(int)\n",
        "        return precision_score(y_true, y_pred, average=\"macro\", zero_division=0)\n",
        "    elif task == \"binary-class\":\n",
        "        if y_score.ndim == 2:\n",
        "            y_score = y_score[:, -1]\n",
        "        y_pred = (y_score > threshold).astype(int)\n",
        "        return precision_score(y_true, y_pred, average=\"binary\", zero_division=0)\n",
        "    else:\n",
        "        y_pred = np.argmax(y_score, axis=-1)\n",
        "        return precision_score(y_true, y_pred, average=\"macro\", zero_division=0)\n",
        "\n",
        "\n",
        "def getRecall(y_true, y_score, task, threshold=0.5):\n",
        "    y_true = y_true.squeeze()\n",
        "    y_score = y_score.squeeze()\n",
        "\n",
        "    if task == \"multi-label, binary-class\":\n",
        "        y_pred = (y_score > threshold).astype(int)\n",
        "        return recall_score(y_true, y_pred, average=\"macro\", zero_division=0)\n",
        "    elif task == \"binary-class\":\n",
        "        if y_score.ndim == 2:\n",
        "            y_score = y_score[:, -1]\n",
        "        y_pred = (y_score > threshold).astype(int)\n",
        "        return recall_score(y_true, y_pred, average=\"binary\", zero_division=0)\n",
        "    else:\n",
        "        y_pred = np.argmax(y_score, axis=-1)\n",
        "        return recall_score(y_true, y_pred, average=\"macro\", zero_division=0)\n",
        "\n",
        "\n",
        "def getF1(y_true, y_score, task, threshold=0.5):\n",
        "    y_true = y_true.squeeze()\n",
        "    y_score = y_score.squeeze()\n",
        "\n",
        "    if task == \"multi-label, binary-class\":\n",
        "        y_pred = (y_score > threshold).astype(int)\n",
        "        return f1_score(y_true, y_pred, average=\"macro\", zero_division=0)\n",
        "    elif task == \"binary-class\":\n",
        "        if y_score.ndim == 2:\n",
        "            y_score = y_score[:, -1]\n",
        "        y_pred = (y_score > threshold).astype(int)\n",
        "        return f1_score(y_true, y_pred, average=\"binary\", zero_division=0)\n",
        "    else:\n",
        "        y_pred = np.argmax(y_score, axis=-1)\n",
        "        return f1_score(y_true, y_pred, average=\"macro\", zero_division=0)\n",
        "\n",
        "#######################################################################\n",
        "\n",
        "# evaluation\n",
        "def getAUC(y_true, y_score, task):\n",
        "    \"\"\"AUC metric.\n",
        "    :param y_true: the ground truth labels, shape: (n_samples, n_labels) or (n_samples,) if n_labels==1\n",
        "    :param y_score: the predicted score of each class,\n",
        "    shape: (n_samples, n_labels) or (n_samples, n_classes) or (n_samples,) if n_labels==1 or n_classes==1\n",
        "    :param task: the task of current dataset\n",
        "    \"\"\"\n",
        "    y_true = y_true.squeeze()\n",
        "    y_score = y_score.squeeze()\n",
        "\n",
        "    if task == \"multi-label, binary-class\":\n",
        "        auc = 0\n",
        "        for i in range(y_score.shape[1]):\n",
        "            label_auc = roc_auc_score(y_true[:, i], y_score[:, i])\n",
        "            auc += label_auc\n",
        "        ret = auc / y_score.shape[1]\n",
        "    elif task == \"binary-class\":\n",
        "        if y_score.ndim == 2:\n",
        "            y_score = y_score[:, -1]\n",
        "        else:\n",
        "            assert y_score.ndim == 1\n",
        "        ret = roc_auc_score(y_true, y_score)\n",
        "    else:\n",
        "        auc = 0\n",
        "        for i in range(y_score.shape[1]):\n",
        "            y_true_binary = (y_true == i).astype(float)\n",
        "            y_score_binary = y_score[:, i]\n",
        "            auc += roc_auc_score(y_true_binary, y_score_binary)\n",
        "        ret = auc / y_score.shape[1]\n",
        "\n",
        "    return ret\n",
        "\n",
        "\n",
        "def getACC(y_true, y_score, task, threshold=0.5):\n",
        "    \"\"\"Accuracy metric.\n",
        "    :param y_true: the ground truth labels, shape: (n_samples, n_labels) or (n_samples,) if n_labels==1\n",
        "    :param y_score: the predicted score of each class,\n",
        "    shape: (n_samples, n_labels) or (n_samples, n_classes) or (n_samples,) if n_labels==1 or n_classes==1\n",
        "    :param task: the task of current dataset\n",
        "    :param threshold: the threshold for multilabel and binary-class tasks\n",
        "    \"\"\"\n",
        "    y_true = y_true.squeeze()\n",
        "    y_score = y_score.squeeze()\n",
        "\n",
        "    if task == \"multi-label, binary-class\":\n",
        "        y_pre = y_score > threshold\n",
        "        acc = 0\n",
        "        for label in range(y_true.shape[1]):\n",
        "            label_acc = accuracy_score(y_true[:, label], y_pre[:, label])\n",
        "            acc += label_acc\n",
        "        ret = acc / y_true.shape[1]\n",
        "    elif task == \"binary-class\":\n",
        "        if y_score.ndim == 2:\n",
        "            y_score = y_score[:, -1]\n",
        "        else:\n",
        "            assert y_score.ndim == 1\n",
        "        ret = accuracy_score(y_true, y_score > threshold)\n",
        "    else:\n",
        "        ret = accuracy_score(y_true, np.argmax(y_score, axis=-1))\n",
        "\n",
        "    return ret\n",
        "\n",
        "def test(data_loader, model, criterion, task):\n",
        "    model.eval()\n",
        "    y_true = torch.tensor([]).to(device)\n",
        "    y_score = torch.tensor([]).to(device)\n",
        "    data_loader = data_loader\n",
        "    total_loss = 0.0\n",
        "    num_batches = 0\n",
        "    with torch.no_grad():\n",
        "        for inputs, targets in data_loader:\n",
        "            inputs, targets = inputs.to(device), targets.to(device)\n",
        "            outputs = model(inputs)\n",
        "\n",
        "            if task == 'multi-label, binary-class':\n",
        "                targets = targets.to(torch.float32)\n",
        "                loss = criterion(outputs, targets)\n",
        "                outputs = outputs.softmax(dim=-1)\n",
        "            else:\n",
        "                targets = targets.squeeze().long()\n",
        "                loss = criterion(outputs, targets)\n",
        "                outputs = outputs.softmax(dim=-1)\n",
        "                targets = targets.float().resize_(len(targets), 1)\n",
        "\n",
        "            y_true = torch.cat((y_true, targets), 0)\n",
        "            y_score = torch.cat((y_score, outputs), 0)\n",
        "            total_loss += loss.item()\n",
        "            num_batches += 1\n",
        "\n",
        "        y_true = y_true.cpu().numpy()\n",
        "        y_score = y_score.detach().cpu().numpy()\n",
        "\n",
        "        auc = getAUC(y_true, y_score, task)\n",
        "        acc = getACC(y_true, y_score, task)\n",
        "        avg_loss = total_loss / num_batches\n",
        "        ########################################################################################\n",
        "        precision = getPrecision(y_true, y_score, task)\n",
        "        recall = getRecall(y_true, y_score, task)\n",
        "        f1 = getF1(y_true, y_score, task)\n",
        "\n",
        "        return auc, acc ,avg_loss, precision, recall, f1 #, y_true, y_score\n",
        "\n",
        "\n",
        "def load_or_initialize_model(model_class, model_name, optimizer_class, lr, momentum, n_classes, task):\n",
        "    model_dir = \"./history_record\"\n",
        "    os.makedirs(model_dir, exist_ok=True)\n",
        "\n",
        "    model_path = os.path.join(model_dir, f\"{model_name}.pth\")\n",
        "    history_path = os.path.join(model_dir, f\"{model_name}.csv\")\n",
        "\n",
        "    if \"3d\" in model_name.lower():\n",
        "      model = MedViT3D_small(num_classes = n_classes).to(device)\n",
        "    else:\n",
        "      model = MedViT_small(num_classes = n_classes).to(device)\n",
        "\n",
        "    optimizer = optimizer_class(model.parameters(), lr=lr, momentum=momentum)\n",
        "\n",
        "    start_epoch = 0\n",
        "    best_val_auc = 0\n",
        "    history = {\n",
        "        \"train_auc\": [], \"train_acc\": [],\"train_precision\": [], \"train_recall\": [], \"train_f1\": [],\n",
        "        \"val_auc\": [], \"val_acc\": [],\"val_precision\": [], \"val_recall\": [], \"val_f1\": [],\n",
        "        \"train_loss\": [], \"val_loss\": [],\n",
        "        \"epoch_time\": []\n",
        "    }\n",
        "\n",
        "    if os.path.exists(model_path) and os.path.exists(history_path):\n",
        "        print(f\"Loading existing model: {model_name}\")\n",
        "        checkpoint = torch.load(model_path, map_location=device)\n",
        "        model.load_state_dict(checkpoint['model_state_dict'])\n",
        "        optimizer.load_state_dict(checkpoint['optimizer_state_dict'])\n",
        "        history = pd.read_csv(history_path).to_dict(orient='list')\n",
        "        start_epoch = len(history[\"train_loss\"])\n",
        "        best_val_auc = max(history[\"val_auc\"]) if history[\"val_auc\"] else 0\n",
        "\n",
        "    return model, optimizer, history, start_epoch, best_val_auc\n",
        "def training_and_record(model_class,\n",
        "                        model_name,\n",
        "                        NUM_EPOCHS, lr,\n",
        "                        momentum, train_loader,\n",
        "                        train_loader_at_eval,\n",
        "                        test_loader,\n",
        "                        n_classes,\n",
        "                        task,\n",
        "                        steps):\n",
        "    model, optimizer, history, start_epoch, best_val_auc = load_or_initialize_model(\n",
        "        model_class, model_name, optimizer_class=torch.optim.SGD, lr=lr, momentum=momentum, n_classes = n_classes,\n",
        "        task = task\n",
        "    )\n",
        "    if task == \"multi-label, binary-class\":\n",
        "        criterion = nn.BCEWithLogitsLoss()\n",
        "    else:\n",
        "        criterion = nn.CrossEntropyLoss()\n",
        "    total_loss = 0\n",
        "    step_count = 0  # counter for batch steps\n",
        "    for epoch in range(start_epoch, start_epoch + NUM_EPOCHS):\n",
        "        print(f'\\nEpoch [{epoch + 1}/{start_epoch + NUM_EPOCHS}]')\n",
        "        start_time = time.time()\n",
        "        model.train()\n",
        "\n",
        "        for inputs, targets in tqdm(train_loader):\n",
        "            step_count += 1\n",
        "            inputs, targets = inputs.to(device), targets.to(device)\n",
        "\n",
        "            optimizer.zero_grad()\n",
        "            outputs = model(inputs)\n",
        "            unique_classes = np.unique(targets.cpu().numpy())\n",
        "            # print(f\"Unique class in target data batch is: {unique_classes.tolist()}  | Count: {len(unique_classes)}\")\n",
        "            if task == 'multi-label, binary-class':\n",
        "                # print(\"Going to multi-label, bunary-class branch\")\n",
        "                # Ensure targets become [B, n_classes] float\n",
        "                targets = torch.nn.functional.one_hot(\n",
        "                    targets.squeeze().long(), num_classes=n_classes\n",
        "                ).float().to(device)\n",
        "                # print(\"target shape of original data before loss \", targets.shape)\n",
        "                # print(\"output shape after model, before loss: \", outputs.shape)\n",
        "                loss = criterion(outputs, targets)\n",
        "            else:\n",
        "                # print(\"going to ther branch\")\n",
        "                targets = targets.squeeze().long()  # labels become long\n",
        "                # print(\"target shape of original data before loss \", targets.shape)\n",
        "                # print(\"output shape after model, before loss: \", outputs.shape)\n",
        "                loss = criterion(outputs, targets)\n",
        "\n",
        "            loss.backward()\n",
        "            optimizer.step()\n",
        "            total_loss += loss.item()\n",
        "            # stop after 20 steps per epoch\n",
        "            # if step_count >= steps:\n",
        "            #     print(f\"Breaking after {step_count} steps in this epoch.\")\n",
        "            #     break\n",
        "\n",
        "        torch.cuda.empty_cache()\n",
        "\n",
        "        # Logging\n",
        "        train_loss = total_loss / len(train_loader)\n",
        "        # validation loss:  auc, acc ,avg_loss, precision, recall, f1\n",
        "        val_auc, val_acc, val_loss, val_prec, val_rec, val_f1 = test(test_loader, model, criterion, task)\n",
        "        # train loss\n",
        "        train_auc, train_acc, train_loss, train_prec, train_rec, train_f1 = test( train_loader_at_eval, model, criterion, task)\n",
        "\n",
        "\n",
        "        history[\"train_auc\"].append(train_auc)\n",
        "        history[\"train_acc\"].append(train_acc)\n",
        "        history[\"train_precision\"].append(train_prec)\n",
        "        history[\"train_recall\"].append(train_rec)\n",
        "        history[\"train_f1\"].append(train_f1)\n",
        "        history[\"train_loss\"].append(train_loss)\n",
        "\n",
        "        history[\"val_auc\"].append(val_auc)\n",
        "        history[\"val_acc\"].append(val_acc)\n",
        "        history[\"val_precision\"].append(val_prec)\n",
        "        history[\"val_recall\"].append(val_rec)\n",
        "        history[\"val_f1\"].append(val_f1)\n",
        "        history[\"val_loss\"].append(val_loss)\n",
        "\n",
        "        # Log epoch time\n",
        "        epoch_time = time.time() - start_time\n",
        "        history[\"epoch_time\"].append(epoch_time)\n",
        "        print(f\"Epoch {epoch+1} finished in {epoch_time:.2f} seconds\")\n",
        "\n",
        "        # Save best model\n",
        "        if val_auc > best_val_auc:\n",
        "            best_val_auc = val_auc\n",
        "            print(\"📌 New best AUC — saving model\")\n",
        "            torch.save({\n",
        "                'model_state_dict': model.state_dict(),\n",
        "                'optimizer_state_dict': optimizer.state_dict()\n",
        "            }, f\"./history_record/{model_name}.pth\")\n",
        "\n",
        "        pd.DataFrame(history).to_csv(f\"./history_record/{model_name}.csv\", index=False)\n",
        "\n",
        "    print(\"✅ Training complete.\")\n",
        "    return history\n",
        "\n"
      ],
      "metadata": {
        "id": "t6WY6oNAk-G7"
      },
      "execution_count": 5,
      "outputs": []
    },
    {
      "cell_type": "code",
      "source": [],
      "metadata": {
        "id": "M1G5tgAOExo8"
      },
      "execution_count": null,
      "outputs": []
    },
    {
      "cell_type": "code",
      "source": [
        "## Define same parameters\n",
        "NUM_EPOCHS = 20\n",
        "BATCH_SIZE = 20\n",
        "lr = 0.0005\n",
        "device = torch.device(\"cuda\" if torch.cuda.is_available() else \"cpu\")"
      ],
      "metadata": {
        "id": "WbPIK-D50tZa"
      },
      "execution_count": 10,
      "outputs": []
    },
    {
      "cell_type": "code",
      "source": [],
      "metadata": {
        "id": "cOBufE9F-il8"
      },
      "execution_count": null,
      "outputs": []
    },
    {
      "cell_type": "code",
      "execution_count": 11,
      "metadata": {
        "id": "YYMNuK9o2a2B",
        "colab": {
          "base_uri": "https://localhost:8080/"
        },
        "outputId": "5b232bd5-7618-4b70-eeb6-a00a2da16f44"
      },
      "outputs": [
        {
          "output_type": "stream",
          "name": "stdout",
          "text": [
            "\n",
            "Epoch [1/20]\n"
          ]
        },
        {
          "output_type": "stream",
          "name": "stderr",
          "text": [
            "100%|██████████| 58/58 [00:02<00:00, 20.58it/s]\n"
          ]
        },
        {
          "output_type": "stream",
          "name": "stdout",
          "text": [
            "Epoch 1 finished in 4.00 seconds\n",
            "📌 New best AUC — saving model\n",
            "\n",
            "Epoch [2/20]\n"
          ]
        },
        {
          "output_type": "stream",
          "name": "stderr",
          "text": [
            "100%|██████████| 58/58 [00:02<00:00, 20.84it/s]\n"
          ]
        },
        {
          "output_type": "stream",
          "name": "stdout",
          "text": [
            "Epoch 2 finished in 3.96 seconds\n",
            "📌 New best AUC — saving model\n",
            "\n",
            "Epoch [3/20]\n"
          ]
        },
        {
          "output_type": "stream",
          "name": "stderr",
          "text": [
            "100%|██████████| 58/58 [00:02<00:00, 20.89it/s]\n"
          ]
        },
        {
          "output_type": "stream",
          "name": "stdout",
          "text": [
            "Epoch 3 finished in 3.92 seconds\n",
            "📌 New best AUC — saving model\n",
            "\n",
            "Epoch [4/20]\n"
          ]
        },
        {
          "output_type": "stream",
          "name": "stderr",
          "text": [
            "100%|██████████| 58/58 [00:02<00:00, 20.85it/s]\n"
          ]
        },
        {
          "output_type": "stream",
          "name": "stdout",
          "text": [
            "Epoch 4 finished in 3.93 seconds\n",
            "📌 New best AUC — saving model\n",
            "\n",
            "Epoch [5/20]\n"
          ]
        },
        {
          "output_type": "stream",
          "name": "stderr",
          "text": [
            "100%|██████████| 58/58 [00:02<00:00, 20.43it/s]\n"
          ]
        },
        {
          "output_type": "stream",
          "name": "stdout",
          "text": [
            "Epoch 5 finished in 4.04 seconds\n",
            "\n",
            "Epoch [6/20]\n"
          ]
        },
        {
          "output_type": "stream",
          "name": "stderr",
          "text": [
            "100%|██████████| 58/58 [00:02<00:00, 20.50it/s]\n"
          ]
        },
        {
          "output_type": "stream",
          "name": "stdout",
          "text": [
            "Epoch 6 finished in 3.98 seconds\n",
            "📌 New best AUC — saving model\n",
            "\n",
            "Epoch [7/20]\n"
          ]
        },
        {
          "output_type": "stream",
          "name": "stderr",
          "text": [
            "100%|██████████| 58/58 [00:02<00:00, 20.52it/s]\n"
          ]
        },
        {
          "output_type": "stream",
          "name": "stdout",
          "text": [
            "Epoch 7 finished in 3.99 seconds\n",
            "\n",
            "Epoch [8/20]\n"
          ]
        },
        {
          "output_type": "stream",
          "name": "stderr",
          "text": [
            "100%|██████████| 58/58 [00:02<00:00, 20.32it/s]\n"
          ]
        },
        {
          "output_type": "stream",
          "name": "stdout",
          "text": [
            "Epoch 8 finished in 4.06 seconds\n",
            "📌 New best AUC — saving model\n",
            "\n",
            "Epoch [9/20]\n"
          ]
        },
        {
          "output_type": "stream",
          "name": "stderr",
          "text": [
            "100%|██████████| 58/58 [00:02<00:00, 20.49it/s]\n"
          ]
        },
        {
          "output_type": "stream",
          "name": "stdout",
          "text": [
            "Epoch 9 finished in 3.99 seconds\n",
            "\n",
            "Epoch [10/20]\n"
          ]
        },
        {
          "output_type": "stream",
          "name": "stderr",
          "text": [
            "100%|██████████| 58/58 [00:02<00:00, 20.58it/s]\n"
          ]
        },
        {
          "output_type": "stream",
          "name": "stdout",
          "text": [
            "Epoch 10 finished in 3.97 seconds\n",
            "\n",
            "Epoch [11/20]\n"
          ]
        },
        {
          "output_type": "stream",
          "name": "stderr",
          "text": [
            "100%|██████████| 58/58 [00:02<00:00, 20.46it/s]\n"
          ]
        },
        {
          "output_type": "stream",
          "name": "stdout",
          "text": [
            "Epoch 11 finished in 4.03 seconds\n",
            "\n",
            "Epoch [12/20]\n"
          ]
        },
        {
          "output_type": "stream",
          "name": "stderr",
          "text": [
            "100%|██████████| 58/58 [00:02<00:00, 20.71it/s]\n"
          ]
        },
        {
          "output_type": "stream",
          "name": "stdout",
          "text": [
            "Epoch 12 finished in 3.95 seconds\n",
            "\n",
            "Epoch [13/20]\n"
          ]
        },
        {
          "output_type": "stream",
          "name": "stderr",
          "text": [
            "100%|██████████| 58/58 [00:02<00:00, 20.77it/s]\n"
          ]
        },
        {
          "output_type": "stream",
          "name": "stdout",
          "text": [
            "Epoch 13 finished in 3.95 seconds\n",
            "\n",
            "Epoch [14/20]\n"
          ]
        },
        {
          "output_type": "stream",
          "name": "stderr",
          "text": [
            "100%|██████████| 58/58 [00:02<00:00, 20.73it/s]\n"
          ]
        },
        {
          "output_type": "stream",
          "name": "stdout",
          "text": [
            "Epoch 14 finished in 3.97 seconds\n",
            "\n",
            "Epoch [15/20]\n"
          ]
        },
        {
          "output_type": "stream",
          "name": "stderr",
          "text": [
            "100%|██████████| 58/58 [00:02<00:00, 20.77it/s]\n"
          ]
        },
        {
          "output_type": "stream",
          "name": "stdout",
          "text": [
            "Epoch 15 finished in 3.94 seconds\n",
            "📌 New best AUC — saving model\n",
            "\n",
            "Epoch [16/20]\n"
          ]
        },
        {
          "output_type": "stream",
          "name": "stderr",
          "text": [
            "100%|██████████| 58/58 [00:02<00:00, 20.99it/s]\n"
          ]
        },
        {
          "output_type": "stream",
          "name": "stdout",
          "text": [
            "Epoch 16 finished in 3.91 seconds\n",
            "\n",
            "Epoch [17/20]\n"
          ]
        },
        {
          "output_type": "stream",
          "name": "stderr",
          "text": [
            "100%|██████████| 58/58 [00:02<00:00, 21.03it/s]\n"
          ]
        },
        {
          "output_type": "stream",
          "name": "stdout",
          "text": [
            "Epoch 17 finished in 3.93 seconds\n",
            "\n",
            "Epoch [18/20]\n"
          ]
        },
        {
          "output_type": "stream",
          "name": "stderr",
          "text": [
            "100%|██████████| 58/58 [00:02<00:00, 20.84it/s]\n"
          ]
        },
        {
          "output_type": "stream",
          "name": "stdout",
          "text": [
            "Epoch 18 finished in 3.93 seconds\n",
            "\n",
            "Epoch [19/20]\n"
          ]
        },
        {
          "output_type": "stream",
          "name": "stderr",
          "text": [
            "100%|██████████| 58/58 [00:02<00:00, 21.04it/s]\n"
          ]
        },
        {
          "output_type": "stream",
          "name": "stdout",
          "text": [
            "Epoch 19 finished in 3.91 seconds\n",
            "\n",
            "Epoch [20/20]\n"
          ]
        },
        {
          "output_type": "stream",
          "name": "stderr",
          "text": [
            "100%|██████████| 58/58 [00:02<00:00, 21.14it/s]\n"
          ]
        },
        {
          "output_type": "stream",
          "name": "stdout",
          "text": [
            "Epoch 20 finished in 3.90 seconds\n",
            "✅ Training complete.\n"
          ]
        }
      ],
      "source": [
        "data_flag = \"nodulemnist3d\"\n",
        "med3d = True\n",
        "model_name = f\"MedViT3D_{data_flag}\"\n",
        "## loading data\n",
        "(data_flag,\n",
        " NUM_EPOCHS,\n",
        " BATCH_SIZE,\n",
        " lr,\n",
        " task,\n",
        " train_loader,\n",
        " train_loader_at_eval,\n",
        " test_loader,\n",
        " n_classes) = data_input_loading(data_flag=data_flag,\n",
        "                                NUM_EPOCHS = NUM_EPOCHS,\n",
        "                                BATCH_SIZE=BATCH_SIZE,\n",
        "                                lr=lr,\n",
        "                                med3d= med3d)\n",
        "## train and record\n",
        "history = training_and_record(\n",
        "    model_class=MedViT3D_small,\n",
        "    model_name= model_name,\n",
        "    NUM_EPOCHS=NUM_EPOCHS,\n",
        "    lr=lr,\n",
        "    momentum=0.9,\n",
        "    train_loader=train_loader,\n",
        "    train_loader_at_eval=train_loader_at_eval,\n",
        "    test_loader=test_loader,\n",
        "    n_classes = n_classes,\n",
        "    task = task,\n",
        "    steps = len(train_loader)\n",
        ")"
      ]
    },
    {
      "cell_type": "code",
      "source": [],
      "metadata": {
        "id": "x1xn9Rf1LZZi"
      },
      "execution_count": null,
      "outputs": []
    },
    {
      "cell_type": "code",
      "execution_count": null,
      "metadata": {
        "id": "1RWBAzW43K8Q",
        "colab": {
          "base_uri": "https://localhost:8080/"
        },
        "outputId": "32cdef97-d226-4cc5-f50c-e1e2989264ad"
      },
      "outputs": [
        {
          "output_type": "stream",
          "name": "stderr",
          "text": [
            "100%|██████████| 32.7M/32.7M [00:01<00:00, 16.4MB/s]\n"
          ]
        },
        {
          "output_type": "stream",
          "name": "stdout",
          "text": [
            "\n",
            "Epoch [1/2]\n"
          ]
        },
        {
          "output_type": "stream",
          "name": "stderr",
          "text": [
            "100%|██████████| 65/65 [02:00<00:00,  1.85s/it]\n"
          ]
        },
        {
          "output_type": "stream",
          "name": "stdout",
          "text": [
            "Epoch 1 finished in 174.52 seconds\n",
            "📌 New best AUC — saving model\n",
            "\n",
            "Epoch [2/2]\n"
          ]
        },
        {
          "output_type": "stream",
          "name": "stderr",
          "text": [
            "100%|██████████| 65/65 [01:58<00:00,  1.82s/it]\n"
          ]
        },
        {
          "output_type": "stream",
          "name": "stdout",
          "text": [
            "Epoch 2 finished in 171.04 seconds\n",
            "📌 New best AUC — saving model\n",
            "✅ Training complete.\n"
          ]
        }
      ],
      "source": [
        "data_flag = \"organmnist3d\"\n",
        "med3d = True\n",
        "model_name = f\"MedViT3D_{data_flag}\"\n",
        "## loading data\n",
        "(data_flag,\n",
        " NUM_EPOCHS,\n",
        " BATCH_SIZE,\n",
        " lr,\n",
        " task,\n",
        " train_loader,\n",
        " train_loader_at_eval,\n",
        " test_loader,\n",
        " n_classes) = data_input_loading(data_flag=data_flag,\n",
        "                                NUM_EPOCHS = NUM_EPOCHS,\n",
        "                                BATCH_SIZE=BATCH_SIZE,\n",
        "                                lr=lr,\n",
        "                                med3d= med3d)\n",
        "## train and record\n",
        "history = training_and_record(\n",
        "    model_class=MedViT3D_small,\n",
        "    model_name= model_name,\n",
        "    NUM_EPOCHS=NUM_EPOCHS,\n",
        "    lr=lr,\n",
        "    momentum=0.9,\n",
        "    train_loader=train_loader,\n",
        "    train_loader_at_eval=train_loader_at_eval,\n",
        "    test_loader=test_loader,\n",
        "    n_classes = n_classes,\n",
        "    task = task,\n",
        "    steps = len(train_loader)\n",
        ")"
      ]
    },
    {
      "cell_type": "code",
      "source": [
        "data_flag = \"adrenalmnist3d\"\n",
        "med3d = True\n",
        "model_name = f\"MedViT3D_{data_flag}\"\n",
        "## loading data\n",
        "(data_flag,\n",
        " NUM_EPOCHS,\n",
        " BATCH_SIZE,\n",
        " lr,\n",
        " task,\n",
        " train_loader,\n",
        " train_loader_at_eval,\n",
        " test_loader,\n",
        " n_classes) = data_input_loading(data_flag=data_flag,\n",
        "                                NUM_EPOCHS = NUM_EPOCHS,\n",
        "                                BATCH_SIZE=BATCH_SIZE,\n",
        "                                lr=lr,\n",
        "                                med3d= med3d)\n",
        "## train and record\n",
        "history = training_and_record(\n",
        "    model_class=MedViT3D_small,\n",
        "    model_name= model_name,\n",
        "    NUM_EPOCHS=NUM_EPOCHS,\n",
        "    lr=lr,\n",
        "    momentum=0.9,\n",
        "    train_loader=train_loader,\n",
        "    train_loader_at_eval=train_loader_at_eval,\n",
        "    test_loader=test_loader,\n",
        "    n_classes = n_classes,\n",
        "    task = task,\n",
        "    steps = len(train_loader)\n",
        ")"
      ],
      "metadata": {
        "colab": {
          "base_uri": "https://localhost:8080/"
        },
        "id": "zA_RtXtVAI7h",
        "outputId": "59419713-e40e-43f1-a99b-1b678eadb747"
      },
      "execution_count": null,
      "outputs": [
        {
          "output_type": "stream",
          "name": "stderr",
          "text": [
            "100%|██████████| 277k/277k [00:00<00:00, 391kB/s]\n"
          ]
        },
        {
          "output_type": "stream",
          "name": "stdout",
          "text": [
            "\n",
            "Epoch [1/20]\n"
          ]
        },
        {
          "output_type": "stream",
          "name": "stderr",
          "text": [
            "100%|██████████| 80/80 [00:02<00:00, 27.78it/s]\n"
          ]
        },
        {
          "output_type": "stream",
          "name": "stdout",
          "text": [
            "Epoch 1 finished in 3.91 seconds\n",
            "📌 New best AUC — saving model\n",
            "\n",
            "Epoch [2/20]\n"
          ]
        },
        {
          "output_type": "stream",
          "name": "stderr",
          "text": [
            "100%|██████████| 80/80 [00:02<00:00, 28.29it/s]\n"
          ]
        },
        {
          "output_type": "stream",
          "name": "stdout",
          "text": [
            "Epoch 2 finished in 3.86 seconds\n",
            "📌 New best AUC — saving model\n",
            "\n",
            "Epoch [3/20]\n"
          ]
        },
        {
          "output_type": "stream",
          "name": "stderr",
          "text": [
            "100%|██████████| 80/80 [00:02<00:00, 30.67it/s]\n"
          ]
        },
        {
          "output_type": "stream",
          "name": "stdout",
          "text": [
            "Epoch 3 finished in 3.62 seconds\n",
            "📌 New best AUC — saving model\n",
            "\n",
            "Epoch [4/20]\n"
          ]
        },
        {
          "output_type": "stream",
          "name": "stderr",
          "text": [
            "100%|██████████| 80/80 [00:02<00:00, 30.58it/s]\n"
          ]
        },
        {
          "output_type": "stream",
          "name": "stdout",
          "text": [
            "Epoch 4 finished in 3.63 seconds\n",
            "\n",
            "Epoch [5/20]\n"
          ]
        },
        {
          "output_type": "stream",
          "name": "stderr",
          "text": [
            "100%|██████████| 80/80 [00:02<00:00, 29.96it/s]\n"
          ]
        },
        {
          "output_type": "stream",
          "name": "stdout",
          "text": [
            "Epoch 5 finished in 3.73 seconds\n",
            "\n",
            "Epoch [6/20]\n"
          ]
        },
        {
          "output_type": "stream",
          "name": "stderr",
          "text": [
            "100%|██████████| 80/80 [00:02<00:00, 30.49it/s]\n"
          ]
        },
        {
          "output_type": "stream",
          "name": "stdout",
          "text": [
            "Epoch 6 finished in 3.65 seconds\n",
            "\n",
            "Epoch [7/20]\n"
          ]
        },
        {
          "output_type": "stream",
          "name": "stderr",
          "text": [
            "100%|██████████| 80/80 [00:02<00:00, 29.56it/s]\n"
          ]
        },
        {
          "output_type": "stream",
          "name": "stdout",
          "text": [
            "Epoch 7 finished in 3.72 seconds\n",
            "\n",
            "Epoch [8/20]\n"
          ]
        },
        {
          "output_type": "stream",
          "name": "stderr",
          "text": [
            "100%|██████████| 80/80 [00:02<00:00, 30.26it/s]\n"
          ]
        },
        {
          "output_type": "stream",
          "name": "stdout",
          "text": [
            "Epoch 8 finished in 3.68 seconds\n",
            "\n",
            "Epoch [9/20]\n"
          ]
        },
        {
          "output_type": "stream",
          "name": "stderr",
          "text": [
            "100%|██████████| 80/80 [00:02<00:00, 29.79it/s]\n"
          ]
        },
        {
          "output_type": "stream",
          "name": "stdout",
          "text": [
            "Epoch 9 finished in 3.72 seconds\n",
            "\n",
            "Epoch [10/20]\n"
          ]
        },
        {
          "output_type": "stream",
          "name": "stderr",
          "text": [
            "100%|██████████| 80/80 [00:02<00:00, 30.40it/s]\n"
          ]
        },
        {
          "output_type": "stream",
          "name": "stdout",
          "text": [
            "Epoch 10 finished in 3.66 seconds\n",
            "\n",
            "Epoch [11/20]\n"
          ]
        },
        {
          "output_type": "stream",
          "name": "stderr",
          "text": [
            "100%|██████████| 80/80 [00:02<00:00, 29.29it/s]\n"
          ]
        },
        {
          "output_type": "stream",
          "name": "stdout",
          "text": [
            "Epoch 11 finished in 3.77 seconds\n",
            "\n",
            "Epoch [12/20]\n"
          ]
        },
        {
          "output_type": "stream",
          "name": "stderr",
          "text": [
            "100%|██████████| 80/80 [00:02<00:00, 29.12it/s]\n"
          ]
        },
        {
          "output_type": "stream",
          "name": "stdout",
          "text": [
            "Epoch 12 finished in 3.78 seconds\n",
            "\n",
            "Epoch [13/20]\n"
          ]
        },
        {
          "output_type": "stream",
          "name": "stderr",
          "text": [
            "100%|██████████| 80/80 [00:02<00:00, 29.98it/s]\n"
          ]
        },
        {
          "output_type": "stream",
          "name": "stdout",
          "text": [
            "Epoch 13 finished in 3.68 seconds\n",
            "\n",
            "Epoch [14/20]\n"
          ]
        },
        {
          "output_type": "stream",
          "name": "stderr",
          "text": [
            "100%|██████████| 80/80 [00:02<00:00, 29.80it/s]\n"
          ]
        },
        {
          "output_type": "stream",
          "name": "stdout",
          "text": [
            "Epoch 14 finished in 3.71 seconds\n",
            "\n",
            "Epoch [15/20]\n"
          ]
        },
        {
          "output_type": "stream",
          "name": "stderr",
          "text": [
            "100%|██████████| 80/80 [00:02<00:00, 29.03it/s]\n"
          ]
        },
        {
          "output_type": "stream",
          "name": "stdout",
          "text": [
            "Epoch 15 finished in 3.87 seconds\n",
            "\n",
            "Epoch [16/20]\n"
          ]
        },
        {
          "output_type": "stream",
          "name": "stderr",
          "text": [
            "100%|██████████| 80/80 [00:02<00:00, 28.70it/s]\n"
          ]
        },
        {
          "output_type": "stream",
          "name": "stdout",
          "text": [
            "Epoch 16 finished in 3.82 seconds\n",
            "\n",
            "Epoch [17/20]\n"
          ]
        },
        {
          "output_type": "stream",
          "name": "stderr",
          "text": [
            "100%|██████████| 80/80 [00:02<00:00, 29.69it/s]\n"
          ]
        },
        {
          "output_type": "stream",
          "name": "stdout",
          "text": [
            "Epoch 17 finished in 3.92 seconds\n",
            "\n",
            "Epoch [18/20]\n"
          ]
        },
        {
          "output_type": "stream",
          "name": "stderr",
          "text": [
            "100%|██████████| 80/80 [00:03<00:00, 25.62it/s]\n"
          ]
        },
        {
          "output_type": "stream",
          "name": "stdout",
          "text": [
            "Epoch 18 finished in 4.17 seconds\n",
            "\n",
            "Epoch [19/20]\n"
          ]
        },
        {
          "output_type": "stream",
          "name": "stderr",
          "text": [
            "100%|██████████| 80/80 [00:02<00:00, 29.06it/s]\n"
          ]
        },
        {
          "output_type": "stream",
          "name": "stdout",
          "text": [
            "Epoch 19 finished in 3.82 seconds\n",
            "\n",
            "Epoch [20/20]\n"
          ]
        },
        {
          "output_type": "stream",
          "name": "stderr",
          "text": [
            "100%|██████████| 80/80 [00:02<00:00, 29.13it/s]\n"
          ]
        },
        {
          "output_type": "stream",
          "name": "stdout",
          "text": [
            "Epoch 20 finished in 3.76 seconds\n",
            "✅ Training complete.\n"
          ]
        }
      ]
    },
    {
      "cell_type": "code",
      "source": [
        "data_flag = \"fracturemnist3d\"\n",
        "med3d = True\n",
        "model_name = f\"MedViT3D_{data_flag}\"\n",
        "## loading data\n",
        "(data_flag,\n",
        " NUM_EPOCHS,\n",
        " BATCH_SIZE,\n",
        " lr,\n",
        " task,\n",
        " train_loader,\n",
        " train_loader_at_eval,\n",
        " test_loader,\n",
        " n_classes) = data_input_loading(data_flag=data_flag,\n",
        "                                NUM_EPOCHS = NUM_EPOCHS,\n",
        "                                BATCH_SIZE=BATCH_SIZE,\n",
        "                                lr=lr,\n",
        "                                med3d= med3d)\n",
        "## train and record\n",
        "history = training_and_record(\n",
        "    model_class=MedViT3D_small,\n",
        "    model_name= model_name,\n",
        "    NUM_EPOCHS=NUM_EPOCHS,\n",
        "    lr=lr,\n",
        "    momentum=0.9,\n",
        "    train_loader=train_loader,\n",
        "    train_loader_at_eval=train_loader_at_eval,\n",
        "    test_loader=test_loader,\n",
        "    n_classes = n_classes,\n",
        "    task = task,\n",
        "    steps = len(train_loader)\n",
        ")"
      ],
      "metadata": {
        "colab": {
          "base_uri": "https://localhost:8080/"
        },
        "id": "llE092tkA1L-",
        "outputId": "7a663a6e-d20c-4f94-98d5-1f90d4b4b663"
      },
      "execution_count": null,
      "outputs": [
        {
          "output_type": "stream",
          "name": "stderr",
          "text": [
            "100%|██████████| 3.28M/3.28M [00:01<00:00, 2.76MB/s]\n"
          ]
        },
        {
          "output_type": "stream",
          "name": "stdout",
          "text": [
            "\n",
            "Epoch [1/20]\n"
          ]
        },
        {
          "output_type": "stream",
          "name": "stderr",
          "text": [
            "100%|██████████| 69/69 [00:02<00:00, 28.25it/s]\n"
          ]
        },
        {
          "output_type": "stream",
          "name": "stdout",
          "text": [
            "Epoch 1 finished in 3.31 seconds\n",
            "📌 New best AUC — saving model\n",
            "\n",
            "Epoch [2/20]\n"
          ]
        },
        {
          "output_type": "stream",
          "name": "stderr",
          "text": [
            "100%|██████████| 69/69 [00:02<00:00, 30.57it/s]\n"
          ]
        },
        {
          "output_type": "stream",
          "name": "stdout",
          "text": [
            "Epoch 2 finished in 3.13 seconds\n",
            "📌 New best AUC — saving model\n",
            "\n",
            "Epoch [3/20]\n"
          ]
        },
        {
          "output_type": "stream",
          "name": "stderr",
          "text": [
            "100%|██████████| 69/69 [00:02<00:00, 30.73it/s]\n"
          ]
        },
        {
          "output_type": "stream",
          "name": "stdout",
          "text": [
            "Epoch 3 finished in 3.14 seconds\n",
            "📌 New best AUC — saving model\n",
            "\n",
            "Epoch [4/20]\n"
          ]
        },
        {
          "output_type": "stream",
          "name": "stderr",
          "text": [
            "100%|██████████| 69/69 [00:02<00:00, 29.37it/s]\n"
          ]
        },
        {
          "output_type": "stream",
          "name": "stdout",
          "text": [
            "Epoch 4 finished in 3.24 seconds\n",
            "📌 New best AUC — saving model\n",
            "\n",
            "Epoch [5/20]\n"
          ]
        },
        {
          "output_type": "stream",
          "name": "stderr",
          "text": [
            "100%|██████████| 69/69 [00:02<00:00, 29.81it/s]\n"
          ]
        },
        {
          "output_type": "stream",
          "name": "stdout",
          "text": [
            "Epoch 5 finished in 3.19 seconds\n",
            "\n",
            "Epoch [6/20]\n"
          ]
        },
        {
          "output_type": "stream",
          "name": "stderr",
          "text": [
            "100%|██████████| 69/69 [00:02<00:00, 30.49it/s]\n"
          ]
        },
        {
          "output_type": "stream",
          "name": "stdout",
          "text": [
            "Epoch 6 finished in 3.14 seconds\n",
            "📌 New best AUC — saving model\n",
            "\n",
            "Epoch [7/20]\n"
          ]
        },
        {
          "output_type": "stream",
          "name": "stderr",
          "text": [
            "100%|██████████| 69/69 [00:02<00:00, 30.55it/s]\n"
          ]
        },
        {
          "output_type": "stream",
          "name": "stdout",
          "text": [
            "Epoch 7 finished in 3.15 seconds\n",
            "📌 New best AUC — saving model\n",
            "\n",
            "Epoch [8/20]\n"
          ]
        },
        {
          "output_type": "stream",
          "name": "stderr",
          "text": [
            "100%|██████████| 69/69 [00:02<00:00, 29.43it/s]\n"
          ]
        },
        {
          "output_type": "stream",
          "name": "stdout",
          "text": [
            "Epoch 8 finished in 3.27 seconds\n",
            "\n",
            "Epoch [9/20]\n"
          ]
        },
        {
          "output_type": "stream",
          "name": "stderr",
          "text": [
            "100%|██████████| 69/69 [00:02<00:00, 28.43it/s]\n"
          ]
        },
        {
          "output_type": "stream",
          "name": "stdout",
          "text": [
            "Epoch 9 finished in 3.31 seconds\n",
            "\n",
            "Epoch [10/20]\n"
          ]
        },
        {
          "output_type": "stream",
          "name": "stderr",
          "text": [
            "100%|██████████| 69/69 [00:02<00:00, 30.21it/s]\n"
          ]
        },
        {
          "output_type": "stream",
          "name": "stdout",
          "text": [
            "Epoch 10 finished in 3.15 seconds\n",
            "\n",
            "Epoch [11/20]\n"
          ]
        },
        {
          "output_type": "stream",
          "name": "stderr",
          "text": [
            "100%|██████████| 69/69 [00:02<00:00, 30.01it/s]\n"
          ]
        },
        {
          "output_type": "stream",
          "name": "stdout",
          "text": [
            "Epoch 11 finished in 3.18 seconds\n",
            "\n",
            "Epoch [12/20]\n"
          ]
        },
        {
          "output_type": "stream",
          "name": "stderr",
          "text": [
            "100%|██████████| 69/69 [00:02<00:00, 29.34it/s]\n"
          ]
        },
        {
          "output_type": "stream",
          "name": "stdout",
          "text": [
            "Epoch 12 finished in 3.25 seconds\n",
            "\n",
            "Epoch [13/20]\n"
          ]
        },
        {
          "output_type": "stream",
          "name": "stderr",
          "text": [
            "100%|██████████| 69/69 [00:02<00:00, 29.79it/s]\n"
          ]
        },
        {
          "output_type": "stream",
          "name": "stdout",
          "text": [
            "Epoch 13 finished in 3.19 seconds\n",
            "\n",
            "Epoch [14/20]\n"
          ]
        },
        {
          "output_type": "stream",
          "name": "stderr",
          "text": [
            "100%|██████████| 69/69 [00:02<00:00, 29.01it/s]\n"
          ]
        },
        {
          "output_type": "stream",
          "name": "stdout",
          "text": [
            "Epoch 14 finished in 3.31 seconds\n",
            "\n",
            "Epoch [15/20]\n"
          ]
        },
        {
          "output_type": "stream",
          "name": "stderr",
          "text": [
            "100%|██████████| 69/69 [00:02<00:00, 29.89it/s]\n"
          ]
        },
        {
          "output_type": "stream",
          "name": "stdout",
          "text": [
            "Epoch 15 finished in 3.19 seconds\n",
            "\n",
            "Epoch [16/20]\n"
          ]
        },
        {
          "output_type": "stream",
          "name": "stderr",
          "text": [
            "100%|██████████| 69/69 [00:02<00:00, 28.86it/s]\n"
          ]
        },
        {
          "output_type": "stream",
          "name": "stdout",
          "text": [
            "Epoch 16 finished in 3.28 seconds\n",
            "\n",
            "Epoch [17/20]\n"
          ]
        },
        {
          "output_type": "stream",
          "name": "stderr",
          "text": [
            "100%|██████████| 69/69 [00:02<00:00, 29.76it/s]\n"
          ]
        },
        {
          "output_type": "stream",
          "name": "stdout",
          "text": [
            "Epoch 17 finished in 3.20 seconds\n",
            "📌 New best AUC — saving model\n",
            "\n",
            "Epoch [18/20]\n"
          ]
        },
        {
          "output_type": "stream",
          "name": "stderr",
          "text": [
            "100%|██████████| 69/69 [00:02<00:00, 29.88it/s]\n"
          ]
        },
        {
          "output_type": "stream",
          "name": "stdout",
          "text": [
            "Epoch 18 finished in 3.18 seconds\n",
            "\n",
            "Epoch [19/20]\n"
          ]
        },
        {
          "output_type": "stream",
          "name": "stderr",
          "text": [
            "100%|██████████| 69/69 [00:02<00:00, 29.44it/s]\n"
          ]
        },
        {
          "output_type": "stream",
          "name": "stdout",
          "text": [
            "Epoch 19 finished in 3.27 seconds\n",
            "\n",
            "Epoch [20/20]\n"
          ]
        },
        {
          "output_type": "stream",
          "name": "stderr",
          "text": [
            "100%|██████████| 69/69 [00:02<00:00, 27.77it/s]\n"
          ]
        },
        {
          "output_type": "stream",
          "name": "stdout",
          "text": [
            "Epoch 20 finished in 3.41 seconds\n",
            "✅ Training complete.\n"
          ]
        }
      ]
    },
    {
      "cell_type": "code",
      "source": [
        "data_flag = \"vesselmnist3d\"\n",
        "med3d = True\n",
        "model_name = f\"MedViT3D_{data_flag}\"\n",
        "## loading data\n",
        "(data_flag,\n",
        " NUM_EPOCHS,\n",
        " BATCH_SIZE,\n",
        " lr,\n",
        " task,\n",
        " train_loader,\n",
        " train_loader_at_eval,\n",
        " test_loader,\n",
        " n_classes) = data_input_loading(data_flag=data_flag,\n",
        "                                NUM_EPOCHS = NUM_EPOCHS,\n",
        "                                BATCH_SIZE=BATCH_SIZE,\n",
        "                                lr=lr,\n",
        "                                med3d= med3d)\n",
        "## train and record\n",
        "history = training_and_record(\n",
        "    model_class=MedViT3D_small,\n",
        "    model_name= model_name,\n",
        "    NUM_EPOCHS=NUM_EPOCHS,\n",
        "    lr=lr,\n",
        "    momentum=0.9,\n",
        "    train_loader=train_loader,\n",
        "    train_loader_at_eval=train_loader_at_eval,\n",
        "    test_loader=test_loader,\n",
        "    n_classes = n_classes,\n",
        "    task = task,\n",
        "    steps = len(train_loader)\n",
        ")"
      ],
      "metadata": {
        "colab": {
          "base_uri": "https://localhost:8080/"
        },
        "id": "PMaea8SBBnqk",
        "outputId": "53f3941a-dd0b-4cdf-edfd-aa0d9260efff"
      },
      "execution_count": null,
      "outputs": [
        {
          "output_type": "stream",
          "name": "stderr",
          "text": [
            "100%|██████████| 398k/398k [00:00<00:00, 467kB/s]\n"
          ]
        },
        {
          "output_type": "stream",
          "name": "stdout",
          "text": [
            "\n",
            "Epoch [1/20]\n"
          ]
        },
        {
          "output_type": "stream",
          "name": "stderr",
          "text": [
            "100%|██████████| 89/89 [00:03<00:00, 28.74it/s]\n"
          ]
        },
        {
          "output_type": "stream",
          "name": "stdout",
          "text": [
            "Epoch 1 finished in 4.29 seconds\n",
            "📌 New best AUC — saving model\n",
            "\n",
            "Epoch [2/20]\n"
          ]
        },
        {
          "output_type": "stream",
          "name": "stderr",
          "text": [
            "100%|██████████| 89/89 [00:02<00:00, 30.18it/s]\n"
          ]
        },
        {
          "output_type": "stream",
          "name": "stdout",
          "text": [
            "Epoch 2 finished in 4.12 seconds\n",
            "📌 New best AUC — saving model\n",
            "\n",
            "Epoch [3/20]\n"
          ]
        },
        {
          "output_type": "stream",
          "name": "stderr",
          "text": [
            "100%|██████████| 89/89 [00:02<00:00, 30.56it/s]\n"
          ]
        },
        {
          "output_type": "stream",
          "name": "stdout",
          "text": [
            "Epoch 3 finished in 4.09 seconds\n",
            "📌 New best AUC — saving model\n",
            "\n",
            "Epoch [4/20]\n"
          ]
        },
        {
          "output_type": "stream",
          "name": "stderr",
          "text": [
            "100%|██████████| 89/89 [00:02<00:00, 30.09it/s]\n"
          ]
        },
        {
          "output_type": "stream",
          "name": "stdout",
          "text": [
            "Epoch 4 finished in 4.15 seconds\n",
            "\n",
            "Epoch [5/20]\n"
          ]
        },
        {
          "output_type": "stream",
          "name": "stderr",
          "text": [
            "100%|██████████| 89/89 [00:03<00:00, 28.79it/s]\n"
          ]
        },
        {
          "output_type": "stream",
          "name": "stdout",
          "text": [
            "Epoch 5 finished in 4.26 seconds\n",
            "\n",
            "Epoch [6/20]\n"
          ]
        },
        {
          "output_type": "stream",
          "name": "stderr",
          "text": [
            "100%|██████████| 89/89 [00:02<00:00, 30.25it/s]\n"
          ]
        },
        {
          "output_type": "stream",
          "name": "stdout",
          "text": [
            "Epoch 6 finished in 4.11 seconds\n",
            "📌 New best AUC — saving model\n",
            "\n",
            "Epoch [7/20]\n"
          ]
        },
        {
          "output_type": "stream",
          "name": "stderr",
          "text": [
            "100%|██████████| 89/89 [00:02<00:00, 30.23it/s]\n"
          ]
        },
        {
          "output_type": "stream",
          "name": "stdout",
          "text": [
            "Epoch 7 finished in 4.15 seconds\n",
            "\n",
            "Epoch [8/20]\n"
          ]
        },
        {
          "output_type": "stream",
          "name": "stderr",
          "text": [
            "100%|██████████| 89/89 [00:03<00:00, 29.20it/s]\n"
          ]
        },
        {
          "output_type": "stream",
          "name": "stdout",
          "text": [
            "Epoch 8 finished in 4.25 seconds\n",
            "\n",
            "Epoch [9/20]\n"
          ]
        },
        {
          "output_type": "stream",
          "name": "stderr",
          "text": [
            "100%|██████████| 89/89 [00:02<00:00, 29.69it/s]\n"
          ]
        },
        {
          "output_type": "stream",
          "name": "stdout",
          "text": [
            "Epoch 9 finished in 4.18 seconds\n",
            "\n",
            "Epoch [10/20]\n"
          ]
        },
        {
          "output_type": "stream",
          "name": "stderr",
          "text": [
            "100%|██████████| 89/89 [00:03<00:00, 29.63it/s]\n"
          ]
        },
        {
          "output_type": "stream",
          "name": "stdout",
          "text": [
            "Epoch 10 finished in 4.19 seconds\n",
            "\n",
            "Epoch [11/20]\n"
          ]
        },
        {
          "output_type": "stream",
          "name": "stderr",
          "text": [
            "100%|██████████| 89/89 [00:03<00:00, 29.26it/s]\n"
          ]
        },
        {
          "output_type": "stream",
          "name": "stdout",
          "text": [
            "Epoch 11 finished in 4.22 seconds\n",
            "\n",
            "Epoch [12/20]\n"
          ]
        },
        {
          "output_type": "stream",
          "name": "stderr",
          "text": [
            "100%|██████████| 89/89 [00:03<00:00, 29.25it/s]\n"
          ]
        },
        {
          "output_type": "stream",
          "name": "stdout",
          "text": [
            "Epoch 12 finished in 4.27 seconds\n",
            "📌 New best AUC — saving model\n",
            "\n",
            "Epoch [13/20]\n"
          ]
        },
        {
          "output_type": "stream",
          "name": "stderr",
          "text": [
            "100%|██████████| 89/89 [00:03<00:00, 27.88it/s]\n"
          ]
        },
        {
          "output_type": "stream",
          "name": "stdout",
          "text": [
            "Epoch 13 finished in 4.84 seconds\n",
            "\n",
            "Epoch [14/20]\n"
          ]
        },
        {
          "output_type": "stream",
          "name": "stderr",
          "text": [
            "100%|██████████| 89/89 [00:03<00:00, 29.62it/s]\n"
          ]
        },
        {
          "output_type": "stream",
          "name": "stdout",
          "text": [
            "Epoch 14 finished in 4.18 seconds\n",
            "\n",
            "Epoch [15/20]\n"
          ]
        },
        {
          "output_type": "stream",
          "name": "stderr",
          "text": [
            "100%|██████████| 89/89 [00:03<00:00, 29.57it/s]\n"
          ]
        },
        {
          "output_type": "stream",
          "name": "stdout",
          "text": [
            "Epoch 15 finished in 4.19 seconds\n",
            "\n",
            "Epoch [16/20]\n"
          ]
        },
        {
          "output_type": "stream",
          "name": "stderr",
          "text": [
            "100%|██████████| 89/89 [00:03<00:00, 28.36it/s]\n"
          ]
        },
        {
          "output_type": "stream",
          "name": "stdout",
          "text": [
            "Epoch 16 finished in 4.40 seconds\n",
            "\n",
            "Epoch [17/20]\n"
          ]
        },
        {
          "output_type": "stream",
          "name": "stderr",
          "text": [
            "100%|██████████| 89/89 [00:03<00:00, 28.16it/s]\n"
          ]
        },
        {
          "output_type": "stream",
          "name": "stdout",
          "text": [
            "Epoch 17 finished in 4.58 seconds\n",
            "\n",
            "Epoch [18/20]\n"
          ]
        },
        {
          "output_type": "stream",
          "name": "stderr",
          "text": [
            "100%|██████████| 89/89 [00:03<00:00, 29.45it/s]\n"
          ]
        },
        {
          "output_type": "stream",
          "name": "stdout",
          "text": [
            "Epoch 18 finished in 4.20 seconds\n",
            "\n",
            "Epoch [19/20]\n"
          ]
        },
        {
          "output_type": "stream",
          "name": "stderr",
          "text": [
            "100%|██████████| 89/89 [00:03<00:00, 28.89it/s]\n"
          ]
        },
        {
          "output_type": "stream",
          "name": "stdout",
          "text": [
            "Epoch 19 finished in 4.33 seconds\n",
            "\n",
            "Epoch [20/20]\n"
          ]
        },
        {
          "output_type": "stream",
          "name": "stderr",
          "text": [
            "100%|██████████| 89/89 [00:03<00:00, 28.59it/s]\n"
          ]
        },
        {
          "output_type": "stream",
          "name": "stdout",
          "text": [
            "Epoch 20 finished in 4.29 seconds\n",
            "✅ Training complete.\n"
          ]
        }
      ]
    },
    {
      "cell_type": "code",
      "source": [
        "data_flag = \"synapsemnist3d\"\n",
        "med3d = True\n",
        "model_name = f\"MedViT3D_{data_flag}\"\n",
        "## loading data\n",
        "(data_flag,\n",
        " NUM_EPOCHS,\n",
        " BATCH_SIZE,\n",
        " lr,\n",
        " task,\n",
        " train_loader,\n",
        " train_loader_at_eval,\n",
        " test_loader,\n",
        " n_classes) = data_input_loading(data_flag=data_flag,\n",
        "                                NUM_EPOCHS = NUM_EPOCHS,\n",
        "                                BATCH_SIZE=BATCH_SIZE,\n",
        "                                lr=lr,\n",
        "                                med3d= med3d)\n",
        "## train and record\n",
        "history = training_and_record(\n",
        "    model_class=MedViT3D_small,\n",
        "    model_name= model_name,\n",
        "    NUM_EPOCHS=NUM_EPOCHS,\n",
        "    lr=lr,\n",
        "    momentum=0.9,\n",
        "    train_loader=train_loader,\n",
        "    train_loader_at_eval=train_loader_at_eval,\n",
        "    test_loader=test_loader,\n",
        "    n_classes = n_classes,\n",
        "    task = task,\n",
        "    steps = len(train_loader)\n",
        ")"
      ],
      "metadata": {
        "colab": {
          "base_uri": "https://localhost:8080/"
        },
        "id": "pvtVnHS-CPPV",
        "outputId": "d7e3eb9d-8754-4170-86a6-78493c192014"
      },
      "execution_count": null,
      "outputs": [
        {
          "output_type": "stream",
          "name": "stderr",
          "text": [
            "100%|██████████| 38.0M/38.0M [00:03<00:00, 10.7MB/s]\n"
          ]
        },
        {
          "output_type": "stream",
          "name": "stdout",
          "text": [
            "\n",
            "Epoch [1/20]\n"
          ]
        },
        {
          "output_type": "stream",
          "name": "stderr",
          "text": [
            "100%|██████████| 82/82 [00:02<00:00, 28.13it/s]\n"
          ]
        },
        {
          "output_type": "stream",
          "name": "stdout",
          "text": [
            "Epoch 1 finished in 4.00 seconds\n",
            "📌 New best AUC — saving model\n",
            "\n",
            "Epoch [2/20]\n"
          ]
        },
        {
          "output_type": "stream",
          "name": "stderr",
          "text": [
            "100%|██████████| 82/82 [00:02<00:00, 30.18it/s]\n"
          ]
        },
        {
          "output_type": "stream",
          "name": "stdout",
          "text": [
            "Epoch 2 finished in 3.81 seconds\n",
            "📌 New best AUC — saving model\n",
            "\n",
            "Epoch [3/20]\n"
          ]
        },
        {
          "output_type": "stream",
          "name": "stderr",
          "text": [
            "100%|██████████| 82/82 [00:02<00:00, 30.03it/s]\n"
          ]
        },
        {
          "output_type": "stream",
          "name": "stdout",
          "text": [
            "Epoch 3 finished in 3.82 seconds\n",
            "📌 New best AUC — saving model\n",
            "\n",
            "Epoch [4/20]\n"
          ]
        },
        {
          "output_type": "stream",
          "name": "stderr",
          "text": [
            "100%|██████████| 82/82 [00:02<00:00, 29.06it/s]\n"
          ]
        },
        {
          "output_type": "stream",
          "name": "stdout",
          "text": [
            "Epoch 4 finished in 3.97 seconds\n",
            "📌 New best AUC — saving model\n",
            "\n",
            "Epoch [5/20]\n"
          ]
        },
        {
          "output_type": "stream",
          "name": "stderr",
          "text": [
            "100%|██████████| 82/82 [00:02<00:00, 29.20it/s]\n"
          ]
        },
        {
          "output_type": "stream",
          "name": "stdout",
          "text": [
            "Epoch 5 finished in 3.89 seconds\n",
            "📌 New best AUC — saving model\n",
            "\n",
            "Epoch [6/20]\n"
          ]
        },
        {
          "output_type": "stream",
          "name": "stderr",
          "text": [
            "100%|██████████| 82/82 [00:02<00:00, 29.73it/s]\n"
          ]
        },
        {
          "output_type": "stream",
          "name": "stdout",
          "text": [
            "Epoch 6 finished in 3.84 seconds\n",
            "\n",
            "Epoch [7/20]\n"
          ]
        },
        {
          "output_type": "stream",
          "name": "stderr",
          "text": [
            "100%|██████████| 82/82 [00:02<00:00, 29.27it/s]\n"
          ]
        },
        {
          "output_type": "stream",
          "name": "stdout",
          "text": [
            "Epoch 7 finished in 3.93 seconds\n",
            "📌 New best AUC — saving model\n",
            "\n",
            "Epoch [8/20]\n"
          ]
        },
        {
          "output_type": "stream",
          "name": "stderr",
          "text": [
            "100%|██████████| 82/82 [00:02<00:00, 29.40it/s]\n"
          ]
        },
        {
          "output_type": "stream",
          "name": "stdout",
          "text": [
            "Epoch 8 finished in 3.88 seconds\n",
            "\n",
            "Epoch [9/20]\n"
          ]
        },
        {
          "output_type": "stream",
          "name": "stderr",
          "text": [
            "100%|██████████| 82/82 [00:02<00:00, 28.58it/s]\n"
          ]
        },
        {
          "output_type": "stream",
          "name": "stdout",
          "text": [
            "Epoch 9 finished in 3.95 seconds\n",
            "\n",
            "Epoch [10/20]\n"
          ]
        },
        {
          "output_type": "stream",
          "name": "stderr",
          "text": [
            "100%|██████████| 82/82 [00:02<00:00, 29.32it/s]\n"
          ]
        },
        {
          "output_type": "stream",
          "name": "stdout",
          "text": [
            "Epoch 10 finished in 3.89 seconds\n",
            "\n",
            "Epoch [11/20]\n"
          ]
        },
        {
          "output_type": "stream",
          "name": "stderr",
          "text": [
            "100%|██████████| 82/82 [00:02<00:00, 29.07it/s]\n"
          ]
        },
        {
          "output_type": "stream",
          "name": "stdout",
          "text": [
            "Epoch 11 finished in 3.90 seconds\n",
            "\n",
            "Epoch [12/20]\n"
          ]
        },
        {
          "output_type": "stream",
          "name": "stderr",
          "text": [
            "100%|██████████| 82/82 [00:02<00:00, 29.45it/s]\n"
          ]
        },
        {
          "output_type": "stream",
          "name": "stdout",
          "text": [
            "Epoch 12 finished in 3.86 seconds\n",
            "\n",
            "Epoch [13/20]\n"
          ]
        },
        {
          "output_type": "stream",
          "name": "stderr",
          "text": [
            "100%|██████████| 82/82 [00:02<00:00, 29.35it/s]\n"
          ]
        },
        {
          "output_type": "stream",
          "name": "stdout",
          "text": [
            "Epoch 13 finished in 3.89 seconds\n",
            "\n",
            "Epoch [14/20]\n"
          ]
        },
        {
          "output_type": "stream",
          "name": "stderr",
          "text": [
            "100%|██████████| 82/82 [00:02<00:00, 28.69it/s]\n"
          ]
        },
        {
          "output_type": "stream",
          "name": "stdout",
          "text": [
            "Epoch 14 finished in 3.95 seconds\n",
            "\n",
            "Epoch [15/20]\n"
          ]
        },
        {
          "output_type": "stream",
          "name": "stderr",
          "text": [
            "100%|██████████| 82/82 [00:02<00:00, 29.12it/s]\n"
          ]
        },
        {
          "output_type": "stream",
          "name": "stdout",
          "text": [
            "Epoch 15 finished in 3.91 seconds\n",
            "\n",
            "Epoch [16/20]\n"
          ]
        },
        {
          "output_type": "stream",
          "name": "stderr",
          "text": [
            "100%|██████████| 82/82 [00:02<00:00, 29.10it/s]\n"
          ]
        },
        {
          "output_type": "stream",
          "name": "stdout",
          "text": [
            "Epoch 16 finished in 3.95 seconds\n",
            "\n",
            "Epoch [17/20]\n"
          ]
        },
        {
          "output_type": "stream",
          "name": "stderr",
          "text": [
            "100%|██████████| 82/82 [00:02<00:00, 28.57it/s]\n"
          ]
        },
        {
          "output_type": "stream",
          "name": "stdout",
          "text": [
            "Epoch 17 finished in 4.00 seconds\n",
            "\n",
            "Epoch [18/20]\n"
          ]
        },
        {
          "output_type": "stream",
          "name": "stderr",
          "text": [
            "100%|██████████| 82/82 [00:02<00:00, 28.74it/s]\n"
          ]
        },
        {
          "output_type": "stream",
          "name": "stdout",
          "text": [
            "Epoch 18 finished in 3.95 seconds\n",
            "\n",
            "Epoch [19/20]\n"
          ]
        },
        {
          "output_type": "stream",
          "name": "stderr",
          "text": [
            "100%|██████████| 82/82 [00:02<00:00, 29.01it/s]\n"
          ]
        },
        {
          "output_type": "stream",
          "name": "stdout",
          "text": [
            "Epoch 19 finished in 3.94 seconds\n",
            "\n",
            "Epoch [20/20]\n"
          ]
        },
        {
          "output_type": "stream",
          "name": "stderr",
          "text": [
            "100%|██████████| 82/82 [00:02<00:00, 28.36it/s]\n"
          ]
        },
        {
          "output_type": "stream",
          "name": "stdout",
          "text": [
            "Epoch 20 finished in 3.98 seconds\n",
            "✅ Training complete.\n"
          ]
        }
      ]
    },
    {
      "cell_type": "markdown",
      "source": [
        " MedVit2D"
      ],
      "metadata": {
        "id": "S5qNBKRmsoTU"
      }
    },
    {
      "cell_type": "code",
      "source": [
        "# # [tissuemnist, pathmnist, dermamnist, octmnist,\n",
        "# # pnemoniamnist, retinamnist, breastmnist, bloodmnist, tissuemnist, organamnist, organcmnist, organsmnist]\n",
        "data_flag = \"dermamnist\"\n",
        "med3d = False\n",
        "model_name = f\"MedViT2D_{data_flag}\"\n",
        "(data_flag,\n",
        " NUM_EPOCHS,\n",
        " BATCH_SIZE,\n",
        " lr,\n",
        " task,\n",
        " train_loader,\n",
        " train_loader_at_eval,\n",
        " test_loader,\n",
        " n_classes) = data_input_loading(data_flag=data_flag,\n",
        "                                 med3d = False,\n",
        "                                 NUM_EPOCHS = NUM_EPOCHS,\n",
        "                                 BATCH_SIZE=BATCH_SIZE,\n",
        "                                 lr=lr)\n",
        "#print(n_classes)\n",
        "history = training_and_record(\n",
        "    model_class=MedViT_small,\n",
        "    model_name= model_name,\n",
        "    NUM_EPOCHS=NUM_EPOCHS,\n",
        "    lr=lr,\n",
        "    momentum=0.9,\n",
        "    train_loader=train_loader,\n",
        "    train_loader_at_eval=train_loader_at_eval,\n",
        "    test_loader=test_loader,\n",
        "    n_classes = n_classes,\n",
        "    task = task,\n",
        "    steps = len(train_loader)\n",
        ")\n"
      ],
      "metadata": {
        "colab": {
          "base_uri": "https://localhost:8080/"
        },
        "id": "qlC7BLPwsnka",
        "outputId": "d3088bdb-5f0b-4e60-b4ae-f815111f6379"
      },
      "execution_count": 8,
      "outputs": [
        {
          "output_type": "stream",
          "name": "stderr",
          "text": [
            "100%|██████████| 19.7M/19.7M [00:00<00:00, 45.4MB/s]\n"
          ]
        },
        {
          "output_type": "stream",
          "name": "stdout",
          "text": [
            "initialize_weights...\n",
            "\n",
            "Epoch [1/20]\n"
          ]
        },
        {
          "output_type": "stream",
          "name": "stderr",
          "text": [
            "100%|██████████| 53/53 [00:43<00:00,  1.21it/s]\n"
          ]
        },
        {
          "output_type": "stream",
          "name": "stdout",
          "text": [
            "Epoch 1 finished in 48.03 seconds\n",
            "📌 New best AUC — saving model\n",
            "\n",
            "Epoch [2/20]\n"
          ]
        },
        {
          "output_type": "stream",
          "name": "stderr",
          "text": [
            "100%|██████████| 53/53 [00:42<00:00,  1.24it/s]\n"
          ]
        },
        {
          "output_type": "stream",
          "name": "stdout",
          "text": [
            "Epoch 2 finished in 46.96 seconds\n",
            "📌 New best AUC — saving model\n",
            "\n",
            "Epoch [3/20]\n"
          ]
        },
        {
          "output_type": "stream",
          "name": "stderr",
          "text": [
            "100%|██████████| 53/53 [00:41<00:00,  1.27it/s]\n"
          ]
        },
        {
          "output_type": "stream",
          "name": "stdout",
          "text": [
            "Epoch 3 finished in 46.01 seconds\n",
            "📌 New best AUC — saving model\n",
            "\n",
            "Epoch [4/20]\n"
          ]
        },
        {
          "output_type": "stream",
          "name": "stderr",
          "text": [
            "100%|██████████| 53/53 [00:42<00:00,  1.26it/s]\n"
          ]
        },
        {
          "output_type": "stream",
          "name": "stdout",
          "text": [
            "Epoch 4 finished in 46.39 seconds\n",
            "\n",
            "Epoch [5/20]\n"
          ]
        },
        {
          "output_type": "stream",
          "name": "stderr",
          "text": [
            "100%|██████████| 53/53 [00:41<00:00,  1.27it/s]\n"
          ]
        },
        {
          "output_type": "stream",
          "name": "stdout",
          "text": [
            "Epoch 5 finished in 46.05 seconds\n",
            "📌 New best AUC — saving model\n",
            "\n",
            "Epoch [6/20]\n"
          ]
        },
        {
          "output_type": "stream",
          "name": "stderr",
          "text": [
            "100%|██████████| 53/53 [00:41<00:00,  1.27it/s]\n"
          ]
        },
        {
          "output_type": "stream",
          "name": "stdout",
          "text": [
            "Epoch 6 finished in 46.08 seconds\n",
            "\n",
            "Epoch [7/20]\n"
          ]
        },
        {
          "output_type": "stream",
          "name": "stderr",
          "text": [
            "100%|██████████| 53/53 [00:41<00:00,  1.27it/s]\n"
          ]
        },
        {
          "output_type": "stream",
          "name": "stdout",
          "text": [
            "Epoch 7 finished in 45.96 seconds\n",
            "📌 New best AUC — saving model\n",
            "\n",
            "Epoch [8/20]\n"
          ]
        },
        {
          "output_type": "stream",
          "name": "stderr",
          "text": [
            "100%|██████████| 53/53 [00:41<00:00,  1.26it/s]\n"
          ]
        },
        {
          "output_type": "stream",
          "name": "stdout",
          "text": [
            "Epoch 8 finished in 46.13 seconds\n",
            "\n",
            "Epoch [9/20]\n"
          ]
        },
        {
          "output_type": "stream",
          "name": "stderr",
          "text": [
            "100%|██████████| 53/53 [00:42<00:00,  1.26it/s]\n"
          ]
        },
        {
          "output_type": "stream",
          "name": "stdout",
          "text": [
            "Epoch 9 finished in 46.28 seconds\n",
            "📌 New best AUC — saving model\n",
            "\n",
            "Epoch [10/20]\n"
          ]
        },
        {
          "output_type": "stream",
          "name": "stderr",
          "text": [
            "100%|██████████| 53/53 [00:42<00:00,  1.26it/s]\n"
          ]
        },
        {
          "output_type": "stream",
          "name": "stdout",
          "text": [
            "Epoch 10 finished in 46.21 seconds\n",
            "📌 New best AUC — saving model\n",
            "\n",
            "Epoch [11/20]\n"
          ]
        },
        {
          "output_type": "stream",
          "name": "stderr",
          "text": [
            "100%|██████████| 53/53 [00:41<00:00,  1.27it/s]\n"
          ]
        },
        {
          "output_type": "stream",
          "name": "stdout",
          "text": [
            "Epoch 11 finished in 46.02 seconds\n",
            "📌 New best AUC — saving model\n",
            "\n",
            "Epoch [12/20]\n"
          ]
        },
        {
          "output_type": "stream",
          "name": "stderr",
          "text": [
            "100%|██████████| 53/53 [00:42<00:00,  1.26it/s]\n"
          ]
        },
        {
          "output_type": "stream",
          "name": "stdout",
          "text": [
            "Epoch 12 finished in 46.32 seconds\n",
            "\n",
            "Epoch [13/20]\n"
          ]
        },
        {
          "output_type": "stream",
          "name": "stderr",
          "text": [
            "100%|██████████| 53/53 [00:41<00:00,  1.26it/s]\n"
          ]
        },
        {
          "output_type": "stream",
          "name": "stdout",
          "text": [
            "Epoch 13 finished in 46.16 seconds\n",
            "\n",
            "Epoch [14/20]\n"
          ]
        },
        {
          "output_type": "stream",
          "name": "stderr",
          "text": [
            "100%|██████████| 53/53 [00:41<00:00,  1.27it/s]\n"
          ]
        },
        {
          "output_type": "stream",
          "name": "stdout",
          "text": [
            "Epoch 14 finished in 46.09 seconds\n",
            "📌 New best AUC — saving model\n",
            "\n",
            "Epoch [15/20]\n"
          ]
        },
        {
          "output_type": "stream",
          "name": "stderr",
          "text": [
            "100%|██████████| 53/53 [00:41<00:00,  1.26it/s]\n"
          ]
        },
        {
          "output_type": "stream",
          "name": "stdout",
          "text": [
            "Epoch 15 finished in 46.11 seconds\n",
            "\n",
            "Epoch [16/20]\n"
          ]
        },
        {
          "output_type": "stream",
          "name": "stderr",
          "text": [
            "100%|██████████| 53/53 [00:41<00:00,  1.27it/s]\n"
          ]
        },
        {
          "output_type": "stream",
          "name": "stdout",
          "text": [
            "Epoch 16 finished in 45.80 seconds\n",
            "\n",
            "Epoch [17/20]\n"
          ]
        },
        {
          "output_type": "stream",
          "name": "stderr",
          "text": [
            "100%|██████████| 53/53 [00:41<00:00,  1.27it/s]\n"
          ]
        },
        {
          "output_type": "stream",
          "name": "stdout",
          "text": [
            "Epoch 17 finished in 45.86 seconds\n",
            "\n",
            "Epoch [18/20]\n"
          ]
        },
        {
          "output_type": "stream",
          "name": "stderr",
          "text": [
            "100%|██████████| 53/53 [00:41<00:00,  1.27it/s]\n"
          ]
        },
        {
          "output_type": "stream",
          "name": "stdout",
          "text": [
            "Epoch 18 finished in 45.96 seconds\n",
            "\n",
            "Epoch [19/20]\n"
          ]
        },
        {
          "output_type": "stream",
          "name": "stderr",
          "text": [
            "100%|██████████| 53/53 [00:41<00:00,  1.26it/s]\n"
          ]
        },
        {
          "output_type": "stream",
          "name": "stdout",
          "text": [
            "Epoch 19 finished in 46.11 seconds\n",
            "\n",
            "Epoch [20/20]\n"
          ]
        },
        {
          "output_type": "stream",
          "name": "stderr",
          "text": [
            "100%|██████████| 53/53 [00:41<00:00,  1.27it/s]\n"
          ]
        },
        {
          "output_type": "stream",
          "name": "stdout",
          "text": [
            "Epoch 20 finished in 46.07 seconds\n",
            "✅ Training complete.\n"
          ]
        }
      ]
    },
    {
      "cell_type": "code",
      "source": [
        "# # [tissuemnist, pathmnist, dermamnist, octmnist,\n",
        "# # pnemoniamnist, retinamnist, breastmnist, bloodmnist, tissuemnist, organamnist, organcmnist, organsmnist]\n",
        "data_flag = \"tissuemnist\"\n",
        "med3d = False\n",
        "model_name = f\"MedViT2D_{data_flag}\"\n",
        "(data_flag,\n",
        " NUM_EPOCHS,\n",
        " BATCH_SIZE,\n",
        " lr,\n",
        " task,\n",
        " train_loader,\n",
        " train_loader_at_eval,\n",
        " test_loader,\n",
        " n_classes) = data_input_loading(data_flag=data_flag,\n",
        "                                 med3d = False,\n",
        "                                 NUM_EPOCHS = NUM_EPOCHS,\n",
        "                                 BATCH_SIZE=BATCH_SIZE,\n",
        "                                 lr=lr)\n",
        "\n",
        "history = training_and_record(\n",
        "    model_class=MedViT_small,\n",
        "    model_name= model_name,\n",
        "    NUM_EPOCHS=NUM_EPOCHS,\n",
        "    lr=lr,\n",
        "    momentum=0.9,\n",
        "    train_loader=train_loader,\n",
        "    train_loader_at_eval=train_loader_at_eval,\n",
        "    test_loader=test_loader,\n",
        "    n_classes = n_classes,\n",
        "    task = task,\n",
        "    steps = len(train_loader)\n",
        ")\n"
      ],
      "metadata": {
        "id": "oNE3p63bsnev",
        "colab": {
          "base_uri": "https://localhost:8080/"
        },
        "outputId": "bfdc4a7b-d0eb-44f2-b3fc-09e08c256502"
      },
      "execution_count": null,
      "outputs": [
        {
          "output_type": "stream",
          "name": "stderr",
          "text": [
            "100%|██████████| 125M/125M [03:16<00:00, 637kB/s]\n"
          ]
        },
        {
          "output_type": "stream",
          "name": "stdout",
          "text": [
            "initialize_weights...\n",
            "\n",
            "Epoch [1/20]\n"
          ]
        },
        {
          "output_type": "stream",
          "name": "stderr",
          "text": [
            "100%|██████████| 70/70 [00:45<00:00,  1.55it/s]\n"
          ]
        },
        {
          "output_type": "stream",
          "name": "stdout",
          "text": [
            "Epoch 1 finished in 46.15 seconds\n",
            "📌 New best AUC — saving model\n",
            "\n",
            "Epoch [2/20]\n"
          ]
        },
        {
          "output_type": "stream",
          "name": "stderr",
          "text": [
            "100%|██████████| 70/70 [00:44<00:00,  1.56it/s]\n"
          ]
        },
        {
          "output_type": "stream",
          "name": "stdout",
          "text": [
            "Epoch 2 finished in 45.93 seconds\n",
            "📌 New best AUC — saving model\n",
            "\n",
            "Epoch [3/20]\n"
          ]
        },
        {
          "output_type": "stream",
          "name": "stderr",
          "text": [
            "100%|██████████| 70/70 [00:45<00:00,  1.54it/s]\n"
          ]
        },
        {
          "output_type": "stream",
          "name": "stdout",
          "text": [
            "Epoch 3 finished in 46.51 seconds\n",
            "📌 New best AUC — saving model\n",
            "\n",
            "Epoch [4/20]\n"
          ]
        },
        {
          "output_type": "stream",
          "name": "stderr",
          "text": [
            "100%|██████████| 70/70 [00:45<00:00,  1.54it/s]\n"
          ]
        },
        {
          "output_type": "stream",
          "name": "stdout",
          "text": [
            "Epoch 4 finished in 46.35 seconds\n",
            "\n",
            "Epoch [5/20]\n"
          ]
        },
        {
          "output_type": "stream",
          "name": "stderr",
          "text": [
            "100%|██████████| 70/70 [00:45<00:00,  1.53it/s]\n"
          ]
        },
        {
          "output_type": "stream",
          "name": "stdout",
          "text": [
            "Epoch 5 finished in 46.71 seconds\n",
            "📌 New best AUC — saving model\n",
            "\n",
            "Epoch [6/20]\n"
          ]
        },
        {
          "output_type": "stream",
          "name": "stderr",
          "text": [
            "100%|██████████| 70/70 [00:45<00:00,  1.53it/s]\n"
          ]
        },
        {
          "output_type": "stream",
          "name": "stdout",
          "text": [
            "Epoch 6 finished in 46.81 seconds\n",
            "\n",
            "Epoch [7/20]\n"
          ]
        },
        {
          "output_type": "stream",
          "name": "stderr",
          "text": [
            "100%|██████████| 70/70 [00:45<00:00,  1.54it/s]\n"
          ]
        },
        {
          "output_type": "stream",
          "name": "stdout",
          "text": [
            "Epoch 7 finished in 46.55 seconds\n",
            "📌 New best AUC — saving model\n",
            "\n",
            "Epoch [8/20]\n"
          ]
        },
        {
          "output_type": "stream",
          "name": "stderr",
          "text": [
            "100%|██████████| 70/70 [00:45<00:00,  1.54it/s]\n"
          ]
        },
        {
          "output_type": "stream",
          "name": "stdout",
          "text": [
            "Epoch 8 finished in 46.55 seconds\n",
            "📌 New best AUC — saving model\n",
            "\n",
            "Epoch [9/20]\n"
          ]
        },
        {
          "output_type": "stream",
          "name": "stderr",
          "text": [
            "100%|██████████| 70/70 [00:45<00:00,  1.53it/s]\n"
          ]
        },
        {
          "output_type": "stream",
          "name": "stdout",
          "text": [
            "Epoch 9 finished in 46.73 seconds\n",
            "📌 New best AUC — saving model\n",
            "\n",
            "Epoch [10/20]\n"
          ]
        },
        {
          "output_type": "stream",
          "name": "stderr",
          "text": [
            "100%|██████████| 70/70 [00:45<00:00,  1.54it/s]\n"
          ]
        },
        {
          "output_type": "stream",
          "name": "stdout",
          "text": [
            "Epoch 10 finished in 46.49 seconds\n",
            "\n",
            "Epoch [11/20]\n"
          ]
        },
        {
          "output_type": "stream",
          "name": "stderr",
          "text": [
            "100%|██████████| 70/70 [00:45<00:00,  1.53it/s]\n"
          ]
        },
        {
          "output_type": "stream",
          "name": "stdout",
          "text": [
            "Epoch 11 finished in 46.73 seconds\n",
            "📌 New best AUC — saving model\n",
            "\n",
            "Epoch [12/20]\n"
          ]
        },
        {
          "output_type": "stream",
          "name": "stderr",
          "text": [
            "100%|██████████| 70/70 [00:45<00:00,  1.53it/s]\n"
          ]
        },
        {
          "output_type": "stream",
          "name": "stdout",
          "text": [
            "Epoch 12 finished in 46.60 seconds\n",
            "\n",
            "Epoch [13/20]\n"
          ]
        },
        {
          "output_type": "stream",
          "name": "stderr",
          "text": [
            "100%|██████████| 70/70 [00:45<00:00,  1.53it/s]\n"
          ]
        },
        {
          "output_type": "stream",
          "name": "stdout",
          "text": [
            "Epoch 13 finished in 46.79 seconds\n",
            "📌 New best AUC — saving model\n",
            "\n",
            "Epoch [14/20]\n"
          ]
        },
        {
          "output_type": "stream",
          "name": "stderr",
          "text": [
            "100%|██████████| 70/70 [00:46<00:00,  1.52it/s]\n"
          ]
        },
        {
          "output_type": "stream",
          "name": "stdout",
          "text": [
            "Epoch 14 finished in 47.02 seconds\n",
            "\n",
            "Epoch [15/20]\n"
          ]
        },
        {
          "output_type": "stream",
          "name": "stderr",
          "text": [
            "100%|██████████| 70/70 [00:45<00:00,  1.53it/s]\n"
          ]
        },
        {
          "output_type": "stream",
          "name": "stdout",
          "text": [
            "Epoch 15 finished in 46.61 seconds\n",
            "📌 New best AUC — saving model\n",
            "\n",
            "Epoch [16/20]\n"
          ]
        },
        {
          "output_type": "stream",
          "name": "stderr",
          "text": [
            "100%|██████████| 70/70 [00:45<00:00,  1.52it/s]\n"
          ]
        },
        {
          "output_type": "stream",
          "name": "stdout",
          "text": [
            "Epoch 16 finished in 46.87 seconds\n",
            "\n",
            "Epoch [17/20]\n"
          ]
        },
        {
          "output_type": "stream",
          "name": "stderr",
          "text": [
            "100%|██████████| 70/70 [00:45<00:00,  1.53it/s]\n"
          ]
        },
        {
          "output_type": "stream",
          "name": "stdout",
          "text": [
            "Epoch 17 finished in 46.80 seconds\n",
            "\n",
            "Epoch [18/20]\n"
          ]
        },
        {
          "output_type": "stream",
          "name": "stderr",
          "text": [
            "100%|██████████| 70/70 [00:45<00:00,  1.52it/s]\n"
          ]
        },
        {
          "output_type": "stream",
          "name": "stdout",
          "text": [
            "Epoch 18 finished in 46.93 seconds\n",
            "\n",
            "Epoch [19/20]\n"
          ]
        },
        {
          "output_type": "stream",
          "name": "stderr",
          "text": [
            "100%|██████████| 70/70 [00:45<00:00,  1.53it/s]\n"
          ]
        },
        {
          "output_type": "stream",
          "name": "stdout",
          "text": [
            "Epoch 19 finished in 46.61 seconds\n",
            "\n",
            "Epoch [20/20]\n"
          ]
        },
        {
          "output_type": "stream",
          "name": "stderr",
          "text": [
            "100%|██████████| 70/70 [00:45<00:00,  1.53it/s]\n"
          ]
        },
        {
          "output_type": "stream",
          "name": "stdout",
          "text": [
            "Epoch 20 finished in 46.82 seconds\n",
            "✅ Training complete.\n"
          ]
        }
      ]
    },
    {
      "cell_type": "code",
      "source": [
        "# # [tissuemnist, pathmnist, dermamnist, octmnist,\n",
        "# # pnemoniamnist, retinamnist, breastmnist, bloodmnist, tissuemnist, organamnist, organcmnist, organsmnist]\n",
        "data_flag = \"pathmnist\"\n",
        "med3d = False\n",
        "model_name = f\"MedViT2D_{data_flag}\"\n",
        "(data_flag,\n",
        " NUM_EPOCHS,\n",
        " BATCH_SIZE,\n",
        " lr,\n",
        " task,\n",
        " train_loader,\n",
        " train_loader_at_eval,\n",
        " test_loader,\n",
        " n_classes) = data_input_loading(data_flag=data_flag,\n",
        "                                 med3d = False,\n",
        "                                 NUM_EPOCHS = NUM_EPOCHS,\n",
        "                                 BATCH_SIZE=BATCH_SIZE,\n",
        "                                 lr=lr)\n",
        "\n",
        "history = training_and_record(\n",
        "    model_class=MedViT_small,\n",
        "    model_name= model_name,\n",
        "    NUM_EPOCHS=NUM_EPOCHS,\n",
        "    lr=lr,\n",
        "    momentum=0.9,\n",
        "    train_loader=train_loader,\n",
        "    train_loader_at_eval=train_loader_at_eval,\n",
        "    test_loader=test_loader,\n",
        "    n_classes = n_classes,\n",
        "    task = task,\n",
        "    steps = len(train_loader)\n",
        ")"
      ],
      "metadata": {
        "id": "jE7C4XjhsnWp",
        "colab": {
          "base_uri": "https://localhost:8080/"
        },
        "outputId": "27618eba-8133-4aaa-89c5-721172d35310"
      },
      "execution_count": null,
      "outputs": [
        {
          "metadata": {
            "tags": null
          },
          "name": "stderr",
          "output_type": "stream",
          "text": [
            "100%|██████████| 206M/206M [00:13<00:00, 15.8MB/s]\n"
          ]
        },
        {
          "metadata": {
            "tags": null
          },
          "name": "stdout",
          "output_type": "stream",
          "text": [
            "initialize_weights...\n",
            "\n",
            "Epoch [1/20]\n"
          ]
        },
        {
          "metadata": {
            "tags": null
          },
          "name": "stderr",
          "output_type": "stream",
          "text": [
            "100%|██████████| 70/70 [00:47<00:00,  1.48it/s]\n"
          ]
        },
        {
          "metadata": {
            "tags": null
          },
          "name": "stdout",
          "output_type": "stream",
          "text": [
            "Epoch 1 finished in 48.39 seconds\n",
            "📌 New best AUC — saving model\n",
            "\n",
            "Epoch [2/20]\n"
          ]
        },
        {
          "metadata": {
            "tags": null
          },
          "name": "stderr",
          "output_type": "stream",
          "text": [
            "100%|██████████| 70/70 [00:47<00:00,  1.46it/s]\n"
          ]
        },
        {
          "metadata": {
            "tags": null
          },
          "name": "stdout",
          "output_type": "stream",
          "text": [
            "Epoch 2 finished in 48.79 seconds\n",
            "📌 New best AUC — saving model\n",
            "\n",
            "Epoch [3/20]\n"
          ]
        },
        {
          "metadata": {
            "tags": null
          },
          "name": "stderr",
          "output_type": "stream",
          "text": [
            "100%|██████████| 70/70 [00:47<00:00,  1.47it/s]\n"
          ]
        },
        {
          "metadata": {
            "tags": null
          },
          "name": "stdout",
          "output_type": "stream",
          "text": [
            "Epoch 3 finished in 48.57 seconds\n",
            "📌 New best AUC — saving model\n",
            "\n",
            "Epoch [4/20]\n"
          ]
        },
        {
          "metadata": {
            "tags": null
          },
          "name": "stderr",
          "output_type": "stream",
          "text": [
            "100%|██████████| 70/70 [00:47<00:00,  1.46it/s]\n"
          ]
        },
        {
          "metadata": {
            "tags": null
          },
          "name": "stdout",
          "output_type": "stream",
          "text": [
            "Epoch 4 finished in 48.78 seconds\n",
            "\n",
            "Epoch [5/20]\n"
          ]
        },
        {
          "metadata": {
            "tags": null
          },
          "name": "stderr",
          "output_type": "stream",
          "text": [
            "100%|██████████| 70/70 [00:47<00:00,  1.46it/s]\n"
          ]
        },
        {
          "metadata": {
            "tags": null
          },
          "name": "stdout",
          "output_type": "stream",
          "text": [
            "Epoch 5 finished in 49.02 seconds\n",
            "📌 New best AUC — saving model\n",
            "\n",
            "Epoch [6/20]\n"
          ]
        },
        {
          "metadata": {
            "tags": null
          },
          "name": "stderr",
          "output_type": "stream",
          "text": [
            "100%|██████████| 70/70 [00:47<00:00,  1.46it/s]\n"
          ]
        },
        {
          "metadata": {
            "tags": null
          },
          "name": "stdout",
          "output_type": "stream",
          "text": [
            "Epoch 6 finished in 48.98 seconds\n",
            "\n",
            "Epoch [7/20]\n"
          ]
        },
        {
          "output_type": "stream",
          "name": "stderr",
          "text": [
            "100%|██████████| 70/70 [00:47<00:00,  1.47it/s]\n"
          ]
        },
        {
          "output_type": "stream",
          "name": "stdout",
          "text": [
            "Epoch 7 finished in 48.72 seconds\n",
            "📌 New best AUC — saving model\n",
            "\n",
            "Epoch [8/20]\n"
          ]
        },
        {
          "output_type": "stream",
          "name": "stderr",
          "text": [
            "100%|██████████| 70/70 [00:47<00:00,  1.46it/s]\n"
          ]
        },
        {
          "output_type": "stream",
          "name": "stdout",
          "text": [
            "Epoch 8 finished in 48.87 seconds\n",
            "📌 New best AUC — saving model\n",
            "\n",
            "Epoch [9/20]\n"
          ]
        },
        {
          "output_type": "stream",
          "name": "stderr",
          "text": [
            "100%|██████████| 70/70 [00:47<00:00,  1.46it/s]\n"
          ]
        },
        {
          "output_type": "stream",
          "name": "stdout",
          "text": [
            "Epoch 9 finished in 48.83 seconds\n",
            "\n",
            "Epoch [10/20]\n"
          ]
        },
        {
          "output_type": "stream",
          "name": "stderr",
          "text": [
            "100%|██████████| 70/70 [00:47<00:00,  1.46it/s]\n"
          ]
        },
        {
          "output_type": "stream",
          "name": "stdout",
          "text": [
            "Epoch 10 finished in 48.81 seconds\n",
            "\n",
            "Epoch [11/20]\n"
          ]
        },
        {
          "output_type": "stream",
          "name": "stderr",
          "text": [
            "100%|██████████| 70/70 [00:48<00:00,  1.45it/s]\n"
          ]
        },
        {
          "output_type": "stream",
          "name": "stdout",
          "text": [
            "Epoch 11 finished in 49.28 seconds\n",
            "📌 New best AUC — saving model\n",
            "\n",
            "Epoch [12/20]\n"
          ]
        },
        {
          "output_type": "stream",
          "name": "stderr",
          "text": [
            "100%|██████████| 70/70 [00:47<00:00,  1.46it/s]\n"
          ]
        },
        {
          "output_type": "stream",
          "name": "stdout",
          "text": [
            "Epoch 12 finished in 48.91 seconds\n",
            "\n",
            "Epoch [13/20]\n"
          ]
        },
        {
          "output_type": "stream",
          "name": "stderr",
          "text": [
            "100%|██████████| 70/70 [00:48<00:00,  1.45it/s]\n"
          ]
        },
        {
          "output_type": "stream",
          "name": "stdout",
          "text": [
            "Epoch 13 finished in 49.31 seconds\n",
            "\n",
            "Epoch [14/20]\n"
          ]
        },
        {
          "output_type": "stream",
          "name": "stderr",
          "text": [
            "100%|██████████| 70/70 [00:48<00:00,  1.46it/s]\n"
          ]
        },
        {
          "output_type": "stream",
          "name": "stdout",
          "text": [
            "Epoch 14 finished in 49.03 seconds\n",
            "\n",
            "Epoch [15/20]\n"
          ]
        },
        {
          "output_type": "stream",
          "name": "stderr",
          "text": [
            "100%|██████████| 70/70 [00:47<00:00,  1.46it/s]\n"
          ]
        },
        {
          "output_type": "stream",
          "name": "stdout",
          "text": [
            "Epoch 15 finished in 48.97 seconds\n",
            "📌 New best AUC — saving model\n",
            "\n",
            "Epoch [16/20]\n"
          ]
        },
        {
          "output_type": "stream",
          "name": "stderr",
          "text": [
            "100%|██████████| 70/70 [00:48<00:00,  1.46it/s]\n"
          ]
        },
        {
          "output_type": "stream",
          "name": "stdout",
          "text": [
            "Epoch 16 finished in 49.08 seconds\n",
            "\n",
            "Epoch [17/20]\n"
          ]
        },
        {
          "output_type": "stream",
          "name": "stderr",
          "text": [
            "100%|██████████| 70/70 [00:47<00:00,  1.47it/s]\n"
          ]
        },
        {
          "output_type": "stream",
          "name": "stdout",
          "text": [
            "Epoch 17 finished in 48.63 seconds\n",
            "\n",
            "Epoch [18/20]\n"
          ]
        },
        {
          "output_type": "stream",
          "name": "stderr",
          "text": [
            "100%|██████████| 70/70 [00:48<00:00,  1.46it/s]\n"
          ]
        },
        {
          "output_type": "stream",
          "name": "stdout",
          "text": [
            "Epoch 18 finished in 49.07 seconds\n",
            "\n",
            "Epoch [19/20]\n"
          ]
        },
        {
          "output_type": "stream",
          "name": "stderr",
          "text": [
            "100%|██████████| 70/70 [00:47<00:00,  1.46it/s]\n"
          ]
        },
        {
          "output_type": "stream",
          "name": "stdout",
          "text": [
            "Epoch 19 finished in 48.96 seconds\n",
            "\n",
            "Epoch [20/20]\n"
          ]
        },
        {
          "output_type": "stream",
          "name": "stderr",
          "text": [
            "100%|██████████| 70/70 [00:48<00:00,  1.46it/s]\n"
          ]
        },
        {
          "output_type": "stream",
          "name": "stdout",
          "text": [
            "Epoch 20 finished in 49.06 seconds\n",
            "📌 New best AUC — saving model\n",
            "✅ Training complete.\n"
          ]
        }
      ]
    },
    {
      "cell_type": "code",
      "source": [
        "# # [tissuemnist, pathmnist, dermamnist, octmnist,\n",
        "# # pnemoniamnist, retinamnist, breastmnist, bloodmnist, tissuemnist, organamnist, organcmnist, organsmnist]\n",
        "data_flag = \"octmnist\"\n",
        "med3d = False\n",
        "model_name = f\"MedViT2D_{data_flag}\"\n",
        "(data_flag,\n",
        " NUM_EPOCHS,\n",
        " BATCH_SIZE,\n",
        " lr,\n",
        " task,\n",
        " train_loader,\n",
        " train_loader_at_eval,\n",
        " test_loader,\n",
        " n_classes) = data_input_loading(data_flag=data_flag,\n",
        "                                 med3d = False,\n",
        "                                 NUM_EPOCHS = NUM_EPOCHS,\n",
        "                                 BATCH_SIZE=BATCH_SIZE,\n",
        "                                 lr=lr)\n",
        "\n",
        "history = training_and_record(\n",
        "    model_class=MedViT_small,\n",
        "    model_name= model_name,\n",
        "    NUM_EPOCHS=NUM_EPOCHS,\n",
        "    lr=lr,\n",
        "    momentum=0.9,\n",
        "    train_loader=train_loader,\n",
        "    train_loader_at_eval=train_loader_at_eval,\n",
        "    test_loader=test_loader,\n",
        "    n_classes = n_classes,\n",
        "    task = task,\n",
        "    steps = len(train_loader)\n",
        ")"
      ],
      "metadata": {
        "id": "GW8d1DuwsnDW",
        "colab": {
          "base_uri": "https://localhost:8080/"
        },
        "outputId": "ebd3a169-ed91-4a8d-a7e5-aa2bf669d15c"
      },
      "execution_count": null,
      "outputs": [
        {
          "output_type": "stream",
          "name": "stderr",
          "text": [
            "100%|██████████| 54.9M/54.9M [00:04<00:00, 13.5MB/s]\n"
          ]
        },
        {
          "output_type": "stream",
          "name": "stdout",
          "text": [
            "initialize_weights...\n",
            "\n",
            "Epoch [1/20]\n"
          ]
        },
        {
          "output_type": "stream",
          "name": "stderr",
          "text": [
            "100%|██████████| 70/70 [00:47<00:00,  1.46it/s]\n"
          ]
        },
        {
          "output_type": "stream",
          "name": "stdout",
          "text": [
            "Epoch 1 finished in 48.57 seconds\n",
            "📌 New best AUC — saving model\n",
            "\n",
            "Epoch [2/20]\n"
          ]
        },
        {
          "output_type": "stream",
          "name": "stderr",
          "text": [
            "100%|██████████| 70/70 [00:48<00:00,  1.44it/s]\n"
          ]
        },
        {
          "output_type": "stream",
          "name": "stdout",
          "text": [
            "Epoch 2 finished in 49.46 seconds\n",
            "📌 New best AUC — saving model\n",
            "\n",
            "Epoch [3/20]\n"
          ]
        },
        {
          "output_type": "stream",
          "name": "stderr",
          "text": [
            "100%|██████████| 70/70 [00:48<00:00,  1.46it/s]\n"
          ]
        },
        {
          "output_type": "stream",
          "name": "stdout",
          "text": [
            "Epoch 3 finished in 48.73 seconds\n",
            "\n",
            "Epoch [4/20]\n"
          ]
        },
        {
          "output_type": "stream",
          "name": "stderr",
          "text": [
            "100%|██████████| 70/70 [00:48<00:00,  1.45it/s]\n"
          ]
        },
        {
          "output_type": "stream",
          "name": "stdout",
          "text": [
            "Epoch 4 finished in 49.03 seconds\n",
            "\n",
            "Epoch [5/20]\n"
          ]
        },
        {
          "output_type": "stream",
          "name": "stderr",
          "text": [
            "100%|██████████| 70/70 [00:48<00:00,  1.43it/s]\n"
          ]
        },
        {
          "output_type": "stream",
          "name": "stdout",
          "text": [
            "Epoch 5 finished in 49.51 seconds\n",
            "\n",
            "Epoch [6/20]\n"
          ]
        },
        {
          "output_type": "stream",
          "name": "stderr",
          "text": [
            "100%|██████████| 70/70 [00:48<00:00,  1.44it/s]\n"
          ]
        },
        {
          "output_type": "stream",
          "name": "stdout",
          "text": [
            "Epoch 6 finished in 49.22 seconds\n",
            "📌 New best AUC — saving model\n",
            "\n",
            "Epoch [7/20]\n"
          ]
        },
        {
          "output_type": "stream",
          "name": "stderr",
          "text": [
            "100%|██████████| 70/70 [00:48<00:00,  1.44it/s]\n"
          ]
        },
        {
          "output_type": "stream",
          "name": "stdout",
          "text": [
            "Epoch 7 finished in 49.39 seconds\n",
            "📌 New best AUC — saving model\n",
            "\n",
            "Epoch [8/20]\n"
          ]
        },
        {
          "output_type": "stream",
          "name": "stderr",
          "text": [
            "100%|██████████| 70/70 [00:48<00:00,  1.44it/s]\n"
          ]
        },
        {
          "output_type": "stream",
          "name": "stdout",
          "text": [
            "Epoch 8 finished in 49.45 seconds\n",
            "\n",
            "Epoch [9/20]\n"
          ]
        },
        {
          "output_type": "stream",
          "name": "stderr",
          "text": [
            "100%|██████████| 70/70 [00:48<00:00,  1.44it/s]\n"
          ]
        },
        {
          "output_type": "stream",
          "name": "stdout",
          "text": [
            "Epoch 9 finished in 49.19 seconds\n",
            "\n",
            "Epoch [10/20]\n"
          ]
        },
        {
          "output_type": "stream",
          "name": "stderr",
          "text": [
            "100%|██████████| 70/70 [00:48<00:00,  1.44it/s]\n"
          ]
        },
        {
          "output_type": "stream",
          "name": "stdout",
          "text": [
            "Epoch 10 finished in 49.23 seconds\n",
            "📌 New best AUC — saving model\n",
            "\n",
            "Epoch [11/20]\n"
          ]
        },
        {
          "output_type": "stream",
          "name": "stderr",
          "text": [
            "100%|██████████| 70/70 [00:48<00:00,  1.45it/s]\n"
          ]
        },
        {
          "output_type": "stream",
          "name": "stdout",
          "text": [
            "Epoch 11 finished in 49.05 seconds\n",
            "\n",
            "Epoch [12/20]\n"
          ]
        },
        {
          "output_type": "stream",
          "name": "stderr",
          "text": [
            "100%|██████████| 70/70 [00:48<00:00,  1.44it/s]\n"
          ]
        },
        {
          "output_type": "stream",
          "name": "stdout",
          "text": [
            "Epoch 12 finished in 49.22 seconds\n",
            "\n",
            "Epoch [13/20]\n"
          ]
        },
        {
          "output_type": "stream",
          "name": "stderr",
          "text": [
            "100%|██████████| 70/70 [00:48<00:00,  1.44it/s]\n"
          ]
        },
        {
          "output_type": "stream",
          "name": "stdout",
          "text": [
            "Epoch 13 finished in 49.23 seconds\n",
            "\n",
            "Epoch [14/20]\n"
          ]
        },
        {
          "output_type": "stream",
          "name": "stderr",
          "text": [
            "100%|██████████| 70/70 [00:48<00:00,  1.45it/s]\n"
          ]
        },
        {
          "output_type": "stream",
          "name": "stdout",
          "text": [
            "Epoch 14 finished in 49.14 seconds\n",
            "📌 New best AUC — saving model\n",
            "\n",
            "Epoch [15/20]\n"
          ]
        },
        {
          "output_type": "stream",
          "name": "stderr",
          "text": [
            "100%|██████████| 70/70 [00:48<00:00,  1.44it/s]\n"
          ]
        },
        {
          "output_type": "stream",
          "name": "stdout",
          "text": [
            "Epoch 15 finished in 49.32 seconds\n",
            "\n",
            "Epoch [16/20]\n"
          ]
        },
        {
          "output_type": "stream",
          "name": "stderr",
          "text": [
            "100%|██████████| 70/70 [00:48<00:00,  1.44it/s]\n"
          ]
        },
        {
          "output_type": "stream",
          "name": "stdout",
          "text": [
            "Epoch 16 finished in 49.28 seconds\n",
            "\n",
            "Epoch [17/20]\n"
          ]
        },
        {
          "output_type": "stream",
          "name": "stderr",
          "text": [
            "100%|██████████| 70/70 [00:48<00:00,  1.44it/s]\n"
          ]
        },
        {
          "output_type": "stream",
          "name": "stdout",
          "text": [
            "Epoch 17 finished in 49.30 seconds\n",
            "📌 New best AUC — saving model\n",
            "\n",
            "Epoch [18/20]\n"
          ]
        },
        {
          "output_type": "stream",
          "name": "stderr",
          "text": [
            "100%|██████████| 70/70 [00:48<00:00,  1.45it/s]\n"
          ]
        },
        {
          "output_type": "stream",
          "name": "stdout",
          "text": [
            "Epoch 18 finished in 49.09 seconds\n",
            "\n",
            "Epoch [19/20]\n"
          ]
        },
        {
          "output_type": "stream",
          "name": "stderr",
          "text": [
            "100%|██████████| 70/70 [00:48<00:00,  1.44it/s]\n"
          ]
        },
        {
          "output_type": "stream",
          "name": "stdout",
          "text": [
            "Epoch 19 finished in 49.45 seconds\n",
            "\n",
            "Epoch [20/20]\n"
          ]
        },
        {
          "output_type": "stream",
          "name": "stderr",
          "text": [
            "100%|██████████| 70/70 [00:48<00:00,  1.43it/s]\n"
          ]
        },
        {
          "output_type": "stream",
          "name": "stdout",
          "text": [
            "Epoch 20 finished in 49.55 seconds\n",
            "✅ Training complete.\n"
          ]
        }
      ]
    },
    {
      "cell_type": "code",
      "source": [
        "# # [tissuemnist, pathmnist, dermamnist, octmnist,\n",
        "# # pnemoniamnist, retinamnist, breastmnist, bloodmnist, tissuemnist, organamnist, organcmnist, organsmnist]\n",
        "data_flag = \"pneumoniamnist\"\n",
        "med3d = False\n",
        "model_name = f\"MedViT2D_{data_flag}\"\n",
        "(data_flag,\n",
        " NUM_EPOCHS,\n",
        " BATCH_SIZE,\n",
        " lr,\n",
        " task,\n",
        " train_loader,\n",
        " train_loader_at_eval,\n",
        " test_loader,\n",
        " n_classes) = data_input_loading(data_flag=data_flag,\n",
        "                                 med3d = False,\n",
        "                                 NUM_EPOCHS = NUM_EPOCHS,\n",
        "                                 BATCH_SIZE=BATCH_SIZE,\n",
        "                                 lr=lr)\n",
        "\n",
        "history = training_and_record(\n",
        "    model_class=MedViT_small,\n",
        "    model_name= model_name,\n",
        "    NUM_EPOCHS=NUM_EPOCHS,\n",
        "    lr=lr,\n",
        "    momentum=0.9,\n",
        "    train_loader=train_loader,\n",
        "    train_loader_at_eval=train_loader_at_eval,\n",
        "    test_loader=test_loader,\n",
        "    n_classes = n_classes,\n",
        "    task = task,\n",
        "    steps = len(train_loader)\n",
        ")"
      ],
      "metadata": {
        "colab": {
          "base_uri": "https://localhost:8080/"
        },
        "id": "9u8_SPKTV2Fv",
        "outputId": "f9bebab6-841a-4ecb-f87f-e7812fa36f14"
      },
      "execution_count": null,
      "outputs": [
        {
          "output_type": "stream",
          "name": "stderr",
          "text": [
            "100%|██████████| 4.17M/4.17M [00:01<00:00, 3.03MB/s]\n"
          ]
        },
        {
          "output_type": "stream",
          "name": "stdout",
          "text": [
            "initialize_weights...\n",
            "\n",
            "Epoch [1/20]\n"
          ]
        },
        {
          "output_type": "stream",
          "name": "stderr",
          "text": [
            "100%|██████████| 70/70 [00:48<00:00,  1.45it/s]\n"
          ]
        },
        {
          "output_type": "stream",
          "name": "stdout",
          "text": [
            "Epoch 1 finished in 49.13 seconds\n",
            "📌 New best AUC — saving model\n",
            "\n",
            "Epoch [2/20]\n"
          ]
        },
        {
          "output_type": "stream",
          "name": "stderr",
          "text": [
            "100%|██████████| 70/70 [00:47<00:00,  1.46it/s]\n"
          ]
        },
        {
          "output_type": "stream",
          "name": "stdout",
          "text": [
            "Epoch 2 finished in 48.70 seconds\n",
            "📌 New best AUC — saving model\n",
            "\n",
            "Epoch [3/20]\n"
          ]
        },
        {
          "output_type": "stream",
          "name": "stderr",
          "text": [
            "100%|██████████| 70/70 [00:48<00:00,  1.45it/s]\n"
          ]
        },
        {
          "output_type": "stream",
          "name": "stdout",
          "text": [
            "Epoch 3 finished in 49.02 seconds\n",
            "📌 New best AUC — saving model\n",
            "\n",
            "Epoch [4/20]\n"
          ]
        },
        {
          "output_type": "stream",
          "name": "stderr",
          "text": [
            "100%|██████████| 70/70 [00:48<00:00,  1.45it/s]\n"
          ]
        },
        {
          "output_type": "stream",
          "name": "stdout",
          "text": [
            "Epoch 4 finished in 48.92 seconds\n",
            "\n",
            "Epoch [5/20]\n"
          ]
        },
        {
          "output_type": "stream",
          "name": "stderr",
          "text": [
            "100%|██████████| 70/70 [00:48<00:00,  1.45it/s]\n"
          ]
        },
        {
          "output_type": "stream",
          "name": "stdout",
          "text": [
            "Epoch 5 finished in 49.01 seconds\n",
            "📌 New best AUC — saving model\n",
            "\n",
            "Epoch [6/20]\n"
          ]
        },
        {
          "output_type": "stream",
          "name": "stderr",
          "text": [
            "100%|██████████| 70/70 [00:48<00:00,  1.45it/s]\n"
          ]
        },
        {
          "output_type": "stream",
          "name": "stdout",
          "text": [
            "Epoch 6 finished in 49.14 seconds\n",
            "📌 New best AUC — saving model\n",
            "\n",
            "Epoch [7/20]\n"
          ]
        },
        {
          "output_type": "stream",
          "name": "stderr",
          "text": [
            "100%|██████████| 70/70 [00:47<00:00,  1.46it/s]\n"
          ]
        },
        {
          "output_type": "stream",
          "name": "stdout",
          "text": [
            "Epoch 7 finished in 48.67 seconds\n",
            "\n",
            "Epoch [8/20]\n"
          ]
        },
        {
          "output_type": "stream",
          "name": "stderr",
          "text": [
            "100%|██████████| 70/70 [00:48<00:00,  1.45it/s]\n"
          ]
        },
        {
          "output_type": "stream",
          "name": "stdout",
          "text": [
            "Epoch 8 finished in 48.96 seconds\n",
            "📌 New best AUC — saving model\n",
            "\n",
            "Epoch [9/20]\n"
          ]
        },
        {
          "output_type": "stream",
          "name": "stderr",
          "text": [
            "100%|██████████| 70/70 [00:48<00:00,  1.44it/s]\n"
          ]
        },
        {
          "output_type": "stream",
          "name": "stdout",
          "text": [
            "Epoch 9 finished in 49.23 seconds\n",
            "\n",
            "Epoch [10/20]\n"
          ]
        },
        {
          "output_type": "stream",
          "name": "stderr",
          "text": [
            "100%|██████████| 70/70 [00:47<00:00,  1.46it/s]\n"
          ]
        },
        {
          "output_type": "stream",
          "name": "stdout",
          "text": [
            "Epoch 10 finished in 48.70 seconds\n",
            "\n",
            "Epoch [11/20]\n"
          ]
        },
        {
          "output_type": "stream",
          "name": "stderr",
          "text": [
            "100%|██████████| 70/70 [00:48<00:00,  1.44it/s]\n"
          ]
        },
        {
          "output_type": "stream",
          "name": "stdout",
          "text": [
            "Epoch 11 finished in 49.33 seconds\n",
            "📌 New best AUC — saving model\n",
            "\n",
            "Epoch [12/20]\n"
          ]
        },
        {
          "output_type": "stream",
          "name": "stderr",
          "text": [
            "100%|██████████| 70/70 [00:47<00:00,  1.46it/s]\n"
          ]
        },
        {
          "output_type": "stream",
          "name": "stdout",
          "text": [
            "Epoch 12 finished in 48.58 seconds\n",
            "\n",
            "Epoch [13/20]\n"
          ]
        },
        {
          "output_type": "stream",
          "name": "stderr",
          "text": [
            "100%|██████████| 70/70 [00:48<00:00,  1.44it/s]\n"
          ]
        },
        {
          "output_type": "stream",
          "name": "stdout",
          "text": [
            "Epoch 13 finished in 49.24 seconds\n",
            "\n",
            "Epoch [14/20]\n"
          ]
        },
        {
          "output_type": "stream",
          "name": "stderr",
          "text": [
            "100%|██████████| 70/70 [00:48<00:00,  1.45it/s]\n"
          ]
        },
        {
          "output_type": "stream",
          "name": "stdout",
          "text": [
            "Epoch 14 finished in 48.99 seconds\n",
            "📌 New best AUC — saving model\n",
            "\n",
            "Epoch [15/20]\n"
          ]
        },
        {
          "output_type": "stream",
          "name": "stderr",
          "text": [
            "100%|██████████| 70/70 [00:48<00:00,  1.45it/s]\n"
          ]
        },
        {
          "output_type": "stream",
          "name": "stdout",
          "text": [
            "Epoch 15 finished in 48.94 seconds\n",
            "\n",
            "Epoch [16/20]\n"
          ]
        },
        {
          "output_type": "stream",
          "name": "stderr",
          "text": [
            "100%|██████████| 70/70 [00:47<00:00,  1.46it/s]\n"
          ]
        },
        {
          "output_type": "stream",
          "name": "stdout",
          "text": [
            "Epoch 16 finished in 48.65 seconds\n",
            "\n",
            "Epoch [17/20]\n"
          ]
        },
        {
          "output_type": "stream",
          "name": "stderr",
          "text": [
            "100%|██████████| 70/70 [00:48<00:00,  1.46it/s]\n"
          ]
        },
        {
          "output_type": "stream",
          "name": "stdout",
          "text": [
            "Epoch 17 finished in 48.81 seconds\n",
            "📌 New best AUC — saving model\n",
            "\n",
            "Epoch [18/20]\n"
          ]
        },
        {
          "output_type": "stream",
          "name": "stderr",
          "text": [
            "100%|██████████| 70/70 [00:48<00:00,  1.45it/s]\n"
          ]
        },
        {
          "output_type": "stream",
          "name": "stdout",
          "text": [
            "Epoch 18 finished in 49.06 seconds\n",
            "📌 New best AUC — saving model\n",
            "\n",
            "Epoch [19/20]\n"
          ]
        },
        {
          "output_type": "stream",
          "name": "stderr",
          "text": [
            "100%|██████████| 70/70 [00:49<00:00,  1.41it/s]\n"
          ]
        },
        {
          "output_type": "stream",
          "name": "stdout",
          "text": [
            "Epoch 19 finished in 50.54 seconds\n",
            "\n",
            "Epoch [20/20]\n"
          ]
        },
        {
          "output_type": "stream",
          "name": "stderr",
          "text": [
            "100%|██████████| 70/70 [00:48<00:00,  1.44it/s]\n"
          ]
        },
        {
          "output_type": "stream",
          "name": "stdout",
          "text": [
            "Epoch 20 finished in 49.32 seconds\n",
            "📌 New best AUC — saving model\n",
            "✅ Training complete.\n"
          ]
        }
      ]
    },
    {
      "cell_type": "code",
      "source": [
        "# # [tissuemnist, pathmnist, dermamnist, octmnist,\n",
        "# # pnemoniamnist, retinamnist, breastmnist, bloodmnist, tissuemnist, organamnist, organcmnist, organsmnist]\n",
        "data_flag = \"breastmnist\"\n",
        "med3d = False\n",
        "model_name = f\"MedViT2D_{data_flag}\"\n",
        "(data_flag,\n",
        " NUM_EPOCHS,\n",
        " BATCH_SIZE,\n",
        " lr,\n",
        " task,\n",
        " train_loader,\n",
        " train_loader_at_eval,\n",
        " test_loader,\n",
        " n_classes) = data_input_loading(data_flag=data_flag,\n",
        "                                 med3d = False,\n",
        "                                 NUM_EPOCHS = NUM_EPOCHS,\n",
        "                                 BATCH_SIZE=BATCH_SIZE,\n",
        "                                 lr=lr)\n",
        "\n",
        "history = training_and_record(\n",
        "    model_class=MedViT_small,\n",
        "    model_name= model_name,\n",
        "    NUM_EPOCHS=NUM_EPOCHS,\n",
        "    lr=lr,\n",
        "    momentum=0.9,\n",
        "    train_loader=train_loader,\n",
        "    train_loader_at_eval=train_loader_at_eval,\n",
        "    test_loader=test_loader,\n",
        "    n_classes = n_classes,\n",
        "    task = task,\n",
        "    steps = len(train_loader)\n",
        ")"
      ],
      "metadata": {
        "colab": {
          "base_uri": "https://localhost:8080/"
        },
        "id": "98I7462mV1-g",
        "outputId": "1cfa75e1-9434-4656-8d28-b434872dc06b"
      },
      "execution_count": null,
      "outputs": [
        {
          "output_type": "stream",
          "name": "stdout",
          "text": [
            "initialize_weights...\n",
            "\n",
            "Epoch [1/20]\n"
          ]
        },
        {
          "output_type": "stream",
          "name": "stderr",
          "text": [
            "100%|██████████| 33/33 [00:22<00:00,  1.48it/s]\n"
          ]
        },
        {
          "output_type": "stream",
          "name": "stdout",
          "text": [
            "Epoch 1 finished in 23.01 seconds\n",
            "📌 New best AUC — saving model\n",
            "\n",
            "Epoch [2/20]\n"
          ]
        },
        {
          "output_type": "stream",
          "name": "stderr",
          "text": [
            "100%|██████████| 33/33 [00:22<00:00,  1.47it/s]\n"
          ]
        },
        {
          "output_type": "stream",
          "name": "stdout",
          "text": [
            "Epoch 2 finished in 23.20 seconds\n",
            "📌 New best AUC — saving model\n",
            "\n",
            "Epoch [3/20]\n"
          ]
        },
        {
          "output_type": "stream",
          "name": "stderr",
          "text": [
            "100%|██████████| 33/33 [00:22<00:00,  1.49it/s]\n"
          ]
        },
        {
          "output_type": "stream",
          "name": "stdout",
          "text": [
            "Epoch 3 finished in 22.96 seconds\n",
            "📌 New best AUC — saving model\n",
            "\n",
            "Epoch [4/20]\n"
          ]
        },
        {
          "output_type": "stream",
          "name": "stderr",
          "text": [
            "100%|██████████| 33/33 [00:21<00:00,  1.50it/s]\n"
          ]
        },
        {
          "output_type": "stream",
          "name": "stdout",
          "text": [
            "Epoch 4 finished in 22.76 seconds\n",
            "\n",
            "Epoch [5/20]\n"
          ]
        },
        {
          "output_type": "stream",
          "name": "stderr",
          "text": [
            "100%|██████████| 33/33 [00:23<00:00,  1.41it/s]\n"
          ]
        },
        {
          "output_type": "stream",
          "name": "stdout",
          "text": [
            "Epoch 5 finished in 24.25 seconds\n",
            "📌 New best AUC — saving model\n",
            "\n",
            "Epoch [6/20]\n"
          ]
        },
        {
          "output_type": "stream",
          "name": "stderr",
          "text": [
            "100%|██████████| 33/33 [00:22<00:00,  1.48it/s]\n"
          ]
        },
        {
          "output_type": "stream",
          "name": "stdout",
          "text": [
            "Epoch 6 finished in 23.04 seconds\n",
            "\n",
            "Epoch [7/20]\n"
          ]
        },
        {
          "output_type": "stream",
          "name": "stderr",
          "text": [
            "100%|██████████| 33/33 [00:22<00:00,  1.49it/s]\n"
          ]
        },
        {
          "output_type": "stream",
          "name": "stdout",
          "text": [
            "Epoch 7 finished in 22.92 seconds\n",
            "\n",
            "Epoch [8/20]\n"
          ]
        },
        {
          "output_type": "stream",
          "name": "stderr",
          "text": [
            "100%|██████████| 33/33 [00:22<00:00,  1.47it/s]\n"
          ]
        },
        {
          "output_type": "stream",
          "name": "stdout",
          "text": [
            "Epoch 8 finished in 23.32 seconds\n",
            "\n",
            "Epoch [9/20]\n"
          ]
        },
        {
          "output_type": "stream",
          "name": "stderr",
          "text": [
            "100%|██████████| 33/33 [00:22<00:00,  1.46it/s]\n"
          ]
        },
        {
          "output_type": "stream",
          "name": "stdout",
          "text": [
            "Epoch 9 finished in 23.32 seconds\n",
            "\n",
            "Epoch [10/20]\n"
          ]
        },
        {
          "output_type": "stream",
          "name": "stderr",
          "text": [
            "100%|██████████| 33/33 [00:22<00:00,  1.47it/s]\n"
          ]
        },
        {
          "output_type": "stream",
          "name": "stdout",
          "text": [
            "Epoch 10 finished in 23.17 seconds\n",
            "\n",
            "Epoch [11/20]\n"
          ]
        },
        {
          "output_type": "stream",
          "name": "stderr",
          "text": [
            "100%|██████████| 33/33 [00:22<00:00,  1.47it/s]\n"
          ]
        },
        {
          "output_type": "stream",
          "name": "stdout",
          "text": [
            "Epoch 11 finished in 23.19 seconds\n",
            "\n",
            "Epoch [12/20]\n"
          ]
        },
        {
          "output_type": "stream",
          "name": "stderr",
          "text": [
            "100%|██████████| 33/33 [00:22<00:00,  1.47it/s]\n"
          ]
        },
        {
          "output_type": "stream",
          "name": "stdout",
          "text": [
            "Epoch 12 finished in 23.25 seconds\n",
            "\n",
            "Epoch [13/20]\n"
          ]
        },
        {
          "output_type": "stream",
          "name": "stderr",
          "text": [
            "100%|██████████| 33/33 [00:22<00:00,  1.49it/s]\n"
          ]
        },
        {
          "output_type": "stream",
          "name": "stdout",
          "text": [
            "Epoch 13 finished in 22.89 seconds\n",
            "\n",
            "Epoch [14/20]\n"
          ]
        },
        {
          "output_type": "stream",
          "name": "stderr",
          "text": [
            "100%|██████████| 33/33 [00:22<00:00,  1.48it/s]\n"
          ]
        },
        {
          "output_type": "stream",
          "name": "stdout",
          "text": [
            "Epoch 14 finished in 23.14 seconds\n",
            "\n",
            "Epoch [15/20]\n"
          ]
        },
        {
          "output_type": "stream",
          "name": "stderr",
          "text": [
            "100%|██████████| 33/33 [00:22<00:00,  1.48it/s]\n"
          ]
        },
        {
          "output_type": "stream",
          "name": "stdout",
          "text": [
            "Epoch 15 finished in 23.11 seconds\n",
            "📌 New best AUC — saving model\n",
            "\n",
            "Epoch [16/20]\n"
          ]
        },
        {
          "output_type": "stream",
          "name": "stderr",
          "text": [
            "100%|██████████| 33/33 [00:22<00:00,  1.48it/s]\n"
          ]
        },
        {
          "output_type": "stream",
          "name": "stdout",
          "text": [
            "Epoch 16 finished in 23.15 seconds\n",
            "\n",
            "Epoch [17/20]\n"
          ]
        },
        {
          "output_type": "stream",
          "name": "stderr",
          "text": [
            "100%|██████████| 33/33 [00:22<00:00,  1.47it/s]\n"
          ]
        },
        {
          "output_type": "stream",
          "name": "stdout",
          "text": [
            "Epoch 17 finished in 23.22 seconds\n",
            "📌 New best AUC — saving model\n",
            "\n",
            "Epoch [18/20]\n"
          ]
        },
        {
          "output_type": "stream",
          "name": "stderr",
          "text": [
            "100%|██████████| 33/33 [00:22<00:00,  1.48it/s]\n"
          ]
        },
        {
          "output_type": "stream",
          "name": "stdout",
          "text": [
            "Epoch 18 finished in 23.08 seconds\n",
            "\n",
            "Epoch [19/20]\n"
          ]
        },
        {
          "output_type": "stream",
          "name": "stderr",
          "text": [
            "100%|██████████| 33/33 [00:22<00:00,  1.49it/s]\n"
          ]
        },
        {
          "output_type": "stream",
          "name": "stdout",
          "text": [
            "Epoch 19 finished in 22.86 seconds\n",
            "\n",
            "Epoch [20/20]\n"
          ]
        },
        {
          "output_type": "stream",
          "name": "stderr",
          "text": [
            "100%|██████████| 33/33 [00:22<00:00,  1.49it/s]\n"
          ]
        },
        {
          "output_type": "stream",
          "name": "stdout",
          "text": [
            "Epoch 20 finished in 22.99 seconds\n",
            "✅ Training complete.\n"
          ]
        }
      ]
    },
    {
      "cell_type": "code",
      "source": [
        "# # [tissuemnist, pathmnist, dermamnist, octmnist,\n",
        "# # pnemoniamnist, retinamnist, breastmnist, bloodmnist, tissuemnist, organamnist, organcmnist, organsmnist]\n",
        "data_flag = \"bloodmnist\"\n",
        "med3d = False\n",
        "model_name = f\"MedViT2D_{data_flag}\"\n",
        "(data_flag,\n",
        " NUM_EPOCHS,\n",
        " BATCH_SIZE,\n",
        " lr,\n",
        " task,\n",
        " train_loader,\n",
        " train_loader_at_eval,\n",
        " test_loader,\n",
        " n_classes) = data_input_loading(data_flag=data_flag,\n",
        "                                 med3d = False,\n",
        "                                 NUM_EPOCHS = NUM_EPOCHS,\n",
        "                                 BATCH_SIZE=BATCH_SIZE,\n",
        "                                 lr=lr)\n",
        "\n",
        "history = training_and_record(\n",
        "    model_class=MedViT_small,\n",
        "    model_name= model_name,\n",
        "    NUM_EPOCHS=NUM_EPOCHS,\n",
        "    lr=lr,\n",
        "    momentum=0.9,\n",
        "    train_loader=train_loader,\n",
        "    train_loader_at_eval=train_loader_at_eval,\n",
        "    test_loader=test_loader,\n",
        "    n_classes = n_classes,\n",
        "    task = task,\n",
        "    steps = len(train_loader)\n",
        ")"
      ],
      "metadata": {
        "colab": {
          "base_uri": "https://localhost:8080/"
        },
        "id": "_OS8X2a4V10S",
        "outputId": "db056c16-d239-457a-918a-61db6108f3bb"
      },
      "execution_count": null,
      "outputs": [
        {
          "output_type": "stream",
          "name": "stderr",
          "text": [
            "100%|██████████| 35.5M/35.5M [00:03<00:00, 11.8MB/s]\n"
          ]
        },
        {
          "output_type": "stream",
          "name": "stdout",
          "text": [
            "initialize_weights...\n",
            "\n",
            "Epoch [1/20]\n"
          ]
        },
        {
          "output_type": "stream",
          "name": "stderr",
          "text": [
            "100%|██████████| 70/70 [00:47<00:00,  1.47it/s]\n"
          ]
        },
        {
          "output_type": "stream",
          "name": "stdout",
          "text": [
            "Epoch 1 finished in 48.82 seconds\n",
            "📌 New best AUC — saving model\n",
            "\n",
            "Epoch [2/20]\n"
          ]
        },
        {
          "output_type": "stream",
          "name": "stderr",
          "text": [
            "100%|██████████| 70/70 [00:47<00:00,  1.47it/s]\n"
          ]
        },
        {
          "output_type": "stream",
          "name": "stdout",
          "text": [
            "Epoch 2 finished in 48.64 seconds\n",
            "📌 New best AUC — saving model\n",
            "\n",
            "Epoch [3/20]\n"
          ]
        },
        {
          "output_type": "stream",
          "name": "stderr",
          "text": [
            "100%|██████████| 70/70 [00:47<00:00,  1.47it/s]\n"
          ]
        },
        {
          "output_type": "stream",
          "name": "stdout",
          "text": [
            "Epoch 3 finished in 48.58 seconds\n",
            "📌 New best AUC — saving model\n",
            "\n",
            "Epoch [4/20]\n"
          ]
        },
        {
          "output_type": "stream",
          "name": "stderr",
          "text": [
            "100%|██████████| 70/70 [00:47<00:00,  1.47it/s]\n"
          ]
        },
        {
          "output_type": "stream",
          "name": "stdout",
          "text": [
            "Epoch 4 finished in 48.63 seconds\n",
            "📌 New best AUC — saving model\n",
            "\n",
            "Epoch [5/20]\n"
          ]
        },
        {
          "output_type": "stream",
          "name": "stderr",
          "text": [
            "100%|██████████| 70/70 [00:47<00:00,  1.48it/s]\n"
          ]
        },
        {
          "output_type": "stream",
          "name": "stdout",
          "text": [
            "Epoch 5 finished in 48.45 seconds\n",
            "📌 New best AUC — saving model\n",
            "\n",
            "Epoch [6/20]\n"
          ]
        },
        {
          "output_type": "stream",
          "name": "stderr",
          "text": [
            "100%|██████████| 70/70 [00:47<00:00,  1.47it/s]\n"
          ]
        },
        {
          "output_type": "stream",
          "name": "stdout",
          "text": [
            "Epoch 6 finished in 48.70 seconds\n",
            "📌 New best AUC — saving model\n",
            "\n",
            "Epoch [7/20]\n"
          ]
        },
        {
          "output_type": "stream",
          "name": "stderr",
          "text": [
            "100%|██████████| 70/70 [00:47<00:00,  1.48it/s]\n"
          ]
        },
        {
          "output_type": "stream",
          "name": "stdout",
          "text": [
            "Epoch 7 finished in 48.54 seconds\n",
            "\n",
            "Epoch [8/20]\n"
          ]
        },
        {
          "output_type": "stream",
          "name": "stderr",
          "text": [
            "100%|██████████| 70/70 [00:47<00:00,  1.47it/s]\n"
          ]
        },
        {
          "output_type": "stream",
          "name": "stdout",
          "text": [
            "Epoch 8 finished in 48.70 seconds\n",
            "📌 New best AUC — saving model\n",
            "\n",
            "Epoch [9/20]\n"
          ]
        },
        {
          "output_type": "stream",
          "name": "stderr",
          "text": [
            "100%|██████████| 70/70 [00:47<00:00,  1.47it/s]\n"
          ]
        },
        {
          "output_type": "stream",
          "name": "stdout",
          "text": [
            "Epoch 9 finished in 48.83 seconds\n",
            "\n",
            "Epoch [10/20]\n"
          ]
        },
        {
          "output_type": "stream",
          "name": "stderr",
          "text": [
            "100%|██████████| 70/70 [00:47<00:00,  1.48it/s]\n"
          ]
        },
        {
          "output_type": "stream",
          "name": "stdout",
          "text": [
            "Epoch 10 finished in 48.51 seconds\n",
            "\n",
            "Epoch [11/20]\n"
          ]
        },
        {
          "output_type": "stream",
          "name": "stderr",
          "text": [
            "100%|██████████| 70/70 [00:47<00:00,  1.48it/s]\n"
          ]
        },
        {
          "output_type": "stream",
          "name": "stdout",
          "text": [
            "Epoch 11 finished in 48.55 seconds\n",
            "\n",
            "Epoch [12/20]\n"
          ]
        },
        {
          "output_type": "stream",
          "name": "stderr",
          "text": [
            "100%|██████████| 70/70 [00:47<00:00,  1.47it/s]\n"
          ]
        },
        {
          "output_type": "stream",
          "name": "stdout",
          "text": [
            "Epoch 12 finished in 48.67 seconds\n",
            "\n",
            "Epoch [13/20]\n"
          ]
        },
        {
          "output_type": "stream",
          "name": "stderr",
          "text": [
            "100%|██████████| 70/70 [00:47<00:00,  1.48it/s]\n"
          ]
        },
        {
          "output_type": "stream",
          "name": "stdout",
          "text": [
            "Epoch 13 finished in 48.38 seconds\n",
            "\n",
            "Epoch [14/20]\n"
          ]
        },
        {
          "output_type": "stream",
          "name": "stderr",
          "text": [
            "100%|██████████| 70/70 [00:47<00:00,  1.48it/s]\n"
          ]
        },
        {
          "output_type": "stream",
          "name": "stdout",
          "text": [
            "Epoch 14 finished in 48.29 seconds\n",
            "\n",
            "Epoch [15/20]\n"
          ]
        },
        {
          "output_type": "stream",
          "name": "stderr",
          "text": [
            "100%|██████████| 70/70 [00:47<00:00,  1.46it/s]\n"
          ]
        },
        {
          "output_type": "stream",
          "name": "stdout",
          "text": [
            "Epoch 15 finished in 48.89 seconds\n",
            "\n",
            "Epoch [16/20]\n"
          ]
        },
        {
          "output_type": "stream",
          "name": "stderr",
          "text": [
            "100%|██████████| 70/70 [00:47<00:00,  1.47it/s]\n"
          ]
        },
        {
          "output_type": "stream",
          "name": "stdout",
          "text": [
            "Epoch 16 finished in 48.76 seconds\n",
            "\n",
            "Epoch [17/20]\n"
          ]
        },
        {
          "output_type": "stream",
          "name": "stderr",
          "text": [
            "100%|██████████| 70/70 [00:47<00:00,  1.48it/s]\n"
          ]
        },
        {
          "output_type": "stream",
          "name": "stdout",
          "text": [
            "Epoch 17 finished in 48.43 seconds\n",
            "\n",
            "Epoch [18/20]\n"
          ]
        },
        {
          "output_type": "stream",
          "name": "stderr",
          "text": [
            "100%|██████████| 70/70 [00:47<00:00,  1.46it/s]\n"
          ]
        },
        {
          "output_type": "stream",
          "name": "stdout",
          "text": [
            "Epoch 18 finished in 48.94 seconds\n",
            "\n",
            "Epoch [19/20]\n"
          ]
        },
        {
          "output_type": "stream",
          "name": "stderr",
          "text": [
            "100%|██████████| 70/70 [00:47<00:00,  1.47it/s]\n"
          ]
        },
        {
          "output_type": "stream",
          "name": "stdout",
          "text": [
            "Epoch 19 finished in 48.75 seconds\n",
            "\n",
            "Epoch [20/20]\n"
          ]
        },
        {
          "output_type": "stream",
          "name": "stderr",
          "text": [
            "100%|██████████| 70/70 [00:47<00:00,  1.48it/s]\n"
          ]
        },
        {
          "output_type": "stream",
          "name": "stdout",
          "text": [
            "Epoch 20 finished in 48.35 seconds\n",
            "✅ Training complete.\n"
          ]
        }
      ]
    },
    {
      "cell_type": "code",
      "source": [
        "# # [tissuemnist, pathmnist, dermamnist, octmnist,\n",
        "# # pnemoniamnist, retinamnist, breastmnist, bloodmnist, tissuemnist, organamnist, organcmnist, organsmnist]\n",
        "data_flag = \"organamnist\"\n",
        "med3d = False\n",
        "model_name = f\"MedViT2D_{data_flag}\"\n",
        "(data_flag,\n",
        " NUM_EPOCHS,\n",
        " BATCH_SIZE,\n",
        " lr,\n",
        " task,\n",
        " train_loader,\n",
        " train_loader_at_eval,\n",
        " test_loader,\n",
        " n_classes) = data_input_loading(data_flag=data_flag,\n",
        "                                 med3d = False,\n",
        "                                 NUM_EPOCHS = NUM_EPOCHS,\n",
        "                                 BATCH_SIZE=BATCH_SIZE,\n",
        "                                 lr=lr)\n",
        "\n",
        "history = training_and_record(\n",
        "    model_class=MedViT_small,\n",
        "    model_name= model_name,\n",
        "    NUM_EPOCHS=NUM_EPOCHS,\n",
        "    lr=lr,\n",
        "    momentum=0.9,\n",
        "    train_loader=train_loader,\n",
        "    train_loader_at_eval=train_loader_at_eval,\n",
        "    test_loader=test_loader,\n",
        "    n_classes = n_classes,\n",
        "    task = task,\n",
        "    steps = len(train_loader)\n",
        ")"
      ],
      "metadata": {
        "colab": {
          "base_uri": "https://localhost:8080/"
        },
        "id": "jZn5fKBBV1qf",
        "outputId": "3cfa9337-fa8f-4264-f019-a9a88c00b543"
      },
      "execution_count": null,
      "outputs": [
        {
          "output_type": "stream",
          "name": "stderr",
          "text": [
            "100%|██████████| 38.2M/38.2M [00:03<00:00, 11.0MB/s]\n"
          ]
        },
        {
          "output_type": "stream",
          "name": "stdout",
          "text": [
            "initialize_weights...\n",
            "\n",
            "Epoch [1/20]\n"
          ]
        },
        {
          "output_type": "stream",
          "name": "stderr",
          "text": [
            "100%|██████████| 70/70 [00:46<00:00,  1.51it/s]\n"
          ]
        },
        {
          "output_type": "stream",
          "name": "stdout",
          "text": [
            "Epoch 1 finished in 47.26 seconds\n",
            "📌 New best AUC — saving model\n",
            "\n",
            "Epoch [2/20]\n"
          ]
        },
        {
          "output_type": "stream",
          "name": "stderr",
          "text": [
            "100%|██████████| 70/70 [00:45<00:00,  1.53it/s]\n"
          ]
        },
        {
          "output_type": "stream",
          "name": "stdout",
          "text": [
            "Epoch 2 finished in 46.59 seconds\n",
            "📌 New best AUC — saving model\n",
            "\n",
            "Epoch [3/20]\n"
          ]
        },
        {
          "output_type": "stream",
          "name": "stderr",
          "text": [
            "100%|██████████| 70/70 [00:46<00:00,  1.50it/s]\n"
          ]
        },
        {
          "output_type": "stream",
          "name": "stdout",
          "text": [
            "Epoch 3 finished in 47.34 seconds\n",
            "📌 New best AUC — saving model\n",
            "\n",
            "Epoch [4/20]\n"
          ]
        },
        {
          "output_type": "stream",
          "name": "stderr",
          "text": [
            "100%|██████████| 70/70 [00:46<00:00,  1.52it/s]\n"
          ]
        },
        {
          "output_type": "stream",
          "name": "stdout",
          "text": [
            "Epoch 4 finished in 46.88 seconds\n",
            "\n",
            "Epoch [5/20]\n"
          ]
        },
        {
          "output_type": "stream",
          "name": "stderr",
          "text": [
            "100%|██████████| 70/70 [00:45<00:00,  1.53it/s]\n"
          ]
        },
        {
          "output_type": "stream",
          "name": "stdout",
          "text": [
            "Epoch 5 finished in 46.56 seconds\n",
            "\n",
            "Epoch [6/20]\n"
          ]
        },
        {
          "output_type": "stream",
          "name": "stderr",
          "text": [
            "100%|██████████| 70/70 [00:45<00:00,  1.53it/s]\n"
          ]
        },
        {
          "output_type": "stream",
          "name": "stdout",
          "text": [
            "Epoch 6 finished in 46.57 seconds\n",
            "📌 New best AUC — saving model\n",
            "\n",
            "Epoch [7/20]\n"
          ]
        },
        {
          "output_type": "stream",
          "name": "stderr",
          "text": [
            "100%|██████████| 70/70 [00:46<00:00,  1.52it/s]\n"
          ]
        },
        {
          "output_type": "stream",
          "name": "stdout",
          "text": [
            "Epoch 7 finished in 46.90 seconds\n",
            "\n",
            "Epoch [8/20]\n"
          ]
        },
        {
          "output_type": "stream",
          "name": "stderr",
          "text": [
            "100%|██████████| 70/70 [00:46<00:00,  1.51it/s]\n"
          ]
        },
        {
          "output_type": "stream",
          "name": "stdout",
          "text": [
            "Epoch 8 finished in 47.11 seconds\n",
            "📌 New best AUC — saving model\n",
            "\n",
            "Epoch [9/20]\n"
          ]
        },
        {
          "output_type": "stream",
          "name": "stderr",
          "text": [
            "100%|██████████| 70/70 [00:45<00:00,  1.52it/s]\n"
          ]
        },
        {
          "output_type": "stream",
          "name": "stdout",
          "text": [
            "Epoch 9 finished in 46.73 seconds\n",
            "\n",
            "Epoch [10/20]\n"
          ]
        },
        {
          "output_type": "stream",
          "name": "stderr",
          "text": [
            "100%|██████████| 70/70 [00:45<00:00,  1.53it/s]\n"
          ]
        },
        {
          "output_type": "stream",
          "name": "stdout",
          "text": [
            "Epoch 10 finished in 46.64 seconds\n",
            "\n",
            "Epoch [11/20]\n"
          ]
        },
        {
          "output_type": "stream",
          "name": "stderr",
          "text": [
            "100%|██████████| 70/70 [00:46<00:00,  1.52it/s]\n"
          ]
        },
        {
          "output_type": "stream",
          "name": "stdout",
          "text": [
            "Epoch 11 finished in 46.90 seconds\n",
            "\n",
            "Epoch [12/20]\n"
          ]
        },
        {
          "output_type": "stream",
          "name": "stderr",
          "text": [
            "100%|██████████| 70/70 [00:46<00:00,  1.52it/s]\n"
          ]
        },
        {
          "output_type": "stream",
          "name": "stdout",
          "text": [
            "Epoch 12 finished in 46.95 seconds\n",
            "\n",
            "Epoch [13/20]\n"
          ]
        },
        {
          "output_type": "stream",
          "name": "stderr",
          "text": [
            "100%|██████████| 70/70 [00:46<00:00,  1.51it/s]\n"
          ]
        },
        {
          "output_type": "stream",
          "name": "stdout",
          "text": [
            "Epoch 13 finished in 47.04 seconds\n",
            "\n",
            "Epoch [14/20]\n"
          ]
        },
        {
          "output_type": "stream",
          "name": "stderr",
          "text": [
            "100%|██████████| 70/70 [00:46<00:00,  1.51it/s]\n"
          ]
        },
        {
          "output_type": "stream",
          "name": "stdout",
          "text": [
            "Epoch 14 finished in 47.00 seconds\n",
            "\n",
            "Epoch [15/20]\n"
          ]
        },
        {
          "output_type": "stream",
          "name": "stderr",
          "text": [
            "100%|██████████| 70/70 [00:45<00:00,  1.53it/s]\n"
          ]
        },
        {
          "output_type": "stream",
          "name": "stdout",
          "text": [
            "Epoch 15 finished in 46.54 seconds\n",
            "\n",
            "Epoch [16/20]\n"
          ]
        },
        {
          "output_type": "stream",
          "name": "stderr",
          "text": [
            "100%|██████████| 70/70 [00:45<00:00,  1.52it/s]\n"
          ]
        },
        {
          "output_type": "stream",
          "name": "stdout",
          "text": [
            "Epoch 16 finished in 46.70 seconds\n",
            "\n",
            "Epoch [17/20]\n"
          ]
        },
        {
          "output_type": "stream",
          "name": "stderr",
          "text": [
            "100%|██████████| 70/70 [00:45<00:00,  1.52it/s]\n"
          ]
        },
        {
          "output_type": "stream",
          "name": "stdout",
          "text": [
            "Epoch 17 finished in 46.71 seconds\n",
            "\n",
            "Epoch [18/20]\n"
          ]
        },
        {
          "output_type": "stream",
          "name": "stderr",
          "text": [
            "100%|██████████| 70/70 [00:45<00:00,  1.53it/s]\n"
          ]
        },
        {
          "output_type": "stream",
          "name": "stdout",
          "text": [
            "Epoch 18 finished in 46.55 seconds\n",
            "\n",
            "Epoch [19/20]\n"
          ]
        },
        {
          "output_type": "stream",
          "name": "stderr",
          "text": [
            "100%|██████████| 70/70 [00:45<00:00,  1.53it/s]\n"
          ]
        },
        {
          "output_type": "stream",
          "name": "stdout",
          "text": [
            "Epoch 19 finished in 46.58 seconds\n",
            "\n",
            "Epoch [20/20]\n"
          ]
        },
        {
          "output_type": "stream",
          "name": "stderr",
          "text": [
            "100%|██████████| 70/70 [00:45<00:00,  1.53it/s]\n"
          ]
        },
        {
          "output_type": "stream",
          "name": "stdout",
          "text": [
            "Epoch 20 finished in 46.60 seconds\n",
            "✅ Training complete.\n"
          ]
        }
      ]
    },
    {
      "cell_type": "code",
      "source": [
        "# # [tissuemnist, pathmnist, dermamnist, octmnist,\n",
        "# # pnemoniamnist, retinamnist, breastmnist, bloodmnist, tissuemnist, organamnist, organcmnist, organsmnist]\n",
        "data_flag = \"organcmnist\"\n",
        "med3d = False\n",
        "model_name = f\"MedViT2D_{data_flag}\"\n",
        "(data_flag,\n",
        " NUM_EPOCHS,\n",
        " BATCH_SIZE,\n",
        " lr,\n",
        " task,\n",
        " train_loader,\n",
        " train_loader_at_eval,\n",
        " test_loader,\n",
        " n_classes) = data_input_loading(data_flag=data_flag,\n",
        "                                 med3d = False,\n",
        "                                 NUM_EPOCHS = NUM_EPOCHS,\n",
        "                                 BATCH_SIZE=BATCH_SIZE,\n",
        "                                 lr=lr)\n",
        "\n",
        "history = training_and_record(\n",
        "    model_class=MedViT_small,\n",
        "    model_name= model_name,\n",
        "    NUM_EPOCHS=NUM_EPOCHS,\n",
        "    lr=lr,\n",
        "    momentum=0.9,\n",
        "    train_loader=train_loader,\n",
        "    train_loader_at_eval=train_loader_at_eval,\n",
        "    test_loader=test_loader,\n",
        "    n_classes = n_classes,\n",
        "    task = task,\n",
        "    steps = len(train_loader)\n",
        ")"
      ],
      "metadata": {
        "colab": {
          "base_uri": "https://localhost:8080/"
        },
        "id": "y-f891YJrdo3",
        "outputId": "07652b9f-6e53-44f7-901e-358918da5a2d"
      },
      "execution_count": null,
      "outputs": [
        {
          "output_type": "stream",
          "name": "stderr",
          "text": [
            "100%|██████████| 15.5M/15.5M [00:01<00:00, 7.89MB/s]\n"
          ]
        },
        {
          "output_type": "stream",
          "name": "stdout",
          "text": [
            "initialize_weights...\n",
            "\n",
            "Epoch [1/20]\n"
          ]
        },
        {
          "output_type": "stream",
          "name": "stderr",
          "text": [
            "100%|██████████| 70/70 [00:45<00:00,  1.53it/s]\n"
          ]
        },
        {
          "output_type": "stream",
          "name": "stdout",
          "text": [
            "Epoch 1 finished in 46.79 seconds\n",
            "📌 New best AUC — saving model\n",
            "\n",
            "Epoch [2/20]\n"
          ]
        },
        {
          "output_type": "stream",
          "name": "stderr",
          "text": [
            "100%|██████████| 70/70 [00:45<00:00,  1.55it/s]\n"
          ]
        },
        {
          "output_type": "stream",
          "name": "stdout",
          "text": [
            "Epoch 2 finished in 46.32 seconds\n",
            "\n",
            "Epoch [3/20]\n"
          ]
        },
        {
          "output_type": "stream",
          "name": "stderr",
          "text": [
            "100%|██████████| 70/70 [00:45<00:00,  1.54it/s]\n"
          ]
        },
        {
          "output_type": "stream",
          "name": "stdout",
          "text": [
            "Epoch 3 finished in 46.49 seconds\n",
            "📌 New best AUC — saving model\n",
            "\n",
            "Epoch [4/20]\n"
          ]
        },
        {
          "output_type": "stream",
          "name": "stderr",
          "text": [
            "100%|██████████| 70/70 [00:45<00:00,  1.54it/s]\n"
          ]
        },
        {
          "output_type": "stream",
          "name": "stdout",
          "text": [
            "Epoch 4 finished in 46.59 seconds\n",
            "\n",
            "Epoch [5/20]\n"
          ]
        },
        {
          "output_type": "stream",
          "name": "stderr",
          "text": [
            "100%|██████████| 70/70 [00:45<00:00,  1.54it/s]\n"
          ]
        },
        {
          "output_type": "stream",
          "name": "stdout",
          "text": [
            "Epoch 5 finished in 46.42 seconds\n",
            "📌 New best AUC — saving model\n",
            "\n",
            "Epoch [6/20]\n"
          ]
        },
        {
          "output_type": "stream",
          "name": "stderr",
          "text": [
            "100%|██████████| 70/70 [00:45<00:00,  1.53it/s]\n"
          ]
        },
        {
          "output_type": "stream",
          "name": "stdout",
          "text": [
            "Epoch 6 finished in 46.79 seconds\n",
            "📌 New best AUC — saving model\n",
            "\n",
            "Epoch [7/20]\n"
          ]
        },
        {
          "output_type": "stream",
          "name": "stderr",
          "text": [
            "100%|██████████| 70/70 [00:45<00:00,  1.54it/s]\n"
          ]
        },
        {
          "output_type": "stream",
          "name": "stdout",
          "text": [
            "Epoch 7 finished in 46.53 seconds\n",
            "📌 New best AUC — saving model\n",
            "\n",
            "Epoch [8/20]\n"
          ]
        },
        {
          "output_type": "stream",
          "name": "stderr",
          "text": [
            "100%|██████████| 70/70 [00:45<00:00,  1.54it/s]\n"
          ]
        },
        {
          "output_type": "stream",
          "name": "stdout",
          "text": [
            "Epoch 8 finished in 46.61 seconds\n",
            "\n",
            "Epoch [9/20]\n"
          ]
        },
        {
          "output_type": "stream",
          "name": "stderr",
          "text": [
            "100%|██████████| 70/70 [00:45<00:00,  1.53it/s]\n"
          ]
        },
        {
          "output_type": "stream",
          "name": "stdout",
          "text": [
            "Epoch 9 finished in 46.86 seconds\n",
            "\n",
            "Epoch [10/20]\n"
          ]
        },
        {
          "output_type": "stream",
          "name": "stderr",
          "text": [
            "100%|██████████| 70/70 [00:45<00:00,  1.54it/s]\n"
          ]
        },
        {
          "output_type": "stream",
          "name": "stdout",
          "text": [
            "Epoch 10 finished in 46.54 seconds\n",
            "\n",
            "Epoch [11/20]\n"
          ]
        },
        {
          "output_type": "stream",
          "name": "stderr",
          "text": [
            "100%|██████████| 70/70 [00:45<00:00,  1.54it/s]\n"
          ]
        },
        {
          "output_type": "stream",
          "name": "stdout",
          "text": [
            "Epoch 11 finished in 46.60 seconds\n",
            "\n",
            "Epoch [12/20]\n"
          ]
        },
        {
          "output_type": "stream",
          "name": "stderr",
          "text": [
            "100%|██████████| 70/70 [00:45<00:00,  1.55it/s]\n"
          ]
        },
        {
          "output_type": "stream",
          "name": "stdout",
          "text": [
            "Epoch 12 finished in 46.28 seconds\n",
            "\n",
            "Epoch [13/20]\n"
          ]
        },
        {
          "output_type": "stream",
          "name": "stderr",
          "text": [
            "100%|██████████| 70/70 [00:45<00:00,  1.55it/s]\n"
          ]
        },
        {
          "output_type": "stream",
          "name": "stdout",
          "text": [
            "Epoch 13 finished in 46.17 seconds\n",
            "📌 New best AUC — saving model\n",
            "\n",
            "Epoch [14/20]\n"
          ]
        },
        {
          "output_type": "stream",
          "name": "stderr",
          "text": [
            "100%|██████████| 70/70 [00:45<00:00,  1.54it/s]\n"
          ]
        },
        {
          "output_type": "stream",
          "name": "stdout",
          "text": [
            "Epoch 14 finished in 46.49 seconds\n",
            "\n",
            "Epoch [15/20]\n"
          ]
        },
        {
          "output_type": "stream",
          "name": "stderr",
          "text": [
            "100%|██████████| 70/70 [00:44<00:00,  1.56it/s]\n"
          ]
        },
        {
          "output_type": "stream",
          "name": "stdout",
          "text": [
            "Epoch 15 finished in 46.09 seconds\n",
            "\n",
            "Epoch [16/20]\n"
          ]
        },
        {
          "output_type": "stream",
          "name": "stderr",
          "text": [
            "100%|██████████| 70/70 [00:45<00:00,  1.55it/s]\n"
          ]
        },
        {
          "output_type": "stream",
          "name": "stdout",
          "text": [
            "Epoch 16 finished in 46.40 seconds\n",
            "\n",
            "Epoch [17/20]\n"
          ]
        },
        {
          "output_type": "stream",
          "name": "stderr",
          "text": [
            "100%|██████████| 70/70 [00:45<00:00,  1.54it/s]\n"
          ]
        },
        {
          "output_type": "stream",
          "name": "stdout",
          "text": [
            "Epoch 17 finished in 46.55 seconds\n",
            "\n",
            "Epoch [18/20]\n"
          ]
        },
        {
          "output_type": "stream",
          "name": "stderr",
          "text": [
            "100%|██████████| 70/70 [00:46<00:00,  1.51it/s]\n"
          ]
        },
        {
          "output_type": "stream",
          "name": "stdout",
          "text": [
            "Epoch 18 finished in 47.32 seconds\n",
            "\n",
            "Epoch [19/20]\n"
          ]
        },
        {
          "output_type": "stream",
          "name": "stderr",
          "text": [
            "100%|██████████| 70/70 [00:45<00:00,  1.54it/s]\n"
          ]
        },
        {
          "output_type": "stream",
          "name": "stdout",
          "text": [
            "Epoch 19 finished in 46.46 seconds\n",
            "\n",
            "Epoch [20/20]\n"
          ]
        },
        {
          "output_type": "stream",
          "name": "stderr",
          "text": [
            "100%|██████████| 70/70 [00:45<00:00,  1.54it/s]\n"
          ]
        },
        {
          "output_type": "stream",
          "name": "stdout",
          "text": [
            "Epoch 20 finished in 46.50 seconds\n",
            "📌 New best AUC — saving model\n",
            "✅ Training complete.\n"
          ]
        }
      ]
    },
    {
      "cell_type": "code",
      "source": [
        "# # [tissuemnist, pathmnist, dermamnist, octmnist,\n",
        "# # pnemoniamnist, retinamnist, breastmnist, bloodmnist, tissuemnist, organamnist, organcmnist, organsmnist]\n",
        "data_flag = \"organsmnist\"\n",
        "med3d = False\n",
        "model_name = f\"MedViT2D_{data_flag}\"\n",
        "(data_flag,\n",
        " NUM_EPOCHS,\n",
        " BATCH_SIZE,\n",
        " lr,\n",
        " task,\n",
        " train_loader,\n",
        " train_loader_at_eval,\n",
        " test_loader,\n",
        " n_classes) = data_input_loading(data_flag=data_flag,\n",
        "                                 med3d = False,\n",
        "                                 NUM_EPOCHS = NUM_EPOCHS,\n",
        "                                 BATCH_SIZE=BATCH_SIZE,\n",
        "                                 lr=lr)\n",
        "\n",
        "history = training_and_record(\n",
        "    model_class=MedViT_small,\n",
        "    model_name= model_name,\n",
        "    NUM_EPOCHS=NUM_EPOCHS,\n",
        "    lr=lr,\n",
        "    momentum=0.9,\n",
        "    train_loader=train_loader,\n",
        "    train_loader_at_eval=train_loader_at_eval,\n",
        "    test_loader=test_loader,\n",
        "    n_classes = n_classes,\n",
        "    task = task,\n",
        "    steps = len(train_loader)\n",
        ")"
      ],
      "metadata": {
        "colab": {
          "base_uri": "https://localhost:8080/"
        },
        "id": "Kz0o-1YWrdiG",
        "outputId": "19e2746a-fd1e-4603-e8a8-8c738c54abe0"
      },
      "execution_count": null,
      "outputs": [
        {
          "output_type": "stream",
          "name": "stderr",
          "text": [
            "100%|██████████| 16.5M/16.5M [00:01<00:00, 8.95MB/s]\n"
          ]
        },
        {
          "output_type": "stream",
          "name": "stdout",
          "text": [
            "initialize_weights...\n",
            "\n",
            "Epoch [1/20]\n"
          ]
        },
        {
          "output_type": "stream",
          "name": "stderr",
          "text": [
            "100%|██████████| 70/70 [00:45<00:00,  1.54it/s]\n"
          ]
        },
        {
          "output_type": "stream",
          "name": "stdout",
          "text": [
            "Epoch 1 finished in 46.60 seconds\n",
            "📌 New best AUC — saving model\n",
            "\n",
            "Epoch [2/20]\n"
          ]
        },
        {
          "output_type": "stream",
          "name": "stderr",
          "text": [
            "100%|██████████| 70/70 [00:45<00:00,  1.55it/s]\n"
          ]
        },
        {
          "output_type": "stream",
          "name": "stdout",
          "text": [
            "Epoch 2 finished in 46.34 seconds\n",
            "\n",
            "Epoch [3/20]\n"
          ]
        },
        {
          "output_type": "stream",
          "name": "stderr",
          "text": [
            "100%|██████████| 70/70 [00:44<00:00,  1.56it/s]\n"
          ]
        },
        {
          "output_type": "stream",
          "name": "stdout",
          "text": [
            "Epoch 3 finished in 46.10 seconds\n",
            "📌 New best AUC — saving model\n",
            "\n",
            "Epoch [4/20]\n"
          ]
        },
        {
          "output_type": "stream",
          "name": "stderr",
          "text": [
            "100%|██████████| 70/70 [00:45<00:00,  1.54it/s]\n"
          ]
        },
        {
          "output_type": "stream",
          "name": "stdout",
          "text": [
            "Epoch 4 finished in 46.43 seconds\n",
            "\n",
            "Epoch [5/20]\n"
          ]
        },
        {
          "output_type": "stream",
          "name": "stderr",
          "text": [
            "100%|██████████| 70/70 [00:44<00:00,  1.56it/s]\n"
          ]
        },
        {
          "output_type": "stream",
          "name": "stdout",
          "text": [
            "Epoch 5 finished in 46.09 seconds\n",
            "📌 New best AUC — saving model\n",
            "\n",
            "Epoch [6/20]\n"
          ]
        },
        {
          "output_type": "stream",
          "name": "stderr",
          "text": [
            "100%|██████████| 70/70 [00:45<00:00,  1.54it/s]\n"
          ]
        },
        {
          "output_type": "stream",
          "name": "stdout",
          "text": [
            "Epoch 6 finished in 46.69 seconds\n",
            "📌 New best AUC — saving model\n",
            "\n",
            "Epoch [7/20]\n"
          ]
        },
        {
          "output_type": "stream",
          "name": "stderr",
          "text": [
            "100%|██████████| 70/70 [00:45<00:00,  1.55it/s]\n"
          ]
        },
        {
          "output_type": "stream",
          "name": "stdout",
          "text": [
            "Epoch 7 finished in 46.36 seconds\n",
            "\n",
            "Epoch [8/20]\n"
          ]
        },
        {
          "output_type": "stream",
          "name": "stderr",
          "text": [
            "100%|██████████| 70/70 [00:45<00:00,  1.54it/s]\n"
          ]
        },
        {
          "output_type": "stream",
          "name": "stdout",
          "text": [
            "Epoch 8 finished in 46.58 seconds\n",
            "📌 New best AUC — saving model\n",
            "\n",
            "Epoch [9/20]\n"
          ]
        },
        {
          "output_type": "stream",
          "name": "stderr",
          "text": [
            "100%|██████████| 70/70 [00:45<00:00,  1.54it/s]\n"
          ]
        },
        {
          "output_type": "stream",
          "name": "stdout",
          "text": [
            "Epoch 9 finished in 46.55 seconds\n",
            "\n",
            "Epoch [10/20]\n"
          ]
        },
        {
          "output_type": "stream",
          "name": "stderr",
          "text": [
            "100%|██████████| 70/70 [00:45<00:00,  1.53it/s]\n"
          ]
        },
        {
          "output_type": "stream",
          "name": "stdout",
          "text": [
            "Epoch 10 finished in 46.78 seconds\n",
            "\n",
            "Epoch [11/20]\n"
          ]
        },
        {
          "output_type": "stream",
          "name": "stderr",
          "text": [
            "100%|██████████| 70/70 [00:45<00:00,  1.53it/s]\n"
          ]
        },
        {
          "output_type": "stream",
          "name": "stdout",
          "text": [
            "Epoch 11 finished in 46.76 seconds\n",
            "\n",
            "Epoch [12/20]\n"
          ]
        },
        {
          "output_type": "stream",
          "name": "stderr",
          "text": [
            "100%|██████████| 70/70 [00:45<00:00,  1.54it/s]\n"
          ]
        },
        {
          "output_type": "stream",
          "name": "stdout",
          "text": [
            "Epoch 12 finished in 46.44 seconds\n",
            "\n",
            "Epoch [13/20]\n"
          ]
        },
        {
          "output_type": "stream",
          "name": "stderr",
          "text": [
            "100%|██████████| 70/70 [00:45<00:00,  1.54it/s]\n"
          ]
        },
        {
          "output_type": "stream",
          "name": "stdout",
          "text": [
            "Epoch 13 finished in 46.42 seconds\n",
            "\n",
            "Epoch [14/20]\n"
          ]
        },
        {
          "output_type": "stream",
          "name": "stderr",
          "text": [
            "100%|██████████| 70/70 [00:45<00:00,  1.55it/s]\n"
          ]
        },
        {
          "output_type": "stream",
          "name": "stdout",
          "text": [
            "Epoch 14 finished in 46.25 seconds\n",
            "📌 New best AUC — saving model\n",
            "\n",
            "Epoch [15/20]\n"
          ]
        },
        {
          "output_type": "stream",
          "name": "stderr",
          "text": [
            "100%|██████████| 70/70 [00:45<00:00,  1.53it/s]\n"
          ]
        },
        {
          "output_type": "stream",
          "name": "stdout",
          "text": [
            "Epoch 15 finished in 46.92 seconds\n",
            "\n",
            "Epoch [16/20]\n"
          ]
        },
        {
          "output_type": "stream",
          "name": "stderr",
          "text": [
            "100%|██████████| 70/70 [00:45<00:00,  1.55it/s]\n"
          ]
        },
        {
          "output_type": "stream",
          "name": "stdout",
          "text": [
            "Epoch 16 finished in 46.41 seconds\n",
            "\n",
            "Epoch [17/20]\n"
          ]
        },
        {
          "output_type": "stream",
          "name": "stderr",
          "text": [
            "100%|██████████| 70/70 [00:45<00:00,  1.55it/s]\n"
          ]
        },
        {
          "output_type": "stream",
          "name": "stdout",
          "text": [
            "Epoch 17 finished in 46.37 seconds\n",
            "\n",
            "Epoch [18/20]\n"
          ]
        },
        {
          "output_type": "stream",
          "name": "stderr",
          "text": [
            "100%|██████████| 70/70 [00:45<00:00,  1.55it/s]\n"
          ]
        },
        {
          "output_type": "stream",
          "name": "stdout",
          "text": [
            "Epoch 18 finished in 46.36 seconds\n",
            "\n",
            "Epoch [19/20]\n"
          ]
        },
        {
          "output_type": "stream",
          "name": "stderr",
          "text": [
            "100%|██████████| 70/70 [00:45<00:00,  1.55it/s]\n"
          ]
        },
        {
          "output_type": "stream",
          "name": "stdout",
          "text": [
            "Epoch 19 finished in 46.28 seconds\n",
            "📌 New best AUC — saving model\n",
            "\n",
            "Epoch [20/20]\n"
          ]
        },
        {
          "output_type": "stream",
          "name": "stderr",
          "text": [
            "100%|██████████| 70/70 [00:45<00:00,  1.55it/s]\n"
          ]
        },
        {
          "output_type": "stream",
          "name": "stdout",
          "text": [
            "Epoch 20 finished in 46.22 seconds\n",
            "✅ Training complete.\n"
          ]
        }
      ]
    },
    {
      "cell_type": "code",
      "source": [],
      "metadata": {
        "id": "7CWaRBwgrda2"
      },
      "execution_count": null,
      "outputs": []
    },
    {
      "cell_type": "code",
      "source": [],
      "metadata": {
        "id": "CP39VaImrdP0"
      },
      "execution_count": null,
      "outputs": []
    },
    {
      "cell_type": "code",
      "execution_count": null,
      "metadata": {
        "id": "89HqFIIi7ARz"
      },
      "outputs": [],
      "source": [
        "## Grad CAM for model explanation"
      ]
    },
    {
      "cell_type": "code",
      "execution_count": null,
      "metadata": {
        "colab": {
          "base_uri": "https://localhost:8080/",
          "height": 1000
        },
        "id": "QXuzYhhSEo8q",
        "outputId": "091e86f9-db26-4ac2-b4cb-61ce85117e85"
      },
      "outputs": [
        {
          "name": "stdout",
          "output_type": "stream",
          "text": [
            "Collecting torchcam\n",
            "  Downloading torchcam-0.4.0-py3-none-any.whl.metadata (31 kB)\n",
            "Requirement already satisfied: torch<3.0.0,>=2.0.0 in /usr/local/lib/python3.11/dist-packages (from torchcam) (2.6.0+cu124)\n",
            "Collecting numpy<2.0.0,>=1.17.2 (from torchcam)\n",
            "  Downloading numpy-1.26.4-cp311-cp311-manylinux_2_17_x86_64.manylinux2014_x86_64.whl.metadata (61 kB)\n",
            "\u001b[2K     \u001b[90m━━━━━━━━━━━━━━━━━━━━━━━━━━━━━━━━━━━━━━━━\u001b[0m \u001b[32m61.0/61.0 kB\u001b[0m \u001b[31m5.0 MB/s\u001b[0m eta \u001b[36m0:00:00\u001b[0m\n",
            "\u001b[?25hRequirement already satisfied: Pillow!=9.2.0,>=8.4.0 in /usr/local/lib/python3.11/dist-packages (from torchcam) (11.3.0)\n",
            "Requirement already satisfied: matplotlib<4.0.0,>=3.7.0 in /usr/local/lib/python3.11/dist-packages (from torchcam) (3.10.0)\n",
            "Requirement already satisfied: contourpy>=1.0.1 in /usr/local/lib/python3.11/dist-packages (from matplotlib<4.0.0,>=3.7.0->torchcam) (1.3.2)\n",
            "Requirement already satisfied: cycler>=0.10 in /usr/local/lib/python3.11/dist-packages (from matplotlib<4.0.0,>=3.7.0->torchcam) (0.12.1)\n",
            "Requirement already satisfied: fonttools>=4.22.0 in /usr/local/lib/python3.11/dist-packages (from matplotlib<4.0.0,>=3.7.0->torchcam) (4.59.0)\n",
            "Requirement already satisfied: kiwisolver>=1.3.1 in /usr/local/lib/python3.11/dist-packages (from matplotlib<4.0.0,>=3.7.0->torchcam) (1.4.8)\n",
            "Requirement already satisfied: packaging>=20.0 in /usr/local/lib/python3.11/dist-packages (from matplotlib<4.0.0,>=3.7.0->torchcam) (25.0)\n",
            "Requirement already satisfied: pyparsing>=2.3.1 in /usr/local/lib/python3.11/dist-packages (from matplotlib<4.0.0,>=3.7.0->torchcam) (3.2.3)\n",
            "Requirement already satisfied: python-dateutil>=2.7 in /usr/local/lib/python3.11/dist-packages (from matplotlib<4.0.0,>=3.7.0->torchcam) (2.9.0.post0)\n",
            "Requirement already satisfied: filelock in /usr/local/lib/python3.11/dist-packages (from torch<3.0.0,>=2.0.0->torchcam) (3.18.0)\n",
            "Requirement already satisfied: typing-extensions>=4.10.0 in /usr/local/lib/python3.11/dist-packages (from torch<3.0.0,>=2.0.0->torchcam) (4.14.1)\n",
            "Requirement already satisfied: networkx in /usr/local/lib/python3.11/dist-packages (from torch<3.0.0,>=2.0.0->torchcam) (3.5)\n",
            "Requirement already satisfied: jinja2 in /usr/local/lib/python3.11/dist-packages (from torch<3.0.0,>=2.0.0->torchcam) (3.1.6)\n",
            "Requirement already satisfied: fsspec in /usr/local/lib/python3.11/dist-packages (from torch<3.0.0,>=2.0.0->torchcam) (2025.3.0)\n",
            "Collecting nvidia-cuda-nvrtc-cu12==12.4.127 (from torch<3.0.0,>=2.0.0->torchcam)\n",
            "  Downloading nvidia_cuda_nvrtc_cu12-12.4.127-py3-none-manylinux2014_x86_64.whl.metadata (1.5 kB)\n",
            "Collecting nvidia-cuda-runtime-cu12==12.4.127 (from torch<3.0.0,>=2.0.0->torchcam)\n",
            "  Downloading nvidia_cuda_runtime_cu12-12.4.127-py3-none-manylinux2014_x86_64.whl.metadata (1.5 kB)\n",
            "Collecting nvidia-cuda-cupti-cu12==12.4.127 (from torch<3.0.0,>=2.0.0->torchcam)\n",
            "  Downloading nvidia_cuda_cupti_cu12-12.4.127-py3-none-manylinux2014_x86_64.whl.metadata (1.6 kB)\n",
            "Collecting nvidia-cudnn-cu12==9.1.0.70 (from torch<3.0.0,>=2.0.0->torchcam)\n",
            "  Downloading nvidia_cudnn_cu12-9.1.0.70-py3-none-manylinux2014_x86_64.whl.metadata (1.6 kB)\n",
            "Collecting nvidia-cublas-cu12==12.4.5.8 (from torch<3.0.0,>=2.0.0->torchcam)\n",
            "  Downloading nvidia_cublas_cu12-12.4.5.8-py3-none-manylinux2014_x86_64.whl.metadata (1.5 kB)\n",
            "Collecting nvidia-cufft-cu12==11.2.1.3 (from torch<3.0.0,>=2.0.0->torchcam)\n",
            "  Downloading nvidia_cufft_cu12-11.2.1.3-py3-none-manylinux2014_x86_64.whl.metadata (1.5 kB)\n",
            "Collecting nvidia-curand-cu12==10.3.5.147 (from torch<3.0.0,>=2.0.0->torchcam)\n",
            "  Downloading nvidia_curand_cu12-10.3.5.147-py3-none-manylinux2014_x86_64.whl.metadata (1.5 kB)\n",
            "Collecting nvidia-cusolver-cu12==11.6.1.9 (from torch<3.0.0,>=2.0.0->torchcam)\n",
            "  Downloading nvidia_cusolver_cu12-11.6.1.9-py3-none-manylinux2014_x86_64.whl.metadata (1.6 kB)\n",
            "Collecting nvidia-cusparse-cu12==12.3.1.170 (from torch<3.0.0,>=2.0.0->torchcam)\n",
            "  Downloading nvidia_cusparse_cu12-12.3.1.170-py3-none-manylinux2014_x86_64.whl.metadata (1.6 kB)\n",
            "Requirement already satisfied: nvidia-cusparselt-cu12==0.6.2 in /usr/local/lib/python3.11/dist-packages (from torch<3.0.0,>=2.0.0->torchcam) (0.6.2)\n",
            "Requirement already satisfied: nvidia-nccl-cu12==2.21.5 in /usr/local/lib/python3.11/dist-packages (from torch<3.0.0,>=2.0.0->torchcam) (2.21.5)\n",
            "Requirement already satisfied: nvidia-nvtx-cu12==12.4.127 in /usr/local/lib/python3.11/dist-packages (from torch<3.0.0,>=2.0.0->torchcam) (12.4.127)\n",
            "Collecting nvidia-nvjitlink-cu12==12.4.127 (from torch<3.0.0,>=2.0.0->torchcam)\n",
            "  Downloading nvidia_nvjitlink_cu12-12.4.127-py3-none-manylinux2014_x86_64.whl.metadata (1.5 kB)\n",
            "Requirement already satisfied: triton==3.2.0 in /usr/local/lib/python3.11/dist-packages (from torch<3.0.0,>=2.0.0->torchcam) (3.2.0)\n",
            "Requirement already satisfied: sympy==1.13.1 in /usr/local/lib/python3.11/dist-packages (from torch<3.0.0,>=2.0.0->torchcam) (1.13.1)\n",
            "Requirement already satisfied: mpmath<1.4,>=1.1.0 in /usr/local/lib/python3.11/dist-packages (from sympy==1.13.1->torch<3.0.0,>=2.0.0->torchcam) (1.3.0)\n",
            "Requirement already satisfied: six>=1.5 in /usr/local/lib/python3.11/dist-packages (from python-dateutil>=2.7->matplotlib<4.0.0,>=3.7.0->torchcam) (1.17.0)\n",
            "Requirement already satisfied: MarkupSafe>=2.0 in /usr/local/lib/python3.11/dist-packages (from jinja2->torch<3.0.0,>=2.0.0->torchcam) (3.0.2)\n",
            "Downloading torchcam-0.4.0-py3-none-any.whl (46 kB)\n",
            "\u001b[2K   \u001b[90m━━━━━━━━━━━━━━━━━━━━━━━━━━━━━━━━━━━━━━━━\u001b[0m \u001b[32m46.0/46.0 kB\u001b[0m \u001b[31m5.0 MB/s\u001b[0m eta \u001b[36m0:00:00\u001b[0m\n",
            "\u001b[?25hDownloading numpy-1.26.4-cp311-cp311-manylinux_2_17_x86_64.manylinux2014_x86_64.whl (18.3 MB)\n",
            "\u001b[2K   \u001b[90m━━━━━━━━━━━━━━━━━━━━━━━━━━━━━━━━━━━━━━━━\u001b[0m \u001b[32m18.3/18.3 MB\u001b[0m \u001b[31m95.5 MB/s\u001b[0m eta \u001b[36m0:00:00\u001b[0m\n",
            "\u001b[?25hDownloading nvidia_cublas_cu12-12.4.5.8-py3-none-manylinux2014_x86_64.whl (363.4 MB)\n",
            "\u001b[2K   \u001b[90m━━━━━━━━━━━━━━━━━━━━━━━━━━━━━━━━━━━━━━━━\u001b[0m \u001b[32m363.4/363.4 MB\u001b[0m \u001b[31m1.5 MB/s\u001b[0m eta \u001b[36m0:00:00\u001b[0m\n",
            "\u001b[?25hDownloading nvidia_cuda_cupti_cu12-12.4.127-py3-none-manylinux2014_x86_64.whl (13.8 MB)\n",
            "\u001b[2K   \u001b[90m━━━━━━━━━━━━━━━━━━━━━━━━━━━━━━━━━━━━━━━━\u001b[0m \u001b[32m13.8/13.8 MB\u001b[0m \u001b[31m117.7 MB/s\u001b[0m eta \u001b[36m0:00:00\u001b[0m\n",
            "\u001b[?25hDownloading nvidia_cuda_nvrtc_cu12-12.4.127-py3-none-manylinux2014_x86_64.whl (24.6 MB)\n",
            "\u001b[2K   \u001b[90m━━━━━━━━━━━━━━━━━━━━━━━━━━━━━━━━━━━━━━━━\u001b[0m \u001b[32m24.6/24.6 MB\u001b[0m \u001b[31m86.9 MB/s\u001b[0m eta \u001b[36m0:00:00\u001b[0m\n",
            "\u001b[?25hDownloading nvidia_cuda_runtime_cu12-12.4.127-py3-none-manylinux2014_x86_64.whl (883 kB)\n",
            "\u001b[2K   \u001b[90m━━━━━━━━━━━━━━━━━━━━━━━━━━━━━━━━━━━━━━━━\u001b[0m \u001b[32m883.7/883.7 kB\u001b[0m \u001b[31m60.3 MB/s\u001b[0m eta \u001b[36m0:00:00\u001b[0m\n",
            "\u001b[?25hDownloading nvidia_cudnn_cu12-9.1.0.70-py3-none-manylinux2014_x86_64.whl (664.8 MB)\n",
            "\u001b[2K   \u001b[90m━━━━━━━━━━━━━━━━━━━━━━━━━━━━━━━━━━━━━━━━\u001b[0m \u001b[32m664.8/664.8 MB\u001b[0m \u001b[31m1.3 MB/s\u001b[0m eta \u001b[36m0:00:00\u001b[0m\n",
            "\u001b[?25hDownloading nvidia_cufft_cu12-11.2.1.3-py3-none-manylinux2014_x86_64.whl (211.5 MB)\n",
            "\u001b[2K   \u001b[90m━━━━━━━━━━━━━━━━━━━━━━━━━━━━━━━━━━━━━━━━\u001b[0m \u001b[32m211.5/211.5 MB\u001b[0m \u001b[31m5.7 MB/s\u001b[0m eta \u001b[36m0:00:00\u001b[0m\n",
            "\u001b[?25hDownloading nvidia_curand_cu12-10.3.5.147-py3-none-manylinux2014_x86_64.whl (56.3 MB)\n",
            "\u001b[2K   \u001b[90m━━━━━━━━━━━━━━━━━━━━━━━━━━━━━━━━━━━━━━━━\u001b[0m \u001b[32m56.3/56.3 MB\u001b[0m \u001b[31m12.4 MB/s\u001b[0m eta \u001b[36m0:00:00\u001b[0m\n",
            "\u001b[?25hDownloading nvidia_cusolver_cu12-11.6.1.9-py3-none-manylinux2014_x86_64.whl (127.9 MB)\n",
            "\u001b[2K   \u001b[90m━━━━━━━━━━━━━━━━━━━━━━━━━━━━━━━━━━━━━━━━\u001b[0m \u001b[32m127.9/127.9 MB\u001b[0m \u001b[31m8.0 MB/s\u001b[0m eta \u001b[36m0:00:00\u001b[0m\n",
            "\u001b[?25hDownloading nvidia_cusparse_cu12-12.3.1.170-py3-none-manylinux2014_x86_64.whl (207.5 MB)\n",
            "\u001b[2K   \u001b[90m━━━━━━━━━━━━━━━━━━━━━━━━━━━━━━━━━━━━━━━━\u001b[0m \u001b[32m207.5/207.5 MB\u001b[0m \u001b[31m6.8 MB/s\u001b[0m eta \u001b[36m0:00:00\u001b[0m\n",
            "\u001b[?25hDownloading nvidia_nvjitlink_cu12-12.4.127-py3-none-manylinux2014_x86_64.whl (21.1 MB)\n",
            "\u001b[2K   \u001b[90m━━━━━━━━━━━━━━━━━━━━━━━━━━━━━━━━━━━━━━━━\u001b[0m \u001b[32m21.1/21.1 MB\u001b[0m \u001b[31m83.4 MB/s\u001b[0m eta \u001b[36m0:00:00\u001b[0m\n",
            "\u001b[?25hInstalling collected packages: nvidia-nvjitlink-cu12, nvidia-curand-cu12, nvidia-cufft-cu12, nvidia-cuda-runtime-cu12, nvidia-cuda-nvrtc-cu12, nvidia-cuda-cupti-cu12, nvidia-cublas-cu12, numpy, nvidia-cusparse-cu12, nvidia-cudnn-cu12, nvidia-cusolver-cu12, torchcam\n",
            "  Attempting uninstall: nvidia-nvjitlink-cu12\n",
            "    Found existing installation: nvidia-nvjitlink-cu12 12.5.82\n",
            "    Uninstalling nvidia-nvjitlink-cu12-12.5.82:\n",
            "      Successfully uninstalled nvidia-nvjitlink-cu12-12.5.82\n",
            "  Attempting uninstall: nvidia-curand-cu12\n",
            "    Found existing installation: nvidia-curand-cu12 10.3.6.82\n",
            "    Uninstalling nvidia-curand-cu12-10.3.6.82:\n",
            "      Successfully uninstalled nvidia-curand-cu12-10.3.6.82\n",
            "  Attempting uninstall: nvidia-cufft-cu12\n",
            "    Found existing installation: nvidia-cufft-cu12 11.2.3.61\n",
            "    Uninstalling nvidia-cufft-cu12-11.2.3.61:\n",
            "      Successfully uninstalled nvidia-cufft-cu12-11.2.3.61\n",
            "  Attempting uninstall: nvidia-cuda-runtime-cu12\n",
            "    Found existing installation: nvidia-cuda-runtime-cu12 12.5.82\n",
            "    Uninstalling nvidia-cuda-runtime-cu12-12.5.82:\n",
            "      Successfully uninstalled nvidia-cuda-runtime-cu12-12.5.82\n",
            "  Attempting uninstall: nvidia-cuda-nvrtc-cu12\n",
            "    Found existing installation: nvidia-cuda-nvrtc-cu12 12.5.82\n",
            "    Uninstalling nvidia-cuda-nvrtc-cu12-12.5.82:\n",
            "      Successfully uninstalled nvidia-cuda-nvrtc-cu12-12.5.82\n",
            "  Attempting uninstall: nvidia-cuda-cupti-cu12\n",
            "    Found existing installation: nvidia-cuda-cupti-cu12 12.5.82\n",
            "    Uninstalling nvidia-cuda-cupti-cu12-12.5.82:\n",
            "      Successfully uninstalled nvidia-cuda-cupti-cu12-12.5.82\n",
            "  Attempting uninstall: nvidia-cublas-cu12\n",
            "    Found existing installation: nvidia-cublas-cu12 12.5.3.2\n",
            "    Uninstalling nvidia-cublas-cu12-12.5.3.2:\n",
            "      Successfully uninstalled nvidia-cublas-cu12-12.5.3.2\n",
            "  Attempting uninstall: numpy\n",
            "    Found existing installation: numpy 2.0.2\n",
            "    Uninstalling numpy-2.0.2:\n",
            "      Successfully uninstalled numpy-2.0.2\n",
            "  Attempting uninstall: nvidia-cusparse-cu12\n",
            "    Found existing installation: nvidia-cusparse-cu12 12.5.1.3\n",
            "    Uninstalling nvidia-cusparse-cu12-12.5.1.3:\n",
            "      Successfully uninstalled nvidia-cusparse-cu12-12.5.1.3\n",
            "  Attempting uninstall: nvidia-cudnn-cu12\n",
            "    Found existing installation: nvidia-cudnn-cu12 9.3.0.75\n",
            "    Uninstalling nvidia-cudnn-cu12-9.3.0.75:\n",
            "      Successfully uninstalled nvidia-cudnn-cu12-9.3.0.75\n",
            "  Attempting uninstall: nvidia-cusolver-cu12\n",
            "    Found existing installation: nvidia-cusolver-cu12 11.6.3.83\n",
            "    Uninstalling nvidia-cusolver-cu12-11.6.3.83:\n",
            "      Successfully uninstalled nvidia-cusolver-cu12-11.6.3.83\n",
            "\u001b[31mERROR: pip's dependency resolver does not currently take into account all the packages that are installed. This behaviour is the source of the following dependency conflicts.\n",
            "thinc 8.3.6 requires numpy<3.0.0,>=2.0.0, but you have numpy 1.26.4 which is incompatible.\n",
            "opencv-contrib-python 4.12.0.88 requires numpy<2.3.0,>=2; python_version >= \"3.9\", but you have numpy 1.26.4 which is incompatible.\n",
            "opencv-python 4.12.0.88 requires numpy<2.3.0,>=2; python_version >= \"3.9\", but you have numpy 1.26.4 which is incompatible.\n",
            "opencv-python-headless 4.12.0.88 requires numpy<2.3.0,>=2; python_version >= \"3.9\", but you have numpy 1.26.4 which is incompatible.\u001b[0m\u001b[31m\n",
            "\u001b[0mSuccessfully installed numpy-1.26.4 nvidia-cublas-cu12-12.4.5.8 nvidia-cuda-cupti-cu12-12.4.127 nvidia-cuda-nvrtc-cu12-12.4.127 nvidia-cuda-runtime-cu12-12.4.127 nvidia-cudnn-cu12-9.1.0.70 nvidia-cufft-cu12-11.2.1.3 nvidia-curand-cu12-10.3.5.147 nvidia-cusolver-cu12-11.6.1.9 nvidia-cusparse-cu12-12.3.1.170 nvidia-nvjitlink-cu12-12.4.127 torchcam-0.4.0\n"
          ]
        },
        {
          "data": {
            "application/vnd.colab-display-data+json": {
              "id": "e45e90151441496fa9e2833aa76c037c",
              "pip_warning": {
                "packages": [
                  "numpy"
                ]
              }
            }
          },
          "metadata": {},
          "output_type": "display_data"
        },
        {
          "name": "stdout",
          "output_type": "stream",
          "text": [
            "Collecting captum\n",
            "  Downloading captum-0.8.0-py3-none-any.whl.metadata (26 kB)\n",
            "Requirement already satisfied: matplotlib in /usr/local/lib/python3.11/dist-packages (from captum) (3.10.0)\n",
            "Requirement already satisfied: numpy<2.0 in /usr/local/lib/python3.11/dist-packages (from captum) (1.26.4)\n",
            "Requirement already satisfied: packaging in /usr/local/lib/python3.11/dist-packages (from captum) (25.0)\n",
            "Requirement already satisfied: torch>=1.10 in /usr/local/lib/python3.11/dist-packages (from captum) (2.6.0+cu124)\n",
            "Requirement already satisfied: tqdm in /usr/local/lib/python3.11/dist-packages (from captum) (4.67.1)\n",
            "Requirement already satisfied: filelock in /usr/local/lib/python3.11/dist-packages (from torch>=1.10->captum) (3.18.0)\n",
            "Requirement already satisfied: typing-extensions>=4.10.0 in /usr/local/lib/python3.11/dist-packages (from torch>=1.10->captum) (4.14.1)\n",
            "Requirement already satisfied: networkx in /usr/local/lib/python3.11/dist-packages (from torch>=1.10->captum) (3.5)\n",
            "Requirement already satisfied: jinja2 in /usr/local/lib/python3.11/dist-packages (from torch>=1.10->captum) (3.1.6)\n",
            "Requirement already satisfied: fsspec in /usr/local/lib/python3.11/dist-packages (from torch>=1.10->captum) (2025.3.0)\n",
            "Requirement already satisfied: nvidia-cuda-nvrtc-cu12==12.4.127 in /usr/local/lib/python3.11/dist-packages (from torch>=1.10->captum) (12.4.127)\n",
            "Requirement already satisfied: nvidia-cuda-runtime-cu12==12.4.127 in /usr/local/lib/python3.11/dist-packages (from torch>=1.10->captum) (12.4.127)\n",
            "Requirement already satisfied: nvidia-cuda-cupti-cu12==12.4.127 in /usr/local/lib/python3.11/dist-packages (from torch>=1.10->captum) (12.4.127)\n",
            "Requirement already satisfied: nvidia-cudnn-cu12==9.1.0.70 in /usr/local/lib/python3.11/dist-packages (from torch>=1.10->captum) (9.1.0.70)\n",
            "Requirement already satisfied: nvidia-cublas-cu12==12.4.5.8 in /usr/local/lib/python3.11/dist-packages (from torch>=1.10->captum) (12.4.5.8)\n",
            "Requirement already satisfied: nvidia-cufft-cu12==11.2.1.3 in /usr/local/lib/python3.11/dist-packages (from torch>=1.10->captum) (11.2.1.3)\n",
            "Requirement already satisfied: nvidia-curand-cu12==10.3.5.147 in /usr/local/lib/python3.11/dist-packages (from torch>=1.10->captum) (10.3.5.147)\n",
            "Requirement already satisfied: nvidia-cusolver-cu12==11.6.1.9 in /usr/local/lib/python3.11/dist-packages (from torch>=1.10->captum) (11.6.1.9)\n",
            "Requirement already satisfied: nvidia-cusparse-cu12==12.3.1.170 in /usr/local/lib/python3.11/dist-packages (from torch>=1.10->captum) (12.3.1.170)\n",
            "Requirement already satisfied: nvidia-cusparselt-cu12==0.6.2 in /usr/local/lib/python3.11/dist-packages (from torch>=1.10->captum) (0.6.2)\n",
            "Requirement already satisfied: nvidia-nccl-cu12==2.21.5 in /usr/local/lib/python3.11/dist-packages (from torch>=1.10->captum) (2.21.5)\n",
            "Requirement already satisfied: nvidia-nvtx-cu12==12.4.127 in /usr/local/lib/python3.11/dist-packages (from torch>=1.10->captum) (12.4.127)\n",
            "Requirement already satisfied: nvidia-nvjitlink-cu12==12.4.127 in /usr/local/lib/python3.11/dist-packages (from torch>=1.10->captum) (12.4.127)\n",
            "Requirement already satisfied: triton==3.2.0 in /usr/local/lib/python3.11/dist-packages (from torch>=1.10->captum) (3.2.0)\n",
            "Requirement already satisfied: sympy==1.13.1 in /usr/local/lib/python3.11/dist-packages (from torch>=1.10->captum) (1.13.1)\n",
            "Requirement already satisfied: mpmath<1.4,>=1.1.0 in /usr/local/lib/python3.11/dist-packages (from sympy==1.13.1->torch>=1.10->captum) (1.3.0)\n",
            "Requirement already satisfied: contourpy>=1.0.1 in /usr/local/lib/python3.11/dist-packages (from matplotlib->captum) (1.3.2)\n",
            "Requirement already satisfied: cycler>=0.10 in /usr/local/lib/python3.11/dist-packages (from matplotlib->captum) (0.12.1)\n",
            "Requirement already satisfied: fonttools>=4.22.0 in /usr/local/lib/python3.11/dist-packages (from matplotlib->captum) (4.59.0)\n",
            "Requirement already satisfied: kiwisolver>=1.3.1 in /usr/local/lib/python3.11/dist-packages (from matplotlib->captum) (1.4.8)\n",
            "Requirement already satisfied: pillow>=8 in /usr/local/lib/python3.11/dist-packages (from matplotlib->captum) (11.3.0)\n",
            "Requirement already satisfied: pyparsing>=2.3.1 in /usr/local/lib/python3.11/dist-packages (from matplotlib->captum) (3.2.3)\n",
            "Requirement already satisfied: python-dateutil>=2.7 in /usr/local/lib/python3.11/dist-packages (from matplotlib->captum) (2.9.0.post0)\n",
            "Requirement already satisfied: six>=1.5 in /usr/local/lib/python3.11/dist-packages (from python-dateutil>=2.7->matplotlib->captum) (1.17.0)\n",
            "Requirement already satisfied: MarkupSafe>=2.0 in /usr/local/lib/python3.11/dist-packages (from jinja2->torch>=1.10->captum) (3.0.2)\n",
            "Downloading captum-0.8.0-py3-none-any.whl (1.4 MB)\n",
            "\u001b[2K   \u001b[90m━━━━━━━━━━━━━━━━━━━━━━━━━━━━━━━━━━━━━━━━\u001b[0m \u001b[32m1.4/1.4 MB\u001b[0m \u001b[31m66.3 MB/s\u001b[0m eta \u001b[36m0:00:00\u001b[0m\n",
            "\u001b[?25hInstalling collected packages: captum\n",
            "Successfully installed captum-0.8.0\n"
          ]
        }
      ],
      "source": [
        "!pip install torchcam\n",
        "# OR\n",
        "!pip install captum"
      ]
    },
    {
      "cell_type": "code",
      "execution_count": null,
      "metadata": {
        "id": "bfQ6I5mK8W1n"
      },
      "outputs": [],
      "source": []
    },
    {
      "cell_type": "code",
      "execution_count": null,
      "metadata": {
        "id": "8kcpLxy6CGIQ"
      },
      "outputs": [],
      "source": [
        "from torchcam.methods import GradCAM\n",
        "from torchcam.utils import overlay_mask\n",
        "from torchvision.transforms.functional import to_pil_image\n",
        "\n",
        "cam_extractor = GradCAM(model, target_layer=\"ltb1\")"
      ]
    },
    {
      "cell_type": "code",
      "execution_count": null,
      "metadata": {
        "id": "sin1HsuxFsWI"
      },
      "outputs": [],
      "source": [
        "model.eval()\n",
        "\n",
        "# Select a sample from test loader\n",
        "inputs, targets = next(iter(test_loader))\n",
        "inputs = inputs.to(device)\n",
        "targets = targets.squeeze().long().to(device)\n",
        "\n",
        "# Forward pass and CAM extraction\n",
        "with torch.no_grad():\n",
        "    output = model(inputs)\n",
        "    pred_class = output.argmax(dim=1)\n",
        "\n",
        "# Extract CAM for the first image\n",
        "cam = cam_extractor(pred_class[0].item(), output)  # Automatically registers and removes hooks\n",
        "\n",
        "# Process image and heatmap\n",
        "input_image = inputs[0].cpu().squeeze().numpy()  # [D, H, W]\n",
        "slice_idx = input_image.shape[0] // 2\n",
        "slice_img = input_image[slice_idx]\n",
        "slice_cam = cam[0][slice_idx]\n",
        "\n",
        "# Normalize and overlay\n",
        "from torchvision.transforms.functional import to_pil_image\n",
        "from torchcam.utils import overlay_mask\n",
        "import matplotlib.pyplot as plt\n",
        "\n",
        "norm_slice = (slice_img - slice_img.min()) / (slice_img.max() - slice_img.min())\n",
        "norm_cam = (slice_cam - slice_cam.min()) / (slice_cam.max() - slice_cam.min())\n",
        "\n",
        "overlay = overlay_mask(to_pil_image(norm_slice), to_pil_image(norm_cam), alpha=0.6)\n",
        "\n",
        "plt.imshow(overlay)\n",
        "plt.title(f\"Grad-CAM (Pred: {pred_class[0].item()}, True: {targets[0].item()})\")\n",
        "plt.axis('off')\n",
        "plt.show()\n"
      ]
    },
    {
      "cell_type": "code",
      "execution_count": null,
      "metadata": {
        "colab": {
          "base_uri": "https://localhost:8080/",
          "height": 521
        },
        "id": "_zEnJK3uDlxo",
        "outputId": "4764d851-99be-4127-b733-7d2b110f1e65"
      },
      "outputs": [
        {
          "data": {
            "image/png": "[encoded data removed]",
            "text/plain": [
              "<Figure size 600x600 with 1 Axes>"
            ]
          },
          "metadata": {},
          "output_type": "display_data"
        }
      ],
      "source": [
        "import torch\n",
        "import torch.nn.functional as F\n",
        "import matplotlib.pyplot as plt\n",
        "from torchvision.transforms.functional import to_pil_image\n",
        "from torchcam.methods import GradCAM\n",
        "from torchcam.utils import overlay_mask\n",
        "\n",
        "# === Setup ===\n",
        "device = \"cuda\" if torch.cuda.is_available() else \"cpu\"\n",
        "model.eval().to(device)\n",
        "\n",
        "# === Choose target layer for GradCAM ===\n",
        "target_layer = 'ltb3.conv.0'  # Change if needed\n",
        "cam_extractor = GradCAM(model, target_layer=target_layer)\n",
        "\n",
        "# === Load 1 test sample ===\n",
        "inputs, targets = next(iter(test_loader))\n",
        "input_tensor = inputs[0].unsqueeze(0).to(device)  # [1, 1, D, H, W]\n",
        "true_label = targets[0].item()\n",
        "\n",
        "# === Forward pass & CAM extraction ===\n",
        "with torch.set_grad_enabled(True):\n",
        "    scores = model(input_tensor)\n",
        "    pred_class = scores.argmax(dim=1).item()\n",
        "    cams = cam_extractor(pred_class, scores)  # list of CAMs\n",
        "\n",
        "# === Get the CAM tensor ===\n",
        "cam = cams[0]  # Could be [1, D, H, W] or [D, H, W]\n",
        "if cam.dim() == 3:\n",
        "    cam = cam.unsqueeze(0).unsqueeze(0)  # → [1, 1, D, H, W]\n",
        "elif cam.dim() == 4:\n",
        "    cam = cam.unsqueeze(0)               # → [1, 1, D, H, W]\n",
        "# Else: already fine\n",
        "\n",
        "# === Interpolate CAM to input shape ===\n",
        "target_shape = input_tensor.shape[2:]  # [D, H, W]\n",
        "cam_upsampled = F.interpolate(cam, size=target_shape, mode=\"trilinear\", align_corners=False)\n",
        "\n",
        "cam_volume = cam_upsampled.squeeze().cpu()  # [D, H, W]\n",
        "\n",
        "# === Get input volume ===\n",
        "input_volume = input_tensor.squeeze().cpu()  # [D, H, W]\n",
        "\n",
        "# === Pick a middle slice ===\n",
        "slice_idx = input_volume.shape[0] // 2\n",
        "input_slice = input_volume[slice_idx]  # [H, W]\n",
        "cam_slice = cam_volume[slice_idx]      # [H, W]\n",
        "\n",
        "# === Normalize both slices ===\n",
        "input_norm = (input_slice - input_slice.min()) / (input_slice.max() - input_slice.min() + 1e-6)\n",
        "cam_norm = (cam_slice - cam_slice.min()) / (cam_slice.max() - cam_slice.min() + 1e-6)\n",
        "\n",
        "# === Convert to PIL images ===\n",
        "input_pil = to_pil_image(input_slice)\n",
        "cam_pil = to_pil_image(cam_slice)\n",
        "\n",
        "# Convert grayscale input to RGB for overlay\n",
        "input_pil = input_pil.convert(\"RGB\")\n",
        "\n",
        "# === Overlay CAM ===\n",
        "overlay = overlay_mask(input_pil, cam_pil, alpha=0.5)\n",
        "\n",
        "# === Plot ===\n",
        "plt.figure(figsize=(6, 6))\n",
        "plt.imshow(overlay)\n",
        "plt.title(f\"Grad-CAM Overlay (slice {slice_idx}) | Pred: {pred_class} | GT: {target_class}\")\n",
        "plt.axis(\"off\")\n",
        "plt.show()\n"
      ]
    },
    {
      "cell_type": "code",
      "execution_count": null,
      "metadata": {
        "colab": {
          "base_uri": "https://localhost:8080/",
          "height": 521
        },
        "id": "Y-eeHmrDD3N9",
        "outputId": "1edd4a61-d082-488f-c309-3d533d6c3e74"
      },
      "outputs": [
        {
          "data": {
            "image/png": "[encoded data removed]",
            "text/plain": [
              "<Figure size 600x600 with 1 Axes>"
            ]
          },
          "metadata": {},
          "output_type": "display_data"
        }
      ],
      "source": [
        "import torch\n",
        "import torch.nn.functional as F\n",
        "import matplotlib.pyplot as plt\n",
        "from torchvision.transforms.functional import to_pil_image\n",
        "from torchcam.methods import GradCAM\n",
        "from torchcam.utils import overlay_mask\n",
        "\n",
        "# === Prepare your model ===\n",
        "model.eval()\n",
        "device = torch.device(\"cuda\" if torch.cuda.is_available() else \"cpu\")\n",
        "\n",
        "# Choose a target layer name from your model — ltb3 is good\n",
        "target_layer = \"ltb3\"\n",
        "\n",
        "# Initialize GradCAM\n",
        "cam_extractor = GradCAM(model, target_layer=target_layer)\n",
        "\n",
        "# === Pick one test sample ===\n",
        "inputs, targets = next(iter(test_loader))\n",
        "inputs = inputs.to(device)\n",
        "input_tensor = inputs[0].unsqueeze(0)  # [1, C, D, H, W]\n",
        "target_class = targets[0].item()\n",
        "\n",
        "# === Forward pass and CAM generation ===\n",
        "output = model(input_tensor)\n",
        "pred_class = output.argmax(dim=1).item()\n",
        "\n",
        "# Generate CAM\n",
        "cams = cam_extractor(pred_class, output)\n",
        "cam = cams[0]\n",
        "\n",
        "if cam.dim() == 3:\n",
        "    cam = cam.unsqueeze(0).unsqueeze(0)  # → [1, 1, D, H, W]\n",
        "elif cam.dim() == 4:\n",
        "    cam = cam.unsqueeze(0)               # → [1, 1, D, H, W]\n",
        "# === Interpolate CAM to match input size ===\n",
        "target_shape = input_tensor.shape[2:]  # [D, H, W]\n",
        "cam_upsampled = F.interpolate(cam, size=target_shape, mode=\"trilinear\", align_corners=False)\n",
        "\n",
        "cam_volume = cam_upsampled.squeeze().cpu()  # [D, H, W]\n",
        "\n",
        "\n",
        "# === Normalize input volume ===\n",
        "input_volume = input_tensor.squeeze().cpu()  # [D, H, W]\n",
        "input_volume = (input_volume - input_volume.min()) / (input_volume.max() - input_volume.min())\n",
        "\n",
        "# === Choose center slice ===\n",
        "slice_idx = input_volume.shape[0] // 2\n",
        "input_slice = input_volume[slice_idx]  # [H, W]\n",
        "cam_slice = cam_volume[slice_idx]      # [H, W]\n",
        "\n",
        "# Normalize CAM slice\n",
        "cam_slice = (cam_slice - cam_slice.min()) / (cam_slice.max() - cam_slice.min())\n",
        "\n",
        "# Convert grayscale input to RGB for overlay\n",
        "input_pil = input_pil.convert(\"RGB\")\n",
        "\n",
        "# === Overlay CAM ===\n",
        "overlay = overlay_mask(input_pil, cam_pil, alpha=0.5)\n",
        "\n",
        "# === Plot result ===\n",
        "plt.figure(figsize=(6, 6))\n",
        "plt.imshow(overlay)\n",
        "plt.title(f\"Grad-CAM (target: {target_class}, pred: {pred_class})\")\n",
        "plt.axis('off')\n",
        "plt.show()\n"
      ]
    },
    {
      "cell_type": "code",
      "execution_count": null,
      "metadata": {
        "id": "OAxSMlFfBlU5"
      },
      "outputs": [],
      "source": []
    }
  ],
  "metadata": {
    "colab": {
      "provenance": [],
      "gpuType": "T4"
    },
    "kernelspec": {
      "display_name": "Python 3",
      "name": "python3"
    },
    "language_info": {
      "name": "python"
    },
    "accelerator": "GPU"
  },
  "nbformat": 4,
  "nbformat_minor": 0
}