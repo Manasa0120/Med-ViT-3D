{
 "cells": [
  {
   "cell_type": "code",
   "execution_count": null,
   "metadata": {
    "id": "DjT5-WOnmhpY"
   },
   "outputs": [],
   "source": [
    "import tensorflow as tf\n",
    "import os"
   ]
  },
  {
   "cell_type": "code",
   "execution_count": null,
   "metadata": {
    "id": "1Zx4KxZQmpKh"
   },
   "outputs": [],
   "source": [
    "## limit the gpu using\n",
    "gpus = tf.config.experimental.list_physical_devices('GPU')\n",
    "for gpu in gpus:\n",
    "    tf.config.experimental.set_memory_growth(gpu, True)\n"
   ]
  },
  {
   "cell_type": "code",
   "execution_count": null,
   "metadata": {
    "id": "ASkrqPgZ0Yy5"
   },
   "outputs": [],
   "source": [
    "import kagglehub"
   ]
  },
  {
   "cell_type": "code",
   "execution_count": null,
   "metadata": {
    "id": "4g7vY2ae0Z0B"
   },
   "outputs": [],
   "source": [
    "# Download latest version\n",
    "path = kagglehub.dataset_download(\"paultimothymooney/chest-xray-pneumonia\")"
   ]
  },
  {
   "cell_type": "code",
   "execution_count": null,
   "metadata": {
    "colab": {
     "base_uri": "https://localhost:8080/"
    },
    "executionInfo": {
     "elapsed": 46,
     "status": "ok",
     "timestamp": 1752293325540,
     "user": {
      "displayName": "Xuan Nguyen",
      "userId": "14682520608229535871"
     },
     "user_tz": -420
    },
    "id": "V6fFt2I30cvQ",
    "outputId": "663b8273-e4b1-4a21-9860-0fcd4656345b"
   },
   "outputs": [
    {
     "name": "stdout",
     "output_type": "stream",
     "text": [
      "Path to dataset files: /kaggle/input/chest-xray-pneumonia\n"
     ]
    }
   ],
   "source": [
    "print(\"Path to dataset files:\", path)"
   ]
  },
  {
   "cell_type": "code",
   "execution_count": null,
   "metadata": {
    "colab": {
     "base_uri": "https://localhost:8080/"
    },
    "executionInfo": {
     "elapsed": 21,
     "status": "ok",
     "timestamp": 1752899432404,
     "user": {
      "displayName": "Xuan Nguyen",
      "userId": "14682520608229535871"
     },
     "user_tz": -420
    },
    "id": "7cGS-9bZ1H7w",
    "outputId": "1b205962-8b91-46f0-eb2f-e1ed57ecec09"
   },
   "outputs": [
    {
     "data": {
      "text/plain": [
       "['chest_xray']"
      ]
     },
     "execution_count": 5,
     "metadata": {},
     "output_type": "execute_result"
    }
   ],
   "source": [
    "import os\n",
    "os.listdir(path)"
   ]
  },
  {
   "cell_type": "code",
   "execution_count": null,
   "metadata": {
    "colab": {
     "base_uri": "https://localhost:8080/"
    },
    "executionInfo": {
     "elapsed": 5,
     "status": "ok",
     "timestamp": 1752902848332,
     "user": {
      "displayName": "Xuan Nguyen",
      "userId": "14682520608229535871"
     },
     "user_tz": -420
    },
    "id": "0xqjHH3P5Etg",
    "outputId": "ec413588-2557-41c6-a702-e2a491ba518e"
   },
   "outputs": [
    {
     "name": "stdout",
     "output_type": "stream",
     "text": [
      "PyTorch version: 2.6.0+cu124\n",
      "TensorFlow version: 2.18.0\n"
     ]
    }
   ],
   "source": [
    "import torch\n",
    "print(\"PyTorch version:\", torch.__version__)\n",
    "import tensorflow as tf\n",
    "print(\"TensorFlow version:\", tf.__version__)"
   ]
  },
  {
   "cell_type": "code",
   "execution_count": null,
   "metadata": {
    "id": "C4OyFo0Y2WC2"
   },
   "outputs": [],
   "source": [
    "class DATALOAD:\n",
    "  def __init__(self, flagging):\n",
    "    self.flagging = flagging\n",
    "    self.mri = \"uraninjo/augmented-alzheimer-mri-dataset-v2\"\n",
    "    self.xray = \"paultimothymooney/chest-xray-pneumonia\"\n",
    "    self.data_dir = self.get_data_dir()\n",
    "    self.input_img_size = 224\n",
    "    self.batch_size = 10\n",
    "    self.train_ds, self.val_ds = self.load_data()\n",
    "\n",
    "  def get_data_dir(self):\n",
    "    if self.flagging == \"mri\":\n",
    "      path = kagglehub.dataset_download(self.mri)\n",
    "      path =  os.path.join(path, 'data')\n",
    "    else:\n",
    "      path = kagglehub.dataset_download(self.xray)\n",
    "      path= os.path.join(path, 'chest_xray')\n",
    "    return path\n",
    "\n",
    "  def data_load(self, dir):\n",
    "    data = tf.keras.preprocessing.image_dataset_from_directory(\n",
    "        dir,\n",
    "        image_size=(self.input_img_size, self.input_img_size),\n",
    "        batch_size =self.batch_size,\n",
    "        labels='inferred',\n",
    "        label_mode='categorical',  # for one-hot encoding; use 'int' if you prefer integers\n",
    "        shuffle=True,\n",
    "        seed=42)\n",
    "    return data\n",
    "\n",
    "  def load_data(self):\n",
    "    train_ds = self.data_load(self.data_dir + '/train')\n",
    "    val_ds = self.data_load(self.data_dir + '/val')\n",
    "    return train_ds, val_ds"
   ]
  },
  {
   "cell_type": "code",
   "execution_count": null,
   "metadata": {
    "colab": {
     "base_uri": "https://localhost:8080/"
    },
    "executionInfo": {
     "elapsed": 25934,
     "status": "ok",
     "timestamp": 1752899463826,
     "user": {
      "displayName": "Xuan Nguyen",
      "userId": "14682520608229535871"
     },
     "user_tz": -420
    },
    "id": "rXoz7rf-9H4n",
    "outputId": "b238e6f2-dbfd-4541-f941-ea60ad3f8e34"
   },
   "outputs": [
    {
     "name": "stdout",
     "output_type": "stream",
     "text": [
      "Downloading from https://www.kaggle.com/api/v1/datasets/download/uraninjo/augmented-alzheimer-mri-dataset-v2?dataset_version_number=1...\n"
     ]
    },
    {
     "name": "stderr",
     "output_type": "stream",
     "text": [
      "100%|██████████| 379M/379M [00:09<00:00, 40.9MB/s]"
     ]
    },
    {
     "name": "stdout",
     "output_type": "stream",
     "text": [
      "Extracting files...\n"
     ]
    },
    {
     "name": "stderr",
     "output_type": "stream",
     "text": [
      "\n"
     ]
    },
    {
     "name": "stdout",
     "output_type": "stream",
     "text": [
      "Found 33984 files belonging to 4 classes.\n",
      "Found 6400 files belonging to 4 classes.\n"
     ]
    }
   ],
   "source": [
    "xu = DATALOAD(\"mri\")"
   ]
  },
  {
   "cell_type": "code",
   "execution_count": null,
   "metadata": {
    "id": "cqOWtQJM9Lsa"
   },
   "outputs": [],
   "source": [
    "# xu.train_ds, xu.val_ds"
   ]
  },
  {
   "cell_type": "code",
   "execution_count": null,
   "metadata": {
    "id": "gK0paM7198JF"
   },
   "outputs": [],
   "source": [
    "# xu = DATALOAD(\"xray\")"
   ]
  },
  {
   "cell_type": "code",
   "execution_count": null,
   "metadata": {
    "id": "0_x6yvcv-D1R"
   },
   "outputs": [],
   "source": [
    "# xu.train_ds, xu.val_ds"
   ]
  },
  {
   "cell_type": "code",
   "execution_count": null,
   "metadata": {
    "id": "_VlSSZlj-Ft3"
   },
   "outputs": [],
   "source": [
    "# xu.train_ds.class_names"
   ]
  },
  {
   "cell_type": "code",
   "execution_count": null,
   "metadata": {
    "id": "ke2sYYa3-hjY"
   },
   "outputs": [],
   "source": [
    "import torch\n",
    "device = \"cuda\" if torch.cuda.is_available() else \"cpu\"\n",
    "batch_size = 42\n",
    "num_classes = len(xu.train_ds.class_names)\n",
    "learning_rate = 1e-3\n",
    "epochs = 5\n",
    "learning_rate = 1e-4\n",
    "img_size = 224  # resize for ResNet"
   ]
  },
  {
   "cell_type": "code",
   "execution_count": null,
   "metadata": {
    "id": "bbXLU3L-_apo"
   },
   "outputs": [],
   "source": [
    "import tensorflow as tf\n",
    "from tensorflow.keras.applications import ResNet50\n",
    "from tensorflow.keras import layers, models\n",
    "from tensorflow.keras.callbacks import ModelCheckpoint"
   ]
  },
  {
   "cell_type": "code",
   "execution_count": null,
   "metadata": {
    "colab": {
     "base_uri": "https://localhost:8080/",
     "height": 307
    },
    "executionInfo": {
     "elapsed": 1199,
     "status": "ok",
     "timestamp": 1752899745857,
     "user": {
      "displayName": "Xuan Nguyen",
      "userId": "14682520608229535871"
     },
     "user_tz": -420
    },
    "id": "78xaQG3AADmW",
    "outputId": "c5366979-1c7e-41de-c2ab-f2a8976cd2f4"
   },
   "outputs": [
    {
     "data": {
      "text/html": [
       "<pre style=\"white-space:pre;overflow-x:auto;line-height:normal;font-family:Menlo,'DejaVu Sans Mono',consolas,'Courier New',monospace\"><span style=\"font-weight: bold\">Model: \"sequential_1\"</span>\n",
       "</pre>\n"
      ],
      "text/plain": [
       "\u001b[1mModel: \"sequential_1\"\u001b[0m\n"
      ]
     },
     "metadata": {},
     "output_type": "display_data"
    },
    {
     "data": {
      "text/html": [
       "<pre style=\"white-space:pre;overflow-x:auto;line-height:normal;font-family:Menlo,'DejaVu Sans Mono',consolas,'Courier New',monospace\">┏━━━━━━━━━━━━━━━━━━━━━━━━━━━━━━━━━┳━━━━━━━━━━━━━━━━━━━━━━━━┳━━━━━━━━━━━━━━━┓\n",
       "┃<span style=\"font-weight: bold\"> Layer (type)                    </span>┃<span style=\"font-weight: bold\"> Output Shape           </span>┃<span style=\"font-weight: bold\">       Param # </span>┃\n",
       "┡━━━━━━━━━━━━━━━━━━━━━━━━━━━━━━━━━╇━━━━━━━━━━━━━━━━━━━━━━━━╇━━━━━━━━━━━━━━━┩\n",
       "│ resnet50 (<span style=\"color: #0087ff; text-decoration-color: #0087ff\">Functional</span>)           │ (<span style=\"color: #00d7ff; text-decoration-color: #00d7ff\">None</span>, <span style=\"color: #00af00; text-decoration-color: #00af00\">7</span>, <span style=\"color: #00af00; text-decoration-color: #00af00\">7</span>, <span style=\"color: #00af00; text-decoration-color: #00af00\">2048</span>)     │    <span style=\"color: #00af00; text-decoration-color: #00af00\">23,587,712</span> │\n",
       "├─────────────────────────────────┼────────────────────────┼───────────────┤\n",
       "│ global_average_pooling2d_1      │ (<span style=\"color: #00d7ff; text-decoration-color: #00d7ff\">None</span>, <span style=\"color: #00af00; text-decoration-color: #00af00\">2048</span>)           │             <span style=\"color: #00af00; text-decoration-color: #00af00\">0</span> │\n",
       "│ (<span style=\"color: #0087ff; text-decoration-color: #0087ff\">GlobalAveragePooling2D</span>)        │                        │               │\n",
       "├─────────────────────────────────┼────────────────────────┼───────────────┤\n",
       "│ dense_2 (<span style=\"color: #0087ff; text-decoration-color: #0087ff\">Dense</span>)                 │ (<span style=\"color: #00d7ff; text-decoration-color: #00d7ff\">None</span>, <span style=\"color: #00af00; text-decoration-color: #00af00\">256</span>)            │       <span style=\"color: #00af00; text-decoration-color: #00af00\">524,544</span> │\n",
       "├─────────────────────────────────┼────────────────────────┼───────────────┤\n",
       "│ dropout_1 (<span style=\"color: #0087ff; text-decoration-color: #0087ff\">Dropout</span>)             │ (<span style=\"color: #00d7ff; text-decoration-color: #00d7ff\">None</span>, <span style=\"color: #00af00; text-decoration-color: #00af00\">256</span>)            │             <span style=\"color: #00af00; text-decoration-color: #00af00\">0</span> │\n",
       "├─────────────────────────────────┼────────────────────────┼───────────────┤\n",
       "│ dense_3 (<span style=\"color: #0087ff; text-decoration-color: #0087ff\">Dense</span>)                 │ (<span style=\"color: #00d7ff; text-decoration-color: #00d7ff\">None</span>, <span style=\"color: #00af00; text-decoration-color: #00af00\">4</span>)              │         <span style=\"color: #00af00; text-decoration-color: #00af00\">1,028</span> │\n",
       "└─────────────────────────────────┴────────────────────────┴───────────────┘\n",
       "</pre>\n"
      ],
      "text/plain": [
       "┏━━━━━━━━━━━━━━━━━━━━━━━━━━━━━━━━━┳━━━━━━━━━━━━━━━━━━━━━━━━┳━━━━━━━━━━━━━━━┓\n",
       "┃\u001b[1m \u001b[0m\u001b[1mLayer (type)                   \u001b[0m\u001b[1m \u001b[0m┃\u001b[1m \u001b[0m\u001b[1mOutput Shape          \u001b[0m\u001b[1m \u001b[0m┃\u001b[1m \u001b[0m\u001b[1m      Param #\u001b[0m\u001b[1m \u001b[0m┃\n",
       "┡━━━━━━━━━━━━━━━━━━━━━━━━━━━━━━━━━╇━━━━━━━━━━━━━━━━━━━━━━━━╇━━━━━━━━━━━━━━━┩\n",
       "│ resnet50 (\u001b[38;5;33mFunctional\u001b[0m)           │ (\u001b[38;5;45mNone\u001b[0m, \u001b[38;5;34m7\u001b[0m, \u001b[38;5;34m7\u001b[0m, \u001b[38;5;34m2048\u001b[0m)     │    \u001b[38;5;34m23,587,712\u001b[0m │\n",
       "├─────────────────────────────────┼────────────────────────┼───────────────┤\n",
       "│ global_average_pooling2d_1      │ (\u001b[38;5;45mNone\u001b[0m, \u001b[38;5;34m2048\u001b[0m)           │             \u001b[38;5;34m0\u001b[0m │\n",
       "│ (\u001b[38;5;33mGlobalAveragePooling2D\u001b[0m)        │                        │               │\n",
       "├─────────────────────────────────┼────────────────────────┼───────────────┤\n",
       "│ dense_2 (\u001b[38;5;33mDense\u001b[0m)                 │ (\u001b[38;5;45mNone\u001b[0m, \u001b[38;5;34m256\u001b[0m)            │       \u001b[38;5;34m524,544\u001b[0m │\n",
       "├─────────────────────────────────┼────────────────────────┼───────────────┤\n",
       "│ dropout_1 (\u001b[38;5;33mDropout\u001b[0m)             │ (\u001b[38;5;45mNone\u001b[0m, \u001b[38;5;34m256\u001b[0m)            │             \u001b[38;5;34m0\u001b[0m │\n",
       "├─────────────────────────────────┼────────────────────────┼───────────────┤\n",
       "│ dense_3 (\u001b[38;5;33mDense\u001b[0m)                 │ (\u001b[38;5;45mNone\u001b[0m, \u001b[38;5;34m4\u001b[0m)              │         \u001b[38;5;34m1,028\u001b[0m │\n",
       "└─────────────────────────────────┴────────────────────────┴───────────────┘\n"
      ]
     },
     "metadata": {},
     "output_type": "display_data"
    },
    {
     "data": {
      "text/html": [
       "<pre style=\"white-space:pre;overflow-x:auto;line-height:normal;font-family:Menlo,'DejaVu Sans Mono',consolas,'Courier New',monospace\"><span style=\"font-weight: bold\"> Total params: </span><span style=\"color: #00af00; text-decoration-color: #00af00\">24,113,284</span> (91.98 MB)\n",
       "</pre>\n"
      ],
      "text/plain": [
       "\u001b[1m Total params: \u001b[0m\u001b[38;5;34m24,113,284\u001b[0m (91.98 MB)\n"
      ]
     },
     "metadata": {},
     "output_type": "display_data"
    },
    {
     "data": {
      "text/html": [
       "<pre style=\"white-space:pre;overflow-x:auto;line-height:normal;font-family:Menlo,'DejaVu Sans Mono',consolas,'Courier New',monospace\"><span style=\"font-weight: bold\"> Trainable params: </span><span style=\"color: #00af00; text-decoration-color: #00af00\">525,572</span> (2.00 MB)\n",
       "</pre>\n"
      ],
      "text/plain": [
       "\u001b[1m Trainable params: \u001b[0m\u001b[38;5;34m525,572\u001b[0m (2.00 MB)\n"
      ]
     },
     "metadata": {},
     "output_type": "display_data"
    },
    {
     "data": {
      "text/html": [
       "<pre style=\"white-space:pre;overflow-x:auto;line-height:normal;font-family:Menlo,'DejaVu Sans Mono',consolas,'Courier New',monospace\"><span style=\"font-weight: bold\"> Non-trainable params: </span><span style=\"color: #00af00; text-decoration-color: #00af00\">23,587,712</span> (89.98 MB)\n",
       "</pre>\n"
      ],
      "text/plain": [
       "\u001b[1m Non-trainable params: \u001b[0m\u001b[38;5;34m23,587,712\u001b[0m (89.98 MB)\n"
      ]
     },
     "metadata": {},
     "output_type": "display_data"
    }
   ],
   "source": [
    "# Function to add the final layers on top of ResNet50\n",
    "def end_layer(base_model):\n",
    "    model_res = models.Sequential([\n",
    "        base_model,\n",
    "        layers.GlobalAveragePooling2D(),\n",
    "        layers.Dense(256, activation='relu'),\n",
    "        layers.Dropout(0.5),\n",
    "        layers.Dense(num_classes, activation='softmax')\n",
    "    ])\n",
    "    model_res.compile(\n",
    "        optimizer='adam',\n",
    "        loss='categorical_crossentropy',\n",
    "        metrics=['accuracy']\n",
    "    )\n",
    "\n",
    "    model_res.summary()\n",
    "    return model_res\n",
    "# Specify checkpoint callback\n",
    "def checkppoint(model_name):\n",
    "  checkpoint_cb = ModelCheckpoint(\n",
    "      model_name,        # file to save\n",
    "      monitor=\"val_loss\",        # metric to monitor (can also use \"val_accuracy\")\n",
    "      save_best_only=True,       # save only the best model\n",
    "      mode=\"min\",                # \"min\" for loss, \"max\" for accuracy\n",
    "      verbose=1\n",
    "  )\n",
    "  return checkpoint_cb\n",
    "\n",
    "\n",
    "# RESTNET class to encapsulate the model\n",
    "class RESTNET:\n",
    "    def __init__(self):\n",
    "        self.model_name = \"resnet_model.keras\"\n",
    "        self.history_name = \"resnet_model.json\"\n",
    "        self.base_model = ResNet50(\n",
    "            weights='imagenet',\n",
    "            include_top=False,\n",
    "            input_shape=(224, 224, 3)\n",
    "        )\n",
    "        self.base_model.trainable = False  # freeze the base\n",
    "        self.model = end_layer(self.base_model)\n",
    "        self.checkpoint_cb = checkppoint(self.model_name)\n",
    "\n",
    "restnet50_model = RESTNET()"
   ]
  },
  {
   "cell_type": "code",
   "execution_count": null,
   "metadata": {
    "id": "Ip7_oQjQCG7b"
   },
   "outputs": [],
   "source": []
  },
  {
   "cell_type": "code",
   "execution_count": null,
   "metadata": {
    "id": "CxaRV0zAH-gH"
   },
   "outputs": [],
   "source": [
    "base_model = restnet50_model.base_model\n",
    "model_resnet50 = restnet50_model.model\n",
    "checkpoint_cb_restnet50 = restnet50_model.checkpoint_cb\n",
    "model_name_restnet50 = restnet50_model.model_name\n",
    "history_name_restnet50 = restnet50_model.history_name"
   ]
  },
  {
   "cell_type": "code",
   "execution_count": null,
   "metadata": {
    "id": "x3vSGTKk9FOS"
   },
   "outputs": [],
   "source": []
  },
  {
   "cell_type": "code",
   "execution_count": null,
   "metadata": {
    "id": "_2Um2vc-UfPy"
   },
   "outputs": [],
   "source": [
    "# Save architecture as JSON\n",
    "with open(\"resnet50_base_model.json\", \"w\") as f:\n",
    "    f.write(model_resnet50.to_json())\n",
    "\n",
    "## then open resnet50_base_model.json with: https://netron.app/"
   ]
  },
  {
   "cell_type": "code",
   "execution_count": null,
   "metadata": {
    "id": "zGEfCeXnCOW8"
   },
   "outputs": [],
   "source": [
    "### Function to auto train model\n",
    "from tensorflow.keras.models import load_model\n",
    "\n",
    "import json\n",
    "\n",
    "def save_history(history, filename=\"history.json\"):\n",
    "    with open(filename, \"w\") as f:\n",
    "        json.dump(history, f)\n",
    "\n",
    "def load_history(filename=\"history.json\"):\n",
    "    with open(filename, \"r\") as f:\n",
    "        hist = json.load(f)\n",
    "    return hist\n",
    "\n",
    "\n",
    "def train_or_resume_model(model, train_ds, val_ds, model_name=\"resnet_model.keras\",\n",
    "                          initial_epochs=5, extra_epochs=5, history_name=\"resnet_model.json\",\n",
    "                          checkpoint_cb = checkpoint_cb_restnet50):\n",
    "    \"\"\"\n",
    "    model: your base model object (can be new or empty)\n",
    "    train_ds: training dataset\n",
    "    val_ds: validation dataset\n",
    "    model_name: filename to save/load\n",
    "    initial_epochs: epochs if training from scratch\n",
    "    extra_epochs: epochs to continue if reloading\n",
    "    \"\"\"\n",
    "    combined_history = {}\n",
    "    if os.path.exists(model_name):\n",
    "        print(f\"Found existing model '{model_name}'. Loading and continuing training...\")\n",
    "        model = load_model(model_name)\n",
    "        ## OPTION1: you need to re-compile model\n",
    "        # model.compile(optimizer='adam', loss='categorical_crossentropy', metrics=['accuracy'])  # re-compile\n",
    "        # or OPTION2: you need Force build metrics to initiate the metrixs\n",
    "        model.evaluate(train_ds.take(1))\n",
    "        # Load old history\n",
    "        old_hist = load_history(history_name)\n",
    "        if old_hist is None:\n",
    "            old_hist = {}\n",
    "\n",
    "        new_history = model.fit(train_ds, validation_data=val_ds, epochs=extra_epochs, callbacks=[checkpoint_cb])\n",
    "        new_hist = new_history.history\n",
    "        # Merge histories (append)\n",
    "        for key in new_hist:\n",
    "            if key in old_hist:\n",
    "                old_hist[key].extend(new_hist[key])\n",
    "            else:\n",
    "                old_hist[key] = new_hist[key]\n",
    "        combined_history = old_hist\n",
    "    else:\n",
    "        print(f\"No saved model found. Training new model from scratch...\")\n",
    "        history = model.fit(train_ds, validation_data=val_ds, epochs=initial_epochs,callbacks=[checkpoint_cb])\n",
    "        combined_history = history.history\n",
    "\n",
    "    model.save(model_name)\n",
    "    print(f\"Model saved to: {model_name}\")\n",
    "    save_history(combined_history,filename= history_name)\n",
    "\n",
    "    return model, combined_history"
   ]
  },
  {
   "cell_type": "code",
   "execution_count": null,
   "metadata": {
    "colab": {
     "base_uri": "https://localhost:8080/"
    },
    "executionInfo": {
     "elapsed": 715970,
     "status": "ok",
     "timestamp": 1752900576069,
     "user": {
      "displayName": "Xuan Nguyen",
      "userId": "14682520608229535871"
     },
     "user_tz": -420
    },
    "id": "LT8FvmsJJX-d",
    "outputId": "264ceb42-97ac-4ebd-9381-54fd8e4dd47a"
   },
   "outputs": [
    {
     "name": "stdout",
     "output_type": "stream",
     "text": [
      "No saved model found. Training new model from scratch...\n",
      "Epoch 1/5\n",
      "\u001b[1m3399/3399\u001b[0m \u001b[32m━━━━━━━━━━━━━━━━━━━━\u001b[0m\u001b[37m\u001b[0m \u001b[1m0s\u001b[0m 33ms/step - accuracy: 0.4528 - loss: 1.1739\n",
      "Epoch 1: val_loss improved from inf to 0.92718, saving model to resnet_model.keras\n",
      "\u001b[1m3399/3399\u001b[0m \u001b[32m━━━━━━━━━━━━━━━━━━━━\u001b[0m\u001b[37m\u001b[0m \u001b[1m172s\u001b[0m 46ms/step - accuracy: 0.4528 - loss: 1.1738 - val_accuracy: 0.4947 - val_loss: 0.9272\n",
      "Epoch 2/5\n",
      "\u001b[1m3397/3399\u001b[0m \u001b[32m━━━━━━━━━━━━━━━━━━━\u001b[0m\u001b[37m━\u001b[0m \u001b[1m0s\u001b[0m 32ms/step - accuracy: 0.5682 - loss: 0.8812\n",
      "Epoch 2: val_loss improved from 0.92718 to 0.90689, saving model to resnet_model.keras\n",
      "\u001b[1m3399/3399\u001b[0m \u001b[32m━━━━━━━━━━━━━━━━━━━━\u001b[0m\u001b[37m\u001b[0m \u001b[1m130s\u001b[0m 38ms/step - accuracy: 0.5682 - loss: 0.8812 - val_accuracy: 0.5283 - val_loss: 0.9069\n",
      "Epoch 3/5\n",
      "\u001b[1m3398/3399\u001b[0m \u001b[32m━━━━━━━━━━━━━━━━━━━\u001b[0m\u001b[37m━\u001b[0m \u001b[1m0s\u001b[0m 32ms/step - accuracy: 0.5865 - loss: 0.8408\n",
      "Epoch 3: val_loss improved from 0.90689 to 0.81323, saving model to resnet_model.keras\n",
      "\u001b[1m3399/3399\u001b[0m \u001b[32m━━━━━━━━━━━━━━━━━━━━\u001b[0m\u001b[37m\u001b[0m \u001b[1m129s\u001b[0m 38ms/step - accuracy: 0.5865 - loss: 0.8408 - val_accuracy: 0.5619 - val_loss: 0.8132\n",
      "Epoch 4/5\n",
      "\u001b[1m3397/3399\u001b[0m \u001b[32m━━━━━━━━━━━━━━━━━━━\u001b[0m\u001b[37m━\u001b[0m \u001b[1m0s\u001b[0m 32ms/step - accuracy: 0.5951 - loss: 0.8343\n",
      "Epoch 4: val_loss did not improve from 0.81323\n",
      "\u001b[1m3399/3399\u001b[0m \u001b[32m━━━━━━━━━━━━━━━━━━━━\u001b[0m\u001b[37m\u001b[0m \u001b[1m141s\u001b[0m 38ms/step - accuracy: 0.5951 - loss: 0.8343 - val_accuracy: 0.5656 - val_loss: 0.8208\n",
      "Epoch 5/5\n",
      "\u001b[1m3397/3399\u001b[0m \u001b[32m━━━━━━━━━━━━━━━━━━━\u001b[0m\u001b[37m━\u001b[0m \u001b[1m0s\u001b[0m 32ms/step - accuracy: 0.6002 - loss: 0.8318\n",
      "Epoch 5: val_loss improved from 0.81323 to 0.78211, saving model to resnet_model.keras\n",
      "\u001b[1m3399/3399\u001b[0m \u001b[32m━━━━━━━━━━━━━━━━━━━━\u001b[0m\u001b[37m\u001b[0m \u001b[1m144s\u001b[0m 38ms/step - accuracy: 0.6002 - loss: 0.8318 - val_accuracy: 0.5713 - val_loss: 0.7821\n",
      "Model saved to: resnet_model.keras\n"
     ]
    }
   ],
   "source": [
    "\n",
    "model, history = train_or_resume_model(model_resnet50,\n",
    "                                       xu.train_ds, xu.val_ds,\n",
    "                                       model_name=model_name_restnet50,\n",
    "                                       history_name=history_name_restnet50,\n",
    "                                       checkpoint_cb=checkpoint_cb_restnet50)"
   ]
  },
  {
   "cell_type": "code",
   "execution_count": null,
   "metadata": {
    "colab": {
     "base_uri": "https://localhost:8080/",
     "height": 447
    },
    "executionInfo": {
     "elapsed": 296,
     "status": "ok",
     "timestamp": 1752900603069,
     "user": {
      "displayName": "Xuan Nguyen",
      "userId": "14682520608229535871"
     },
     "user_tz": -420
    },
    "id": "hBuQgk8XJZti",
    "outputId": "7bdbc940-bf36-4459-f3df-52bb181fe790"
   },
   "outputs": [
    {
     "data": {
      "text/plain": [
       "[<matplotlib.lines.Line2D at 0x7eed2ee29ad0>]"
      ]
     },
     "execution_count": 20,
     "metadata": {},
     "output_type": "execute_result"
    },
    {
     "data": {
      "image/png": "[encoded data removed]",
      "text/plain": [
       "<Figure size 640x480 with 1 Axes>"
      ]
     },
     "metadata": {},
     "output_type": "display_data"
    }
   ],
   "source": [
    "# plot accrucay by epoch\n",
    "import matplotlib.pyplot as plt\n",
    "plt.plot(history['accuracy'])\n",
    "plt.plot(history['val_accuracy'])\n",
    "plt.plot(history['loss'])\n",
    "plt.plot(history['val_loss'])"
   ]
  },
  {
   "cell_type": "code",
   "execution_count": null,
   "metadata": {
    "id": "fi9IlvpoRaTt"
   },
   "outputs": [],
   "source": []
  }
 ],
 "metadata": {
  "accelerator": "GPU",
  "colab": {
   "authorship_tag": "ABX9TyN0E9aJ1IiudYZ6R8PGiE68",
   "gpuType": "T4",
   "provenance": []
  },
  "kernelspec": {
   "display_name": "Python 3",
   "name": "python3"
  },
  "language_info": {
   "name": "python"
  }
 },
 "nbformat": 4,
 "nbformat_minor": 0
}
